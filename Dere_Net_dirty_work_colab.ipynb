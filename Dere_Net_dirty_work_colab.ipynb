{
  "nbformat": 4,
  "nbformat_minor": 5,
  "metadata": {
    "kernelspec": {
      "display_name": "Python 3 (ipykernel)",
      "language": "python",
      "name": "python3"
    },
    "language_info": {
      "codemirror_mode": {
        "name": "ipython",
        "version": 3
      },
      "file_extension": ".py",
      "mimetype": "text/x-python",
      "name": "python",
      "nbconvert_exporter": "python",
      "pygments_lexer": "ipython3",
      "version": "3.9.6"
    },
    "colab": {
      "name": "Dere-Net dirty work - colab.ipynb",
      "provenance": [],
      "collapsed_sections": [
        "b0AbPeEnw2Sy",
        "ZcbSK3Hw0HsE",
        "af6e0aad"
      ],
      "toc_visible": true,
      "machine_shape": "hm",
      "include_colab_link": true
    },
    "accelerator": "GPU"
  },
  "cells": [
    {
      "cell_type": "markdown",
      "metadata": {
        "id": "view-in-github",
        "colab_type": "text"
      },
      "source": [
        "<a href=\"https://colab.research.google.com/github/insaiyancvk/Dere-Net/blob/main/Dere_Net_dirty_work_colab.ipynb\" target=\"_parent\"><img src=\"https://colab.research.google.com/assets/colab-badge.svg\" alt=\"Open In Colab\"/></a>"
      ]
    },
    {
      "cell_type": "markdown",
      "metadata": {
        "id": "29abe927"
      },
      "source": [
        "## 1. See what data we got"
      ],
      "id": "29abe927"
    },
    {
      "cell_type": "markdown",
      "metadata": {
        "id": "b0AbPeEnw2Sy"
      },
      "source": [
        "## Plot training data\n"
      ],
      "id": "b0AbPeEnw2Sy"
    },
    {
      "cell_type": "code",
      "metadata": {
        "id": "d36177ec"
      },
      "source": [
        "#@title\n",
        "path = \"./waifus/waifus_images/waifus_images_train/Dandere/Kosaki Onodera40.png\"\n",
        "w = cv2.imread(path, 3)\n",
        "RGB_img = cv2.cvtColor(w, cv2.COLOR_BGR2RGB)\n",
        "plt.imshow(RGB_img)"
      ],
      "id": "d36177ec",
      "execution_count": null,
      "outputs": []
    },
    {
      "cell_type": "code",
      "metadata": {
        "id": "6d2f68b0",
        "colab": {
          "base_uri": "https://localhost:8080/"
        },
        "outputId": "69e91472-4553-4cd4-f31c-672654423b84"
      },
      "source": [
        "#@title\n",
        "RGB_img.shape, type(RGB_img)"
      ],
      "id": "6d2f68b0",
      "execution_count": null,
      "outputs": [
        {
          "output_type": "execute_result",
          "data": {
            "text/plain": [
              "((300, 168, 3), numpy.ndarray)"
            ]
          },
          "metadata": {
            "tags": []
          },
          "execution_count": 52
        }
      ]
    },
    {
      "cell_type": "code",
      "metadata": {
        "colab": {
          "base_uri": "https://localhost:8080/",
          "height": 35
        },
        "id": "JdDPXy7tYLEa",
        "outputId": "50866da7-9ef3-4070-b2de-280795974998"
      },
      "source": [
        "#@title\n",
        "TRAIN_PATH"
      ],
      "id": "JdDPXy7tYLEa",
      "execution_count": null,
      "outputs": [
        {
          "output_type": "execute_result",
          "data": {
            "application/vnd.google.colaboratory.intrinsic+json": {
              "type": "string"
            },
            "text/plain": [
              "'waifus\\\\waifus_images\\\\waifus_images_train'"
            ]
          },
          "metadata": {
            "tags": []
          },
          "execution_count": 56
        }
      ]
    },
    {
      "cell_type": "code",
      "metadata": {
        "id": "982cd220"
      },
      "source": [
        "#@title Print 5 images from every class\n",
        "\n",
        "fig, axs = plt.subplots(7,5, figsize=(15,15), constrained_layout=True)\n",
        "fig = plt.figure(figsize=(10,3))\n",
        "\n",
        "for ax, row in zip(axs[:,0], class_list):\n",
        "    ax.set_ylabel(row, rotation=90, fontsize=26)\n",
        "\n",
        "a, b = 0, 0\n",
        "for i in os.listdir(TRAIN_PATH):\n",
        "    imgs = os.listdir(os.path.join(TRAIN_PATH, i))\n",
        "    random.shuffle(imgs)\n",
        "    for j in imgs:\n",
        "        img2 = cv2.imread(os.path.join(TRAIN_PATH, i, j))\n",
        "        try:\n",
        "            img2 = cv2.cvtColor(img2, cv2.COLOR_BGR2RGB)\n",
        "        except:\n",
        "            print(os.path.join(TRAIN_PATH, i, j))\n",
        "            continue\n",
        "        rm = axs[a][b].imshow(img2)\n",
        "        plt.axis('off')\n",
        "        rm.axes.get_xaxis().set_visible(False)\n",
        "#         rm.axes.get_yaxis().set_visible(False)\n",
        "        b+=1\n",
        "        if b>4:\n",
        "            b=0\n",
        "            break\n",
        "    a+=1\n",
        "    if a>6:\n",
        "        break"
      ],
      "id": "982cd220",
      "execution_count": null,
      "outputs": []
    },
    {
      "cell_type": "markdown",
      "metadata": {
        "id": "ad76db4b"
      },
      "source": [
        "**NOTE:** Use image size: 224,224 or 256,256 ~(since we ain't got chad GPUs)~ we do 😏\n"
      ],
      "id": "ad76db4b"
    },
    {
      "cell_type": "markdown",
      "metadata": {
        "id": "ZcbSK3Hw0HsE"
      },
      "source": [
        "## Import stuff\n",
        "- Mount drive, import all tools and activate cuda"
      ],
      "id": "ZcbSK3Hw0HsE"
    },
    {
      "cell_type": "code",
      "metadata": {
        "id": "vdS5lrByzcjR",
        "cellView": "form"
      },
      "source": [
        "#@title Mount drive, import all tools and activate cuda\n",
        "from google.colab import drive\n",
        "drive.mount('/content/drive')\n",
        "\n",
        "import cv2, os, random, time, json\n",
        "import numpy as np\n",
        "import matplotlib.pyplot as plt\n",
        "\n",
        "import torch\n",
        "import torchvision\n",
        "\n",
        "from torch.utils.data import DataLoader\n",
        "from torchvision.utils import make_grid\n",
        "\n",
        "import torch.nn as nn\n",
        "import torch.nn.functional as F\n",
        "import torch.optim as optim\n",
        "import torchvision.transforms as transforms\n",
        "import torchvision.datasets as datasets\n",
        "from torchvision.models.resnet import resnet18\n",
        "\n",
        "from tqdm.notebook import tqdm\n",
        "!pip install -q python-telegram-bot\n",
        "import telegram\n",
        "import warnings\n",
        "warnings.filterwarnings(\"ignore\")\n",
        "\n",
        "device = 'cuda' if torch.cuda.is_available() else 'cpu'\n",
        "print(f\"{device} activated.\")\n",
        "BATCH = 64 #@param {type:\"integer\"}"
      ],
      "id": "vdS5lrByzcjR",
      "execution_count": null,
      "outputs": []
    },
    {
      "cell_type": "code",
      "metadata": {
        "id": "czvB4s344mJZ",
        "cellView": "form"
      },
      "source": [
        "#@title Define a class to send status messages to telegram bot. Available methods: msg(message), pic(path)\n",
        "class send(): \n",
        "\n",
        "  def __init__(self):\n",
        "    f = open ('/content/drive/MyDrive/tel.json', 'r')\n",
        "    self.tel = json.load(f)\n",
        "    f.close()\n",
        "    self.bot = telegram.Bot(token=self.tel['token']) \n",
        "\n",
        "  def msg(self, mesg):\n",
        "    self.bot.sendMessage(chat_id=self.tel['nnboiid'], text=mesg)\n",
        "\n",
        "  def pic(self, path):\n",
        "    self.bot.sendPhoto(chat_id=self.tel['nnboiid'], photo=open(path, 'rb'))"
      ],
      "id": "czvB4s344mJZ",
      "execution_count": 2,
      "outputs": []
    },
    {
      "cell_type": "markdown",
      "metadata": {
        "id": "3AqinxyDuVFk"
      },
      "source": [
        "# Preprocess the data"
      ],
      "id": "3AqinxyDuVFk"
    },
    {
      "cell_type": "markdown",
      "metadata": {
        "id": "CQvMqNitjX1o"
      },
      "source": [
        "## Some image augmentation for the network to generalise better #imp"
      ],
      "id": "CQvMqNitjX1o"
    },
    {
      "cell_type": "code",
      "metadata": {
        "id": "G0yrzXz1Zs8h",
        "colab": {
          "base_uri": "https://localhost:8080/"
        },
        "cellView": "form",
        "outputId": "635d461c-33b0-439f-9897-89935887daa5"
      },
      "source": [
        "#@title Initialize kaggle, download and extract dataset, initialize classes, transform training and validation data, initialize dataloader\n",
        "print(\"Initializing kaggle\")\n",
        "!rm -rf /root/.kaggle && mkdir /root/.kaggle && mkdir /content/waifus && cp /content/drive/MyDrive/kaggle.json . && mv kaggle.json /root/.kaggle/kaggle.json\n",
        "\n",
        "print(\"Downloading the dataset\")\n",
        "!kaggle datasets download jahelsantiagoleon/female-anime-characters-anime-dataset \n",
        "print(\"Extracting the dataset\")\n",
        "!unzip -q female-anime-characters-anime-dataset.zip -d /content/waifus/ \n",
        "\n",
        "print(\"Initializing classes\")\n",
        "\n",
        "class_list = [\n",
        "    'dandere',\n",
        "    'deredere',\n",
        "    'himdere',\n",
        "    'kundere',\n",
        "    'tsundere',\n",
        "    'yandere',\n",
        "    'yangire'\n",
        "]\n",
        "\n",
        "print(\"Creating folders for workspace\")\n",
        "drive = os.path.join(\"drive\",\"MyDrive\")\n",
        "FOLDERS = {\n",
        "    \"WAIFUS\": os.path.join(drive,\"waifus\"),\n",
        "    \"TRAIN\": os.path.join(\"waifus\",\"waifus_images\",\"waifus_images_train\"),\n",
        "    \"TEST\": os.path.join(\"waifus\",\"waifus_images\",\"waifus_images_val\"),\n",
        "    \"WORKSPACE\": os.path.join(drive,\"waifus\",\"Workspace\"),\n",
        "    \"MODELS\" : os.path.join(drive,\"waifus\",\"Workspace\",\"Models\"),\n",
        "    \"PERFORMANCE\" : os.path.join(drive,\"waifus\",\"Workspace\",\"Performance\")\n",
        "}\n",
        "\n",
        "for key in FOLDERS:\n",
        "    if not os.path.isdir(\"./\"+FOLDERS[key]):\n",
        "        print(key,\" directory doesn't exist. Creating one.\")\n",
        "        os.mkdir(\"./\"+FOLDERS[key])\n",
        "        print(key, \" directory created.\")\n",
        "\n",
        "\n",
        "print(\"Initializing the transformations for the waifu data ^^\")\n",
        "transformations = {\n",
        "    \"TRAIN\": transforms.Compose([     \n",
        "              transforms.Resize([256,256]),\n",
        "              transforms.RandomHorizontalFlip(0.8),\n",
        "              # transforms.RandomVerticalFlip(0.8),\n",
        "              # transforms.ColorJitter(brightness=(0.8,1.5)),\n",
        "              transforms.RandomRotation(degrees=(-10,10)),\n",
        "              transforms.ToTensor(),\n",
        "              transforms.Normalize((0.5, 0.5, 0.5), (0.5, 0.5, 0.5))\n",
        "          ]),\n",
        "      \"TEST\": transforms.Compose([\n",
        "              transforms.Resize([256,256]),\n",
        "              transforms.ToTensor(),\n",
        "              transforms.Normalize((0.5, 0.5, 0.5), (0.5, 0.5, 0.5))\n",
        "          ])\n",
        "    }\n",
        "\n",
        "# returns image, label and path of the image\n",
        "# class ImageFolderWithPaths(torchvision.datasets.ImageFolder):    \n",
        "#     def __getitem__(self, index):\n",
        "#         original_tuple = super(ImageFolderWithPaths, self).__getitem__(index)\n",
        "#         path = self.imgs[index][0]\n",
        "#         tuple_with_path = (original_tuple + (path,))\n",
        "#         return tuple_with_path\n",
        "\n",
        "# train_dataset = ImageFolderWithPaths(root=\"./dataset/waifus/waifus_images/waifus_images_train/\", transform = transformations)\n",
        "\n",
        "print(\"Transforming the waifu data\")\n",
        "dataset = {\n",
        "    \"TRAIN\": datasets.ImageFolder(\n",
        "        FOLDERS[\"TRAIN\"],\n",
        "        transform = transformations[\"TRAIN\"]\n",
        "        ),\n",
        "    \"TEST\": datasets.ImageFolder(\n",
        "        FOLDERS[\"TEST\"],\n",
        "        transform = transformations[\"TEST\"]\n",
        "        )\n",
        "    }\n",
        "\n",
        "print(\"Creating dataloaders\")\n",
        "dataloader = {\n",
        "    \"TRAIN\": DataLoader(\n",
        "        dataset[\"TRAIN\"],\n",
        "        batch_size = BATCH,\n",
        "        shuffle = True\n",
        "        ),\n",
        "    \"TEST\": DataLoader(\n",
        "        dataset[\"TEST\"],\n",
        "        batch_size = BATCH,\n",
        "        shuffle = True\n",
        "        )\n",
        "    }\n",
        "\n",
        "# test_dataset = torchvision.datasets.ImageFolder(FOLDERS[\"TEST\"], transform=transformations_test)\n",
        "\n",
        "print(\"Data preprocessing completed.\")"
      ],
      "id": "G0yrzXz1Zs8h",
      "execution_count": 3,
      "outputs": [
        {
          "output_type": "stream",
          "text": [
            "Initializing kaggle\n",
            "Downloading the dataset\n",
            "Downloading female-anime-characters-anime-dataset.zip to /content\n",
            " 99% 687M/693M [00:10<00:00, 55.8MB/s]\n",
            "100% 693M/693M [00:10<00:00, 69.2MB/s]\n",
            "Extracting the dataset\n",
            "Initializing classes\n",
            "Creating folders for workspace\n",
            "Initializing the transformations for the waifu data ^^\n",
            "Transforming the waifu data\n",
            "Creating dataloaders\n",
            "Data preprocessing completed.\n"
          ],
          "name": "stdout"
        }
      ]
    },
    {
      "cell_type": "markdown",
      "metadata": {
        "id": "af6e0aad"
      },
      "source": [
        "## The Model:"
      ],
      "id": "af6e0aad"
    },
    {
      "cell_type": "code",
      "metadata": {
        "id": "6cb615a6",
        "cellView": "form"
      },
      "source": [
        "#@title 3 conv 1 fc\n",
        "class Net(nn.Module):\n",
        "    def __init__(self):\n",
        "        \n",
        "        super(Net, self).__init__()\n",
        "        \n",
        "        self.pool = nn.MaxPool2d(5, 5)\n",
        "        \n",
        "        self.conv1 = nn.Conv2d(3, 6, 7)\n",
        "        self.conv2 = nn.Conv2d(6, 16, 5)\n",
        "        self.conv3 = nn.Conv2d(16, 16, 3)\n",
        "        # self.conv4 = nn.Conv2d(128, 256, 5)\n",
        "        # self.conv5 = nn.Conv2d(256, 512, 5)\n",
        "        # self.conv6 = nn.Conv2d(512, 256, 3)\n",
        "        # self.conv7 = nn.Conv2d(256, 128, 3)\n",
        "        \n",
        "        # self.fc1 = nn.Linear(128, 500)\n",
        "        # self.fc2 = nn.Linear(500, 350)\n",
        "        # self.fc3 = nn.Linear(350, 200)\n",
        "        # self.fc4 = nn.Linear(200, 50)\n",
        "        self.fc1 = nn.Linear(16, 7)\n",
        "\n",
        "    def forward(self, x):\n",
        "        \n",
        "        # Conv layer 1\n",
        "        x = self.conv1(x)\n",
        "        x = F.relu(x)\n",
        "        x = self.pool(x)\n",
        "        \n",
        "        # Conv layer 2\n",
        "        x = self.conv2(x)\n",
        "        x = F.relu(x)\n",
        "        x = self.pool(x)\n",
        "        \n",
        "        # Conv layer 3\n",
        "        x = self.conv3(x)\n",
        "        x = F.relu(x)\n",
        "        x = self.pool(x)\n",
        "\n",
        "        # Conv layer 4\n",
        "        # x = self.conv4(x)\n",
        "        # x = F.relu(x)\n",
        "        # x = self.pool(x)\n",
        "\n",
        "        # # Conv layer 5\n",
        "        # x = self.conv5(x)\n",
        "        # x = F.relu(x)\n",
        "        # x = self.pool(x)\n",
        "\n",
        "        # # Conv layer 6\n",
        "        # x = self.conv6(x)\n",
        "        # x = F.relu(x)\n",
        "        # x = self.pool(x)\n",
        "\n",
        "        # # Conv layer 7\n",
        "        # x = self.conv7(x)\n",
        "        # x = F.relu(x)\n",
        "        # x = self.pool(x)\n",
        "\n",
        "        # print(\"Tensor shape: \",x.shape)\n",
        "        \n",
        "        # Flatten the batch\n",
        "        x = x.view(x.size(0),-1)\n",
        "        #print(x.shape)\n",
        "        \n",
        "        # Dense layer 1\n",
        "        # x = F.relu(self.fc1(x))\n",
        "        # # # 2\n",
        "        # x = F.relu(self.fc2(x))\n",
        "        # # # 3\n",
        "        # x = F.relu(self.fc3(x))\n",
        "        # # # 4\n",
        "        # x = F.relu(self.fc4(x))\n",
        "        # 5\n",
        "        x = self.fc1(x)\n",
        "        \n",
        "        return x"
      ],
      "id": "6cb615a6",
      "execution_count": null,
      "outputs": []
    },
    {
      "cell_type": "code",
      "metadata": {
        "id": "6Y2JvqaCZaQ-",
        "cellView": "form"
      },
      "source": [
        "#@title Pass an image to the model\n",
        "net = Net()\n",
        "items = iter(dataloader[\"TRAIN\"])\n",
        "image, label = items.next()\n",
        "preds = net(image[0].unsqueeze(0))"
      ],
      "id": "6Y2JvqaCZaQ-",
      "execution_count": null,
      "outputs": []
    },
    {
      "cell_type": "code",
      "metadata": {
        "id": "RKwNfssCpyAp",
        "colab": {
          "base_uri": "https://localhost:8080/"
        },
        "cellView": "form",
        "outputId": "b09e79e1-77b9-4017-ea17-e0157e297f7c"
      },
      "source": [
        "#@title Print Network parameters\n",
        "# for name, param in net.named_parameters():\n",
        "#     print(name,'\\t\\t', param.shape)\n",
        "Net().eval()"
      ],
      "id": "RKwNfssCpyAp",
      "execution_count": null,
      "outputs": [
        {
          "output_type": "execute_result",
          "data": {
            "text/plain": [
              "Net(\n",
              "  (pool): MaxPool2d(kernel_size=5, stride=5, padding=0, dilation=1, ceil_mode=False)\n",
              "  (conv1): Conv2d(3, 6, kernel_size=(7, 7), stride=(1, 1))\n",
              "  (conv2): Conv2d(6, 16, kernel_size=(5, 5), stride=(1, 1))\n",
              "  (conv3): Conv2d(16, 16, kernel_size=(3, 3), stride=(1, 1))\n",
              "  (fc1): Linear(in_features=16, out_features=7, bias=True)\n",
              ")"
            ]
          },
          "metadata": {
            "tags": []
          },
          "execution_count": 8
        }
      ]
    },
    {
      "cell_type": "code",
      "metadata": {
        "id": "2ed06e08",
        "cellView": "form"
      },
      "source": [
        "#@title\n",
        "# Testing if all the parameters of the NN are set properly\n",
        "testitems = iter(dataloader[\"TEST\"])\n",
        "testimage, testlabel = testitems.next()\n",
        "x = net(testimage[0].unsqueeze(0))\n",
        "# print(x.shape)\n",
        "f = plt.imshow(np.transpose(testimage[0], (1,2,0)));\n",
        "f.axes.get_xaxis().set_visible(False)\n",
        "f.axes.get_yaxis().set_visible(False)\n",
        "plt.title(\n",
        "    \"Predicted: \"+class_list[x.cpu().data.numpy().argmax()]+\"\\n\"+\"Actual: \"+class_list[testlabel[0].item()+1],\n",
        "    loc='center'\n",
        ");"
      ],
      "id": "2ed06e08",
      "execution_count": null,
      "outputs": []
    },
    {
      "cell_type": "markdown",
      "metadata": {
        "id": "fe855d53"
      },
      "source": [
        "## Steps\n",
        "- pass imgae to the NN\n",
        "- calculate loss\n",
        "- backprop\n",
        "- update weights"
      ],
      "id": "fe855d53"
    },
    {
      "cell_type": "code",
      "metadata": {
        "id": "13ee2de9",
        "cellView": "form"
      },
      "source": [
        "#@title\n",
        "def train_step(model, images, labels, loss_func, optim, device):\n",
        "    \n",
        "    # Set the gradiant values to zero because torch accumulates the values\n",
        "    optim.zero_grad()\n",
        "    \n",
        "    # Predictions from the model\n",
        "    outputs = model(images.to(device))\n",
        "    \n",
        "    # Calculate the loss\n",
        "    loss = loss_func(outputs, labels.to(device))\n",
        "    \n",
        "    # Finds the derivative by applying chain rule\n",
        "    loss.backward()\n",
        "    \n",
        "    # Move the loss function towards the local/global minima\n",
        "    optim.step()\n",
        "    \n",
        "    # return the outputs and loss by moving them to CPU\n",
        "    return outputs.cpu().detach().numpy(), loss.cpu().item()"
      ],
      "id": "13ee2de9",
      "execution_count": null,
      "outputs": []
    },
    {
      "cell_type": "code",
      "metadata": {
        "id": "189feb1e",
        "cellView": "form"
      },
      "source": [
        "#@title\n",
        "def epoch(model, train_loader, loss_func, optim, device):\n",
        "    mean_loss = 0\n",
        "    model = model.to(device)\n",
        "    for image, label in tqdm(train_loader):\n",
        "        loss = train_step(model, image, label, loss_func, optim, device)\n",
        "        mean_loss += loss/len(train_loader)\n",
        "    return mean_loss"
      ],
      "id": "189feb1e",
      "execution_count": null,
      "outputs": []
    },
    {
      "cell_type": "markdown",
      "metadata": {
        "id": "5581ab57"
      },
      "source": [
        "5. Build a training loop\n",
        "    1. Move to GPU\n",
        "    2. Define the training function\n",
        "    3. Calculate the running loss and store the same in list and later convert to np array and save the np array.\n",
        "    4. Calculate the accuracy after every batch. Calculate the average of same and store the values in a list \n",
        "       and later convert it to np array and save theh np array.\n",
        "    5. After every epoch, test the model loss and accuracy \n",
        "       (by following the same steps as done for training ie, move to list, convert to np array, save the np array) with the test data.\n"
      ],
      "id": "5581ab57"
    },
    {
      "cell_type": "code",
      "metadata": {
        "id": "q6ODPoX3jMTJ",
        "cellView": "form"
      },
      "source": [
        "#@title Epoch function #imp (must run)\n",
        "def epoch(model, test_loader ,train_loader, loss_func, optim, device):\n",
        "\n",
        "  test_loss = 0\n",
        "  test_accuracy = 0\n",
        "  train_loss = 0\n",
        "  train_accuracy = 0\n",
        "\n",
        "  model = model.to(device)\n",
        "\n",
        "  print(\"\\t\\tTraining the Neural Network\")\n",
        "  model.train()\n",
        "  for image, label in tqdm(train_loader):\n",
        "      optim.zero_grad()      \n",
        "      output = model(image.to(device))\n",
        "      loss = loss_func(\n",
        "        output,\n",
        "        label.to(device)\n",
        "        )\n",
        "      loss.backward()\n",
        "      optim.step()\n",
        "\n",
        "      accuracy = np.average(\n",
        "            np.argmax(\n",
        "              output.cpu().detach().numpy(), axis=1) == label.cpu().detach().numpy()\n",
        "        )\n",
        "\n",
        "      train_loss += loss.item()/len(train_loader) # training average loss\n",
        "      train_accuracy += accuracy/len(train_loader) # training average accuracy\n",
        "   \n",
        "  print(\"\\t\\tValidating Neural Network\")\n",
        "  model.eval()\n",
        "\n",
        "  for image, label in tqdm(test_loader):\n",
        "\n",
        "      output = model(image.to(device))\n",
        "      loss = loss_func(\n",
        "        output,\n",
        "        label.to(device)\n",
        "      )\n",
        "      \n",
        "      accuracy = np.average(\n",
        "        np.argmax(\n",
        "            output.cpu().detach().numpy(), axis=1) == label.cpu().detach().numpy()\n",
        "        )\n",
        "\n",
        "      test_loss += loss.item()/len(test_loader) # Validation average loss\n",
        "      test_accuracy += accuracy/len(test_loader) # Validation average accuracy\n",
        "\n",
        "  return (\n",
        "\n",
        "    # TRAIN LOSS\n",
        "    train_loss,\n",
        "\n",
        "    # TRAIN ACCURACY\n",
        "    train_accuracy,\n",
        "\n",
        "    # TEST LOSS, ACCURACY\n",
        "    test_loss,\n",
        "    test_accuracy\n",
        "  )"
      ],
      "id": "q6ODPoX3jMTJ",
      "execution_count": 4,
      "outputs": []
    },
    {
      "cell_type": "code",
      "metadata": {
        "id": "Y6-njHjA3f_Z",
        "cellView": "form"
      },
      "source": [
        "#@title Model Hyperparameters #imp\n",
        "EPOCH =  5#@param {type:\"integer\"}\n",
        "MOMENTUM = 0.9 #@param {type:\"number\"}\n",
        "# Change LR dynamically\n",
        "# LR = 0.015 #@param {type:\"number\"}"
      ],
      "id": "Y6-njHjA3f_Z",
      "execution_count": 5,
      "outputs": []
    },
    {
      "cell_type": "code",
      "metadata": {
        "id": "C635O7RcHDjo",
        "cellView": "form"
      },
      "source": [
        "#@title Load one of the saved models\n",
        "# LRs = [0.015]\n",
        "# its = [i for i in range(0,EPOCH,EPOCH//len(LRs))]\n",
        "# net =  Net()\n",
        "# net = net.to(device)\n",
        "# print(\"Loading the previously saved model\")\n",
        "# net.load_state_dict(torch.load(\"/content/drive/MyDrive/waifus/Workspace/Models/64bat20epochLR015.pth\"))"
      ],
      "id": "C635O7RcHDjo",
      "execution_count": null,
      "outputs": []
    },
    {
      "cell_type": "code",
      "metadata": {
        "id": "SvmSL1dd3Vqf",
        "cellView": "form"
      },
      "source": [
        "#@title training loop of 3conv 1fc\n",
        "# LRs = [0.15, 0.015, 0.0015, 0.001]\n",
        "LRs = [0.015]\n",
        "its = [i for i in range(0,EPOCH,EPOCH//len(LRs))]\n",
        "net =  Net()\n",
        "net = net.to(device)\n",
        "loss_func = nn.CrossEntropyLoss()\n",
        "optimizer = optim.SGD(net.parameters(), lr=LRs[0], momentum=MOMENTUM)\n",
        "NAME = f\"{BATCH}bat{EPOCH}epochLR{str(str(optimizer.param_groups[0]['lr']).replace('0.','')).replace('0.','')}\"\n",
        "\n",
        "train_loss_vals = []\n",
        "train_accuracy_vals = []\n",
        "test_loss_vals = []\n",
        "test_accuracy_vals = []\n",
        "\n",
        "start = time.time()\n",
        "for ep in range(EPOCH):\n",
        "  messages = ['']\n",
        "  if ep in its:\n",
        "\n",
        "    print(f\"Setting LR to {LRs[its.index(ep)]}\")\n",
        "    messages[0] += f\"Setting LR to {LRs[its.index(ep)]}\" # for telegram\n",
        "\n",
        "    optimizer.param_groups[0]['lr'] = LRs[its.index(ep)]\n",
        "\n",
        "  print(f\"Epoch: {ep+1}/{EPOCH}\\nLR: {optimizer.param_groups[0]['lr']}\")\n",
        "  messages[0] += f\"\\nEpoch: {ep+1}/{EPOCH}\\nLR: {optimizer.param_groups[0]['lr']}\" # for telegram\n",
        "\n",
        "  vals = epoch(net, dataloader[\"TEST\"], dataloader[\"TRAIN\"], loss_func, optimizer, device)\n",
        "  train_loss_vals.append(vals[0])\n",
        "  train_accuracy_vals.append(vals[1])\n",
        "  test_loss_vals.append(vals[2])\n",
        "  test_accuracy_vals.append(vals[3])\n",
        "\n",
        "  print(f\"Loss: {test_loss_vals[-1]:.3f} Accuracy: {test_accuracy_vals[-1]:.3f}\")\n",
        "  messages[0] += f\"\\nLoss: {test_loss_vals[-1]:.3f} Accuracy: {test_accuracy_vals[-1]:.3f}\" # for telegram\n",
        "  print(f\"Time: {(time.time()-start)/60:.2f} min(s)\")\n",
        "  messages[0] += f\"\\nTime elapsed: {(time.time()-start)/60:.2f} min(s)\" # for telegram\n",
        "  \n",
        "  if len(test_loss_vals)>2:\n",
        "    if all(x > test_loss_vals[-1] for x in test_loss_vals[:-1]):\n",
        "    # if test_loss_vals[-2]>test_loss_vals[-1]:\n",
        "      model_name = os.path.join(FOLDERS[\"MODELS\"],f\"{NAME}.pth\")\n",
        "      \n",
        "      print(f\"Saving the model to {model_name}\\n\")\n",
        "      messages[0] += f\"\\nSaving the model to {model_name}\" # for telegram\n",
        "\n",
        "      torch.save(net.state_dict(),model_name)\n",
        "  telegram_send.send(messages=messages)\n",
        "  telegram_send.send(messages=['———————————————————————'])\n",
        "\n",
        "print(f\"Total time taken to train for {EPOCH} epochs: {(time.time()-start)/60:.2f} min(s)\")\n",
        "telegram_send.send(messages=[f\"Total time taken to train for {EPOCH} epochs: {(time.time()-start)/60:.2f} min(s)\"])"
      ],
      "id": "SvmSL1dd3Vqf",
      "execution_count": null,
      "outputs": []
    },
    {
      "cell_type": "code",
      "metadata": {
        "id": "KWsaxF71HuPP",
        "cellView": "form"
      },
      "source": [
        "#@title Plot performance. Train, test loss and accuracy\n",
        "fig, a = plt.subplots(2,2, squeeze=False, figsize=(14,7))\n",
        "a[0][0].plot(train_loss_vals)\n",
        "a[0][0].set_title(\"Train Loss\")\n",
        "a[0][0].grid(True)\n",
        "a[0][1].plot(train_accuracy_vals)\n",
        "a[0][1].set_title(\"Train accuracy\")\n",
        "a[0][1].grid(True)\n",
        "a[1][0].plot(test_loss_vals)\n",
        "a[1][0].set_title(\"Test loss\")\n",
        "a[1][0].grid(True)\n",
        "a[1][1].plot(test_accuracy_vals)\n",
        "a[1][1].set_title(\"Test accuracy\")\n",
        "a[1][1].grid(True)\n",
        "fig.suptitle(f\"{BATCH}/batch, {EPOCH} Epochs, LR: {str(optimizer.param_groups[0]['lr']).replace('0.','')}, Momentum: {MOMENTUM}\\nArch: 3CONV 1FC MaxP2D(5,5) ReLU activation\\n\")\n",
        "plt.show()\n",
        "performanceplot = f\"{FOLDERS['PERFORMANCE']}/{NAME}.jpg\"\n",
        "fig.savefig(performanceplot)\n",
        "send().pic(performanceplot)"
      ],
      "id": "KWsaxF71HuPP",
      "execution_count": null,
      "outputs": []
    },
    {
      "cell_type": "code",
      "metadata": {
        "id": "b48c5658",
        "cellView": "form"
      },
      "source": [
        "#@title Save a model to resume later (_snippet_)\n",
        "# Save the model\n",
        "torch.save({\n",
        "    'epoch': EPOCH,\n",
        "    'model_state_dict': net.state_dict(),\n",
        "    'optimizer_state_dict': optimizer.state_dict(),\n",
        "    'loss': LOSS\n",
        "}, \n",
        "    PATH+MODEL1)"
      ],
      "id": "b48c5658",
      "execution_count": null,
      "outputs": []
    },
    {
      "cell_type": "code",
      "metadata": {
        "id": "b6b2af55",
        "cellView": "form"
      },
      "source": [
        "#@title Load a saved model to resume (_snippet_)\n",
        "# Load the saved model\n",
        "checkpoint = torch.load(PATH+MODEL1)\n",
        "net.load_state_dict(checkpoint['model_state_dict'])\n",
        "optimizer.load_state_dict(checkpoint['optimizer_state_dict'])"
      ],
      "id": "b6b2af55",
      "execution_count": null,
      "outputs": []
    },
    {
      "cell_type": "code",
      "metadata": {
        "id": "0WKpyBOe-x-d",
        "cellView": "form"
      },
      "source": [
        "#@title Compare two performance graphs\n",
        "LR0015graph = cv2.imread(\"/content/drive/MyDrive/waifus/Workspace/Performance/15epoch(.0015LR).jpg\")\n",
        "LR015graph = cv2.imread(\"/content/drive/MyDrive/waifus/Workspace/Performance/15epochLR015.jpg\")\n",
        "LRfig, LRaxs = plt.subplots(2, figsize=(14,16));\n",
        "LRaxs[0].imshow(LR0015graph)\n",
        "LRaxs[1].imshow(LR015graph)\n",
        "LRaxs[0].axis(\"off\")\n",
        "LRaxs[1].axis(\"off\")"
      ],
      "id": "0WKpyBOe-x-d",
      "execution_count": null,
      "outputs": []
    },
    {
      "cell_type": "markdown",
      "metadata": {
        "id": "ZFga9758_biw"
      },
      "source": [
        "## To improve the model, try these first:\n",
        "\n",
        "- Add some filters to data\n",
        "- Change batch size\n",
        "- Change Learning rate\n",
        "- Change momentum\n",
        "- Try changing the NN architecture.\n",
        "- Finally, try transfer learning (usually works like a charm)"
      ],
      "id": "ZFga9758_biw"
    },
    {
      "cell_type": "markdown",
      "metadata": {
        "id": "NeO-13_8H3Pm"
      },
      "source": [
        "# Same stuff but with ResNet-18"
      ],
      "id": "NeO-13_8H3Pm"
    },
    {
      "cell_type": "code",
      "metadata": {
        "id": "-lw9h4r0H5ZW",
        "cellView": "form"
      },
      "source": [
        "#@title Load pretrained ResNet18 and move it to available \"device\"\n",
        "# from torchvision.models.resnet import resnet18 \n",
        "# resnet = resnet18(pretrained=False)\n",
        "# model = torch.hub.load('pytorch/vision:v0.10.0', 'resnet34', pretrained=True)\n",
        "# model = torch.hub.load('pytorch/vision:v0.10.0', 'resnet50', pretrained=True)\n",
        "# model = torch.hub.load('pytorch/vision:v0.10.0', 'resnet101', pretrained=True)\n",
        "# model = torch.hub.load('pytorch/vision:v0.10.0', 'resnet152', pretrained=True)\n",
        "# resnet.eval()\n",
        "# resnet = resnet.to(device)"
      ],
      "id": "-lw9h4r0H5ZW",
      "execution_count": null,
      "outputs": []
    },
    {
      "cell_type": "code",
      "metadata": {
        "id": "Y4epH99VQymF",
        "cellView": "form"
      },
      "source": [
        "#@title Add another FC layer connected to number of classes\n",
        "# num_ftrs = resnet.fc.in_features\n",
        "# resnet.fc = nn.Linear(num_ftrs,7)\n",
        "# resnet.fc = resnet.fc.cuda()"
      ],
      "id": "Y4epH99VQymF",
      "execution_count": null,
      "outputs": []
    },
    {
      "cell_type": "code",
      "metadata": {
        "id": "bMPg_cjr5Mpt",
        "cellView": "form"
      },
      "source": [
        "#@title Verifying if the loaded model is _really_ loaded by checking the weights of last layer\n",
        "# for param in resnet.parameters():\n",
        "#   print(param)"
      ],
      "id": "bMPg_cjr5Mpt",
      "execution_count": 6,
      "outputs": []
    },
    {
      "cell_type": "code",
      "metadata": {
        "id": "Oj1WV4ARTp31"
      },
      "source": [
        "done = False\n",
        "LRs = [0.015]\n",
        "its = [i for i in range(0,EPOCH,EPOCH//len(LRs))]\n",
        "\n",
        "resnet = resnet18(pretrained=False)\n",
        "resnet.fc = nn.Linear(resnet.fc.in_features,7)\n",
        "resnet.load_state_dict(torch.load(\"/content/drive/MyDrive/waifus/Workspace/Models/RESNET1864bat20epochLR015.pth\"))\n",
        "resnet = resnet.to(device)\n",
        "print(\"RESNET18 INITIALIZED\")\n",
        "send().msg(\"RESNET18 INITIALIZED\")\n",
        "\n",
        "loss_func = nn.CrossEntropyLoss()\n",
        "optimizer = optim.SGD(resnet.parameters(), lr=LRs[0], momentum=MOMENTUM)\n",
        "NAME = f\"RESNET18{BATCH}bat{EPOCH}epochLR{str(str(optimizer.param_groups[0]['lr']).replace('0.','')).replace('0.','')}\"\n",
        "\n",
        "train_loss_vals = []\n",
        "train_accuracy_vals = []\n",
        "test_loss_vals = []\n",
        "test_accuracy_vals = []\n",
        "\n",
        "start = time.time()\n",
        "for ep in range(EPOCH):\n",
        "  messages = ''\n",
        "  if ep in its:\n",
        "\n",
        "    print(f\"Setting LR to {LRs[its.index(ep)]}\")\n",
        "    messages += f\"Setting LR to {LRs[its.index(ep)]}\" # for telegram\n",
        "\n",
        "    optimizer.param_groups[0]['lr'] = LRs[its.index(ep)]\n",
        "\n",
        "  print(f\"Epoch: {ep+1}/{EPOCH}\\nLR: {optimizer.param_groups[0]['lr']}\")\n",
        "  messages += f\"\\nEpoch: {ep+1}/{EPOCH}\\nLR: {optimizer.param_groups[0]['lr']}\" # for telegram\n",
        "\n",
        "  vals = epoch(resnet, dataloader[\"TEST\"], dataloader[\"TRAIN\"], loss_func, optimizer, device)\n",
        "  train_loss_vals.append(vals[0])\n",
        "  train_accuracy_vals.append(vals[1])\n",
        "  test_loss_vals.append(vals[2])\n",
        "  test_accuracy_vals.append(vals[3])\n",
        "\n",
        "  print(f\"Loss: {test_loss_vals[-1]:.3f} Accuracy: {test_accuracy_vals[-1]:.3f}\")\n",
        "  messages += f\"\\nLoss: {test_loss_vals[-1]:.3f} Accuracy: {test_accuracy_vals[-1]:.3f}\" # for telegram\n",
        "  print(f\"Time: {(time.time()-start)/60:.2f} min(s)\")\n",
        "  messages += f\"\\nTime elapsed: {(time.time()-start)/60:.2f} min(s)\" # for telegram\n",
        "  \n",
        "  if len(test_loss_vals)>2:\n",
        "    if all(x > test_loss_vals[-1] for x in test_loss_vals[:-1]):\n",
        "    # if test_loss_vals[-2]>test_loss_vals[-1]:\n",
        "      model_name = os.path.join(FOLDERS[\"MODELS\"],f\"{NAME}.pth\")\n",
        "      \n",
        "      print(f\"Improvement detected. Saving the model\\n\")\n",
        "      messages += f\"\\nImprovement detected. Saving the model\" # for telegram\n",
        "\n",
        "      torch.save(resnet.state_dict(),model_name)\n",
        "  send().msg(messages)\n",
        "  send().msg('———————————————————————')\n",
        "\n",
        "print(f\"Total time taken to train for {EPOCH} epochs on ResNet18: {(time.time()-start)/60:.2f} min(s)\")\n",
        "send().msg(f\"Total time taken to train for {EPOCH} epochs ResNet18: {(time.time()-start)/60:.2f} min(s)\")\n",
        "print(f\"{max(train_accuracy_vals)*100:.2f}% highest train accuracy at {train_accuracy_vals.index(max(train_accuracy_vals))} epoch and {max(test_accuracy_vals)*100:.2f}% highest test accuracy at {test_accuracy_vals.index(max(test_accuracy_vals))} epoch\")\n",
        "send().msg(f\"{max(train_accuracy_vals)*100:.2f}% highest train accuracy at {train_accuracy_vals.index(max(train_accuracy_vals))} epoch and {max(test_accuracy_vals)*100:.2f}% highest test accuracy at {test_accuracy_vals.index(max(test_accuracy_vals))} epoch\")\n",
        "done = True"
      ],
      "id": "Oj1WV4ARTp31",
      "execution_count": null,
      "outputs": []
    },
    {
      "cell_type": "code",
      "metadata": {
        "id": "R1wRFykCUSQw",
        "cellView": "form"
      },
      "source": [
        "#@title Plot ResNet performance\n",
        "fig, a = plt.subplots(2,2, squeeze=False, figsize=(14,7))\n",
        "a[0][0].plot(train_loss_vals)\n",
        "a[0][0].set_title(\"Train Loss\")\n",
        "a[0][0].grid(True)\n",
        "a[0][1].plot(train_accuracy_vals)\n",
        "a[0][1].set_title(\"Train accuracy\")\n",
        "a[0][1].grid(True)\n",
        "a[1][0].plot(test_loss_vals)\n",
        "a[1][0].set_title(\"Test loss\")\n",
        "a[1][0].grid(True)\n",
        "a[1][1].plot(test_accuracy_vals)\n",
        "a[1][1].set_title(\"Test accuracy\")\n",
        "a[1][1].grid(True)\n",
        "fig.suptitle(f\"RESNET18 {BATCH}/batch, {EPOCH} Epochs, LR: {str(optimizer.param_groups[0]['lr']).replace('0.','')}, Momentum: {MOMENTUM}\\nArch: 3CONV 1FC MaxP2D(5,5) ReLU activation\\n\")\n",
        "plt.show()\n",
        "performanceplot = f\"{FOLDERS['PERFORMANCE']}/{NAME}.jpg\"\n",
        "fig.savefig(performanceplot)\n",
        "send().pic(performanceplot)"
      ],
      "id": "R1wRFykCUSQw",
      "execution_count": null,
      "outputs": []
    },
    {
      "cell_type": "code",
      "metadata": {
        "id": "_jZmKTCzUTy-"
      },
      "source": [
        "print(\"Putting the colab runtime instance on hold\")\n",
        "send().msg(\"Colab instance on hold\")\n",
        "if done: time.sleep(600)"
      ],
      "id": "_jZmKTCzUTy-",
      "execution_count": null,
      "outputs": []
    },
    {
      "cell_type": "markdown",
      "metadata": {
        "id": "DM5ulNCxvNm6"
      },
      "source": [
        "# Test the model on random images"
      ],
      "id": "DM5ulNCxvNm6"
    },
    {
      "cell_type": "code",
      "metadata": {
        "colab": {
          "base_uri": "https://localhost:8080/",
          "height": 297
        },
        "id": "3cDlNUH7TSSi",
        "outputId": "de6d03c9-2c15-461c-ab27-d97b90828d45"
      },
      "source": [
        "#@title Test on waifu images from internet\n",
        "'''\n",
        "Steps:\n",
        "  1. Resize to 256x256\n",
        "  2. Convert it to Tensor\n",
        "  3. Normalize pixel values\n",
        "  4. Pass the Tensor to the model\n",
        "  5. Find the position of max value returned from the NN\n",
        "  6. Check the class of the input\n",
        "  7. Print the Prediction\n",
        "'''\n",
        "from torchvision import transforms as transforms\n",
        "from torchvision.models import resnet18\n",
        "import torch.nn as nn\n",
        "import numpy as np\n",
        "import matplotlib.pyplot as plt\n",
        "import requests, torch, warnings\n",
        "warnings.filterwarnings(\"ignore\")\n",
        "from PIL import Image\n",
        "\n",
        "class_list = [\n",
        "    'dandere',\n",
        "    'deredere',\n",
        "    'himdere',\n",
        "    'kuudere',\n",
        "    'tsundere',\n",
        "    'yandere',\n",
        "    'yangire'\n",
        "]\n",
        "\n",
        "resnet = resnet18(pretrained=False)\n",
        "resnet.fc = nn.Linear(resnet.fc.in_features,7)\n",
        "resnet.load_state_dict(torch.load(\"/content/drive/MyDrive/waifus/Workspace/Models/RESNET1864bat20epochLR015.pth\"))\n",
        "transform = transforms.Compose([\n",
        "    transforms.Resize([256,256]),\n",
        "    transforms.ToTensor(),\n",
        "    transforms.Normalize((0.5, 0.5, 0.5), (0.5, 0.5, 0.5))\n",
        "])\n",
        "img_url = \"https://honeysanime.com/wp-content/uploads/2016/06/Hinata-naruto-Capture.jpg\" #@param {type:\"string\"}\n",
        "# img_obj = urllib.urlopen(img_url)\n",
        "img = Image.open(requests.get(img_url, stream=True).raw)\n",
        "img_processed = transform(img)\n",
        "preds = resnet(img_processed.unsqueeze(0))\n",
        "preds = preds.cpu().data.numpy()\n",
        "f = plt.imshow(img)\n",
        "f.axes.get_xaxis().set_visible(False)\n",
        "f.axes.get_yaxis().set_visible(False)\n",
        "pred = ''\n",
        "idx = np.argsort(preds[0])\n",
        "idx = idx.tolist()\n",
        "\n",
        "if type(preds) != list:\n",
        "  preds = preds.tolist()\n",
        "for i in idx[::-1][:3]:\n",
        "  pred+= f\"{class_list[i]} {(preds[0][i]/preds[0][idx[-1]])*100:.2f}%\\n\"\n",
        "plt.title(\n",
        "    pred,\n",
        "    loc='center'\n",
        ");\n"
      ],
      "id": "3cDlNUH7TSSi",
      "execution_count": 83,
      "outputs": [
        {
          "output_type": "display_data",
          "data": {
            "image/png": "[encoded data removed]",
            "text/plain": [
              "<Figure size 432x288 with 1 Axes>"
            ]
          },
          "metadata": {
            "tags": [],
            "needs_background": "light"
          }
        }
      ]
    },
    {
      "cell_type": "code",
      "metadata": {
        "id": "DOsYhX38w_hP"
      },
      "source": [
        ""
      ],
      "id": "DOsYhX38w_hP",
      "execution_count": null,
      "outputs": []
    }
  ]
}