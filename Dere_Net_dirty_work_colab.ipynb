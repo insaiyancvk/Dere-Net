{
  "nbformat": 4,
  "nbformat_minor": 5,
  "metadata": {
    "kernelspec": {
      "display_name": "Python 3 (ipykernel)",
      "language": "python",
      "name": "python3"
    },
    "language_info": {
      "codemirror_mode": {
        "name": "ipython",
        "version": 3
      },
      "file_extension": ".py",
      "mimetype": "text/x-python",
      "name": "python",
      "nbconvert_exporter": "python",
      "pygments_lexer": "ipython3",
      "version": "3.9.6"
    },
    "colab": {
      "name": "Dere-Net dirty work - colab.ipynb",
      "provenance": [],
      "collapsed_sections": [
        "b0AbPeEnw2Sy"
      ],
      "toc_visible": true,
      "include_colab_link": true
    },
    "accelerator": "GPU",
    "widgets": {
      "application/vnd.jupyter.widget-state+json": {
        "2a61a4c5310b4ffcb61537a31f2e5c11": {
          "model_module": "@jupyter-widgets/controls",
          "model_name": "HBoxModel",
          "state": {
            "_view_name": "HBoxView",
            "_dom_classes": [],
            "_model_name": "HBoxModel",
            "_view_module": "@jupyter-widgets/controls",
            "_model_module_version": "1.5.0",
            "_view_count": null,
            "_view_module_version": "1.5.0",
            "box_style": "",
            "layout": "IPY_MODEL_9f0a740f1231460390d668e751c0f738",
            "_model_module": "@jupyter-widgets/controls",
            "children": [
              "IPY_MODEL_5567f3bd5c7a4e7399a8aa1423781653",
              "IPY_MODEL_578f84b7355348f2ad70c76870cc55a3",
              "IPY_MODEL_fc2a1536934643089a387baba59b2f60"
            ]
          }
        },
        "9f0a740f1231460390d668e751c0f738": {
          "model_module": "@jupyter-widgets/base",
          "model_name": "LayoutModel",
          "state": {
            "_view_name": "LayoutView",
            "grid_template_rows": null,
            "right": null,
            "justify_content": null,
            "_view_module": "@jupyter-widgets/base",
            "overflow": null,
            "_model_module_version": "1.2.0",
            "_view_count": null,
            "flex_flow": null,
            "width": null,
            "min_width": null,
            "border": null,
            "align_items": null,
            "bottom": null,
            "_model_module": "@jupyter-widgets/base",
            "top": null,
            "grid_column": null,
            "overflow_y": null,
            "overflow_x": null,
            "grid_auto_flow": null,
            "grid_area": null,
            "grid_template_columns": null,
            "flex": null,
            "_model_name": "LayoutModel",
            "justify_items": null,
            "grid_row": null,
            "max_height": null,
            "align_content": null,
            "visibility": null,
            "align_self": null,
            "height": null,
            "min_height": null,
            "padding": null,
            "grid_auto_rows": null,
            "grid_gap": null,
            "max_width": null,
            "order": null,
            "_view_module_version": "1.2.0",
            "grid_template_areas": null,
            "object_position": null,
            "object_fit": null,
            "grid_auto_columns": null,
            "margin": null,
            "display": null,
            "left": null
          }
        },
        "5567f3bd5c7a4e7399a8aa1423781653": {
          "model_module": "@jupyter-widgets/controls",
          "model_name": "HTMLModel",
          "state": {
            "_view_name": "HTMLView",
            "style": "IPY_MODEL_baebae09c071414f8dc70c5bd1ab83a3",
            "_dom_classes": [],
            "description": "",
            "_model_name": "HTMLModel",
            "placeholder": "​",
            "_view_module": "@jupyter-widgets/controls",
            "_model_module_version": "1.5.0",
            "value": "100%",
            "_view_count": null,
            "_view_module_version": "1.5.0",
            "description_tooltip": null,
            "_model_module": "@jupyter-widgets/controls",
            "layout": "IPY_MODEL_6945944eb6fa4d28b26100a15c965f7e"
          }
        },
        "578f84b7355348f2ad70c76870cc55a3": {
          "model_module": "@jupyter-widgets/controls",
          "model_name": "FloatProgressModel",
          "state": {
            "_view_name": "ProgressView",
            "style": "IPY_MODEL_c68c1a5f0ed04146982a5bf00ee0ad8f",
            "_dom_classes": [],
            "description": "",
            "_model_name": "FloatProgressModel",
            "bar_style": "success",
            "max": 871,
            "_view_module": "@jupyter-widgets/controls",
            "_model_module_version": "1.5.0",
            "value": 871,
            "_view_count": null,
            "_view_module_version": "1.5.0",
            "orientation": "horizontal",
            "min": 0,
            "description_tooltip": null,
            "_model_module": "@jupyter-widgets/controls",
            "layout": "IPY_MODEL_1d73ab138682498b857fea9deede8952"
          }
        },
        "fc2a1536934643089a387baba59b2f60": {
          "model_module": "@jupyter-widgets/controls",
          "model_name": "HTMLModel",
          "state": {
            "_view_name": "HTMLView",
            "style": "IPY_MODEL_848156fdbc014c418e9fb7b9b2d2d477",
            "_dom_classes": [],
            "description": "",
            "_model_name": "HTMLModel",
            "placeholder": "​",
            "_view_module": "@jupyter-widgets/controls",
            "_model_module_version": "1.5.0",
            "value": " 871/871 [01:35&lt;00:00,  8.92it/s]",
            "_view_count": null,
            "_view_module_version": "1.5.0",
            "description_tooltip": null,
            "_model_module": "@jupyter-widgets/controls",
            "layout": "IPY_MODEL_b362c4f87b804077abf9722008b41b92"
          }
        },
        "baebae09c071414f8dc70c5bd1ab83a3": {
          "model_module": "@jupyter-widgets/controls",
          "model_name": "DescriptionStyleModel",
          "state": {
            "_view_name": "StyleView",
            "_model_name": "DescriptionStyleModel",
            "description_width": "",
            "_view_module": "@jupyter-widgets/base",
            "_model_module_version": "1.5.0",
            "_view_count": null,
            "_view_module_version": "1.2.0",
            "_model_module": "@jupyter-widgets/controls"
          }
        },
        "6945944eb6fa4d28b26100a15c965f7e": {
          "model_module": "@jupyter-widgets/base",
          "model_name": "LayoutModel",
          "state": {
            "_view_name": "LayoutView",
            "grid_template_rows": null,
            "right": null,
            "justify_content": null,
            "_view_module": "@jupyter-widgets/base",
            "overflow": null,
            "_model_module_version": "1.2.0",
            "_view_count": null,
            "flex_flow": null,
            "width": null,
            "min_width": null,
            "border": null,
            "align_items": null,
            "bottom": null,
            "_model_module": "@jupyter-widgets/base",
            "top": null,
            "grid_column": null,
            "overflow_y": null,
            "overflow_x": null,
            "grid_auto_flow": null,
            "grid_area": null,
            "grid_template_columns": null,
            "flex": null,
            "_model_name": "LayoutModel",
            "justify_items": null,
            "grid_row": null,
            "max_height": null,
            "align_content": null,
            "visibility": null,
            "align_self": null,
            "height": null,
            "min_height": null,
            "padding": null,
            "grid_auto_rows": null,
            "grid_gap": null,
            "max_width": null,
            "order": null,
            "_view_module_version": "1.2.0",
            "grid_template_areas": null,
            "object_position": null,
            "object_fit": null,
            "grid_auto_columns": null,
            "margin": null,
            "display": null,
            "left": null
          }
        },
        "c68c1a5f0ed04146982a5bf00ee0ad8f": {
          "model_module": "@jupyter-widgets/controls",
          "model_name": "ProgressStyleModel",
          "state": {
            "_view_name": "StyleView",
            "_model_name": "ProgressStyleModel",
            "description_width": "",
            "_view_module": "@jupyter-widgets/base",
            "_model_module_version": "1.5.0",
            "_view_count": null,
            "_view_module_version": "1.2.0",
            "bar_color": null,
            "_model_module": "@jupyter-widgets/controls"
          }
        },
        "1d73ab138682498b857fea9deede8952": {
          "model_module": "@jupyter-widgets/base",
          "model_name": "LayoutModel",
          "state": {
            "_view_name": "LayoutView",
            "grid_template_rows": null,
            "right": null,
            "justify_content": null,
            "_view_module": "@jupyter-widgets/base",
            "overflow": null,
            "_model_module_version": "1.2.0",
            "_view_count": null,
            "flex_flow": null,
            "width": null,
            "min_width": null,
            "border": null,
            "align_items": null,
            "bottom": null,
            "_model_module": "@jupyter-widgets/base",
            "top": null,
            "grid_column": null,
            "overflow_y": null,
            "overflow_x": null,
            "grid_auto_flow": null,
            "grid_area": null,
            "grid_template_columns": null,
            "flex": null,
            "_model_name": "LayoutModel",
            "justify_items": null,
            "grid_row": null,
            "max_height": null,
            "align_content": null,
            "visibility": null,
            "align_self": null,
            "height": null,
            "min_height": null,
            "padding": null,
            "grid_auto_rows": null,
            "grid_gap": null,
            "max_width": null,
            "order": null,
            "_view_module_version": "1.2.0",
            "grid_template_areas": null,
            "object_position": null,
            "object_fit": null,
            "grid_auto_columns": null,
            "margin": null,
            "display": null,
            "left": null
          }
        },
        "848156fdbc014c418e9fb7b9b2d2d477": {
          "model_module": "@jupyter-widgets/controls",
          "model_name": "DescriptionStyleModel",
          "state": {
            "_view_name": "StyleView",
            "_model_name": "DescriptionStyleModel",
            "description_width": "",
            "_view_module": "@jupyter-widgets/base",
            "_model_module_version": "1.5.0",
            "_view_count": null,
            "_view_module_version": "1.2.0",
            "_model_module": "@jupyter-widgets/controls"
          }
        },
        "b362c4f87b804077abf9722008b41b92": {
          "model_module": "@jupyter-widgets/base",
          "model_name": "LayoutModel",
          "state": {
            "_view_name": "LayoutView",
            "grid_template_rows": null,
            "right": null,
            "justify_content": null,
            "_view_module": "@jupyter-widgets/base",
            "overflow": null,
            "_model_module_version": "1.2.0",
            "_view_count": null,
            "flex_flow": null,
            "width": null,
            "min_width": null,
            "border": null,
            "align_items": null,
            "bottom": null,
            "_model_module": "@jupyter-widgets/base",
            "top": null,
            "grid_column": null,
            "overflow_y": null,
            "overflow_x": null,
            "grid_auto_flow": null,
            "grid_area": null,
            "grid_template_columns": null,
            "flex": null,
            "_model_name": "LayoutModel",
            "justify_items": null,
            "grid_row": null,
            "max_height": null,
            "align_content": null,
            "visibility": null,
            "align_self": null,
            "height": null,
            "min_height": null,
            "padding": null,
            "grid_auto_rows": null,
            "grid_gap": null,
            "max_width": null,
            "order": null,
            "_view_module_version": "1.2.0",
            "grid_template_areas": null,
            "object_position": null,
            "object_fit": null,
            "grid_auto_columns": null,
            "margin": null,
            "display": null,
            "left": null
          }
        },
        "fcb9ee7068db4de3a87afa8fbec78343": {
          "model_module": "@jupyter-widgets/controls",
          "model_name": "HBoxModel",
          "state": {
            "_view_name": "HBoxView",
            "_dom_classes": [],
            "_model_name": "HBoxModel",
            "_view_module": "@jupyter-widgets/controls",
            "_model_module_version": "1.5.0",
            "_view_count": null,
            "_view_module_version": "1.5.0",
            "box_style": "",
            "layout": "IPY_MODEL_94ffde26f09848e4b2dfc1b9ad2f3c96",
            "_model_module": "@jupyter-widgets/controls",
            "children": [
              "IPY_MODEL_c47bff07e06e4264b76f174958ea9b83",
              "IPY_MODEL_2b95050868984bd995c40c54e3ecb52a",
              "IPY_MODEL_f80bf3d0ed7a4b5e83f4167b40ae7fe4"
            ]
          }
        },
        "94ffde26f09848e4b2dfc1b9ad2f3c96": {
          "model_module": "@jupyter-widgets/base",
          "model_name": "LayoutModel",
          "state": {
            "_view_name": "LayoutView",
            "grid_template_rows": null,
            "right": null,
            "justify_content": null,
            "_view_module": "@jupyter-widgets/base",
            "overflow": null,
            "_model_module_version": "1.2.0",
            "_view_count": null,
            "flex_flow": null,
            "width": null,
            "min_width": null,
            "border": null,
            "align_items": null,
            "bottom": null,
            "_model_module": "@jupyter-widgets/base",
            "top": null,
            "grid_column": null,
            "overflow_y": null,
            "overflow_x": null,
            "grid_auto_flow": null,
            "grid_area": null,
            "grid_template_columns": null,
            "flex": null,
            "_model_name": "LayoutModel",
            "justify_items": null,
            "grid_row": null,
            "max_height": null,
            "align_content": null,
            "visibility": null,
            "align_self": null,
            "height": null,
            "min_height": null,
            "padding": null,
            "grid_auto_rows": null,
            "grid_gap": null,
            "max_width": null,
            "order": null,
            "_view_module_version": "1.2.0",
            "grid_template_areas": null,
            "object_position": null,
            "object_fit": null,
            "grid_auto_columns": null,
            "margin": null,
            "display": null,
            "left": null
          }
        },
        "c47bff07e06e4264b76f174958ea9b83": {
          "model_module": "@jupyter-widgets/controls",
          "model_name": "HTMLModel",
          "state": {
            "_view_name": "HTMLView",
            "style": "IPY_MODEL_6775f9b51c884fde91305218a0566dd0",
            "_dom_classes": [],
            "description": "",
            "_model_name": "HTMLModel",
            "placeholder": "​",
            "_view_module": "@jupyter-widgets/controls",
            "_model_module_version": "1.5.0",
            "value": " 25%",
            "_view_count": null,
            "_view_module_version": "1.5.0",
            "description_tooltip": null,
            "_model_module": "@jupyter-widgets/controls",
            "layout": "IPY_MODEL_4219c6b674da4043b1237f5679fc7d7d"
          }
        },
        "2b95050868984bd995c40c54e3ecb52a": {
          "model_module": "@jupyter-widgets/controls",
          "model_name": "FloatProgressModel",
          "state": {
            "_view_name": "ProgressView",
            "style": "IPY_MODEL_ae4def09c48741eb8c76072401cce3ea",
            "_dom_classes": [],
            "description": "",
            "_model_name": "FloatProgressModel",
            "bar_style": "danger",
            "max": 168,
            "_view_module": "@jupyter-widgets/controls",
            "_model_module_version": "1.5.0",
            "value": 42,
            "_view_count": null,
            "_view_module_version": "1.5.0",
            "orientation": "horizontal",
            "min": 0,
            "description_tooltip": null,
            "_model_module": "@jupyter-widgets/controls",
            "layout": "IPY_MODEL_8a91cac0e5d7453daaa34b31a2d05c32"
          }
        },
        "f80bf3d0ed7a4b5e83f4167b40ae7fe4": {
          "model_module": "@jupyter-widgets/controls",
          "model_name": "HTMLModel",
          "state": {
            "_view_name": "HTMLView",
            "style": "IPY_MODEL_9dcd7092d58b41f08dad4215c3554c62",
            "_dom_classes": [],
            "description": "",
            "_model_name": "HTMLModel",
            "placeholder": "​",
            "_view_module": "@jupyter-widgets/controls",
            "_model_module_version": "1.5.0",
            "value": " 42/168 [00:04&lt;00:11, 11.26it/s]",
            "_view_count": null,
            "_view_module_version": "1.5.0",
            "description_tooltip": null,
            "_model_module": "@jupyter-widgets/controls",
            "layout": "IPY_MODEL_57983d8cf0034a5fac4ae67504365266"
          }
        },
        "6775f9b51c884fde91305218a0566dd0": {
          "model_module": "@jupyter-widgets/controls",
          "model_name": "DescriptionStyleModel",
          "state": {
            "_view_name": "StyleView",
            "_model_name": "DescriptionStyleModel",
            "description_width": "",
            "_view_module": "@jupyter-widgets/base",
            "_model_module_version": "1.5.0",
            "_view_count": null,
            "_view_module_version": "1.2.0",
            "_model_module": "@jupyter-widgets/controls"
          }
        },
        "4219c6b674da4043b1237f5679fc7d7d": {
          "model_module": "@jupyter-widgets/base",
          "model_name": "LayoutModel",
          "state": {
            "_view_name": "LayoutView",
            "grid_template_rows": null,
            "right": null,
            "justify_content": null,
            "_view_module": "@jupyter-widgets/base",
            "overflow": null,
            "_model_module_version": "1.2.0",
            "_view_count": null,
            "flex_flow": null,
            "width": null,
            "min_width": null,
            "border": null,
            "align_items": null,
            "bottom": null,
            "_model_module": "@jupyter-widgets/base",
            "top": null,
            "grid_column": null,
            "overflow_y": null,
            "overflow_x": null,
            "grid_auto_flow": null,
            "grid_area": null,
            "grid_template_columns": null,
            "flex": null,
            "_model_name": "LayoutModel",
            "justify_items": null,
            "grid_row": null,
            "max_height": null,
            "align_content": null,
            "visibility": null,
            "align_self": null,
            "height": null,
            "min_height": null,
            "padding": null,
            "grid_auto_rows": null,
            "grid_gap": null,
            "max_width": null,
            "order": null,
            "_view_module_version": "1.2.0",
            "grid_template_areas": null,
            "object_position": null,
            "object_fit": null,
            "grid_auto_columns": null,
            "margin": null,
            "display": null,
            "left": null
          }
        },
        "ae4def09c48741eb8c76072401cce3ea": {
          "model_module": "@jupyter-widgets/controls",
          "model_name": "ProgressStyleModel",
          "state": {
            "_view_name": "StyleView",
            "_model_name": "ProgressStyleModel",
            "description_width": "",
            "_view_module": "@jupyter-widgets/base",
            "_model_module_version": "1.5.0",
            "_view_count": null,
            "_view_module_version": "1.2.0",
            "bar_color": null,
            "_model_module": "@jupyter-widgets/controls"
          }
        },
        "8a91cac0e5d7453daaa34b31a2d05c32": {
          "model_module": "@jupyter-widgets/base",
          "model_name": "LayoutModel",
          "state": {
            "_view_name": "LayoutView",
            "grid_template_rows": null,
            "right": null,
            "justify_content": null,
            "_view_module": "@jupyter-widgets/base",
            "overflow": null,
            "_model_module_version": "1.2.0",
            "_view_count": null,
            "flex_flow": null,
            "width": null,
            "min_width": null,
            "border": null,
            "align_items": null,
            "bottom": null,
            "_model_module": "@jupyter-widgets/base",
            "top": null,
            "grid_column": null,
            "overflow_y": null,
            "overflow_x": null,
            "grid_auto_flow": null,
            "grid_area": null,
            "grid_template_columns": null,
            "flex": null,
            "_model_name": "LayoutModel",
            "justify_items": null,
            "grid_row": null,
            "max_height": null,
            "align_content": null,
            "visibility": null,
            "align_self": null,
            "height": null,
            "min_height": null,
            "padding": null,
            "grid_auto_rows": null,
            "grid_gap": null,
            "max_width": null,
            "order": null,
            "_view_module_version": "1.2.0",
            "grid_template_areas": null,
            "object_position": null,
            "object_fit": null,
            "grid_auto_columns": null,
            "margin": null,
            "display": null,
            "left": null
          }
        },
        "9dcd7092d58b41f08dad4215c3554c62": {
          "model_module": "@jupyter-widgets/controls",
          "model_name": "DescriptionStyleModel",
          "state": {
            "_view_name": "StyleView",
            "_model_name": "DescriptionStyleModel",
            "description_width": "",
            "_view_module": "@jupyter-widgets/base",
            "_model_module_version": "1.5.0",
            "_view_count": null,
            "_view_module_version": "1.2.0",
            "_model_module": "@jupyter-widgets/controls"
          }
        },
        "57983d8cf0034a5fac4ae67504365266": {
          "model_module": "@jupyter-widgets/base",
          "model_name": "LayoutModel",
          "state": {
            "_view_name": "LayoutView",
            "grid_template_rows": null,
            "right": null,
            "justify_content": null,
            "_view_module": "@jupyter-widgets/base",
            "overflow": null,
            "_model_module_version": "1.2.0",
            "_view_count": null,
            "flex_flow": null,
            "width": null,
            "min_width": null,
            "border": null,
            "align_items": null,
            "bottom": null,
            "_model_module": "@jupyter-widgets/base",
            "top": null,
            "grid_column": null,
            "overflow_y": null,
            "overflow_x": null,
            "grid_auto_flow": null,
            "grid_area": null,
            "grid_template_columns": null,
            "flex": null,
            "_model_name": "LayoutModel",
            "justify_items": null,
            "grid_row": null,
            "max_height": null,
            "align_content": null,
            "visibility": null,
            "align_self": null,
            "height": null,
            "min_height": null,
            "padding": null,
            "grid_auto_rows": null,
            "grid_gap": null,
            "max_width": null,
            "order": null,
            "_view_module_version": "1.2.0",
            "grid_template_areas": null,
            "object_position": null,
            "object_fit": null,
            "grid_auto_columns": null,
            "margin": null,
            "display": null,
            "left": null
          }
        }
      }
    }
  },
  "cells": [
    {
      "cell_type": "markdown",
      "metadata": {
        "id": "view-in-github",
        "colab_type": "text"
      },
      "source": [
        "<a href=\"https://colab.research.google.com/github/insaiyancvk/Dere-Net/blob/main/Dere_Net_dirty_work_colab.ipynb\" target=\"_parent\"><img src=\"https://colab.research.google.com/assets/colab-badge.svg\" alt=\"Open In Colab\"/></a>"
      ]
    },
    {
      "cell_type": "markdown",
      "metadata": {
        "id": "29abe927"
      },
      "source": [
        "## 1. See what data we got"
      ],
      "id": "29abe927"
    },
    {
      "cell_type": "markdown",
      "metadata": {
        "id": "b0AbPeEnw2Sy"
      },
      "source": [
        "## Plot sample data\n"
      ],
      "id": "b0AbPeEnw2Sy"
    },
    {
      "cell_type": "code",
      "metadata": {
        "id": "d36177ec",
        "cellView": "form"
      },
      "source": [
        "#@title\n",
        "path = \"./waifus/waifus_images/waifus_images_train/Dandere/Kosaki Onodera40.png\"\n",
        "w = cv2.imread(path, 3)\n",
        "RGB_img = cv2.cvtColor(w, cv2.COLOR_BGR2RGB)\n",
        "plt.imshow(RGB_img)"
      ],
      "id": "d36177ec",
      "execution_count": null,
      "outputs": []
    },
    {
      "cell_type": "code",
      "metadata": {
        "id": "6d2f68b0",
        "colab": {
          "base_uri": "https://localhost:8080/"
        },
        "cellView": "form",
        "outputId": "69e91472-4553-4cd4-f31c-672654423b84"
      },
      "source": [
        "#@title\n",
        "RGB_img.shape, type(RGB_img)"
      ],
      "id": "6d2f68b0",
      "execution_count": null,
      "outputs": [
        {
          "output_type": "execute_result",
          "data": {
            "text/plain": [
              "((300, 168, 3), numpy.ndarray)"
            ]
          },
          "metadata": {
            "tags": []
          },
          "execution_count": 52
        }
      ]
    },
    {
      "cell_type": "code",
      "metadata": {
        "colab": {
          "base_uri": "https://localhost:8080/",
          "height": 35
        },
        "cellView": "form",
        "id": "JdDPXy7tYLEa",
        "outputId": "50866da7-9ef3-4070-b2de-280795974998"
      },
      "source": [
        "#@title\n",
        "TRAIN_PATH"
      ],
      "id": "JdDPXy7tYLEa",
      "execution_count": null,
      "outputs": [
        {
          "output_type": "execute_result",
          "data": {
            "application/vnd.google.colaboratory.intrinsic+json": {
              "type": "string"
            },
            "text/plain": [
              "'waifus\\\\waifus_images\\\\waifus_images_train'"
            ]
          },
          "metadata": {
            "tags": []
          },
          "execution_count": 56
        }
      ]
    },
    {
      "cell_type": "code",
      "metadata": {
        "id": "982cd220",
        "cellView": "form"
      },
      "source": [
        "#@title\n",
        "## Print out images\n",
        "fig, axs = plt.subplots(7,5, figsize=(15,15), constrained_layout=True)\n",
        "fig = plt.figure(figsize=(10,3))\n",
        "\n",
        "for ax, row in zip(axs[:,0], class_list):\n",
        "    ax.set_ylabel(row, rotation=90, fontsize=26)\n",
        "\n",
        "a, b = 0, 0\n",
        "for i in os.listdir(TRAIN_PATH):\n",
        "    imgs = os.listdir(os.path.join(TRAIN_PATH, i))\n",
        "    random.shuffle(imgs)\n",
        "    for j in imgs:\n",
        "        img2 = cv2.imread(os.path.join(TRAIN_PATH, i, j))\n",
        "        try:\n",
        "            img2 = cv2.cvtColor(img2, cv2.COLOR_BGR2RGB)\n",
        "        except:\n",
        "            print(os.path.join(TRAIN_PATH, i, j))\n",
        "            continue\n",
        "        rm = axs[a][b].imshow(img2)\n",
        "        plt.axis('off')\n",
        "        rm.axes.get_xaxis().set_visible(False)\n",
        "#         rm.axes.get_yaxis().set_visible(False)\n",
        "        b+=1\n",
        "        if b>4:\n",
        "            b=0\n",
        "            break\n",
        "    a+=1\n",
        "    if a>6:\n",
        "        break"
      ],
      "id": "982cd220",
      "execution_count": null,
      "outputs": []
    },
    {
      "cell_type": "markdown",
      "metadata": {
        "id": "ad76db4b"
      },
      "source": [
        "**NOTE:** Use image size: 224,224 or 256,256 ~(since we ain't got chad GPUs)~ we do 😏\n"
      ],
      "id": "ad76db4b"
    },
    {
      "cell_type": "markdown",
      "metadata": {
        "id": "ZcbSK3Hw0HsE"
      },
      "source": [
        "## Import stuff"
      ],
      "id": "ZcbSK3Hw0HsE"
    },
    {
      "cell_type": "code",
      "metadata": {
        "colab": {
          "base_uri": "https://localhost:8080/"
        },
        "id": "vdS5lrByzcjR",
        "outputId": "a06c492f-7e6c-43db-9899-5037f3e6daf8"
      },
      "source": [
        "from google.colab import drive\n",
        "drive.mount('/content/drive')\n",
        "\n",
        "import cv2\n",
        "import numpy as np\n",
        "import matplotlib.pyplot as plt\n",
        "import os, random\n",
        "\n",
        "import torch\n",
        "import torchvision\n",
        "\n",
        "from torch.utils.data import DataLoader\n",
        "from torchvision.utils import make_grid\n",
        "\n",
        "import torch.nn as nn\n",
        "import torch.nn.functional as F\n",
        "import torch.optim as optim\n",
        "import torchvision.transforms as transforms\n",
        "import torchvision.datasets as datasets\n",
        "\n",
        "# from tqdm import tqdm\n",
        "# from functools import partial\n",
        "from tqdm.notebook import tqdm\n",
        "import warnings\n",
        "warnings.filterwarnings(\"ignore\")\n",
        "\n",
        "device = 'cuda' if torch.cuda.is_available() else 'cpu'\n",
        "print(f\"{device} activated.\")"
      ],
      "id": "vdS5lrByzcjR",
      "execution_count": 2,
      "outputs": [
        {
          "output_type": "stream",
          "text": [
            "Drive already mounted at /content/drive; to attempt to forcibly remount, call drive.mount(\"/content/drive\", force_remount=True).\n",
            "cuda activated.\n"
          ],
          "name": "stdout"
        }
      ]
    },
    {
      "cell_type": "markdown",
      "metadata": {
        "id": "3AqinxyDuVFk"
      },
      "source": [
        "# Preprocess the data"
      ],
      "id": "3AqinxyDuVFk"
    },
    {
      "cell_type": "code",
      "metadata": {
        "id": "G0yrzXz1Zs8h",
        "colab": {
          "base_uri": "https://localhost:8080/"
        },
        "outputId": "e651024a-ef55-4936-e4f2-8159f40828b8"
      },
      "source": [
        "print(\"Initializing kaggle\")\n",
        "!rm -rf /root/.kaggle && mkdir /root/.kaggle && mkdir /content/waifus && cp /content/drive/MyDrive/kaggle/kaggle.json . && mv kaggle.json /root/.kaggle/kaggle.json\n",
        "\n",
        "print(\"Downloading the dataset\")\n",
        "!kaggle datasets download jahelsantiagoleon/female-anime-characters-anime-dataset \n",
        "print(\"Extracting the dataset\")\n",
        "!unzip -q female-anime-characters-anime-dataset.zip -d /content/waifus/\n",
        "\n",
        "print(\"Initializing classes\")\n",
        "\n",
        "class_list = [\n",
        "    'dandere',\n",
        "    'deredere',\n",
        "    'himdere',\n",
        "    'kundere',\n",
        "    'tsundere',\n",
        "    'yandere',\n",
        "    'yangire'\n",
        "]\n",
        "\n",
        "print(\"Creating folders for workspace\")\n",
        "FOLDERS = {\n",
        "    \"WAIFUS\": os.path.join(\"waifus\"),\n",
        "    # \"PROCESSED\": os.path.join(\"waifus\",\"waifus_images\"),\n",
        "    \"TRAIN\": os.path.join(\"waifus\",\"waifus_images\",\"waifus_images_train\"),\n",
        "    \"TEST\": os.path.join(\"waifus\",\"waifus_images\",\"waifus_images_val\"),\n",
        "    \"WORKSPACE\": os.path.join(\"waifus\",\"Workspace\"),\n",
        "    \"MODELS\" : os.path.join(\"waifus\",\"Workspace\",\"Models\"),\n",
        "    \"LOSS\" : os.path.join(\"waifus\",\"Workspace\",\"Loss\"),\n",
        "    \"ACCURACY\" : os.path.join(\"waifus\",\"Workspace\",\"Accuracy\"),\n",
        "    \"LOSS_TRAIN\" : os.path.join(\"waifus\",\"Workspace\",\"Loss\",\"Train\"),\n",
        "    \"LOSS_TEST\" : os.path.join(\"waifus\",\"Workspace\",\"Loss\",\"Test\"),\n",
        "    \"ACCURACY_TRAIN\" : os.path.join(\"waifus\",\"Workspace\",\"Accuracy\",\"Train\"),\n",
        "    \"ACCURACY_TEST\" :os.path.join(\"waifus\",\"Workspace\",\"Accuracy\",\"Test\")\n",
        "}\n",
        "\n",
        "for key in FOLDERS:\n",
        "    if not os.path.isdir(\"./\"+FOLDERS[key]):\n",
        "        print(key,\" directory doesn't exist. Creating one.\")\n",
        "        os.mkdir(\"./\"+FOLDERS[key])\n",
        "        print(key, \" directory created.\")\n",
        "    else:\n",
        "        print(key, \"exists\")\n",
        "\n",
        "print(\"Transforming the waifu data\")\n",
        "transformations = transforms.Compose([\n",
        "    transforms.Resize([256,256]),\n",
        "    transforms.ToTensor(),\n",
        "    transforms.Normalize((0.5, 0.5, 0.5), (0.5, 0.5, 0.5))\n",
        "])\n",
        "\n",
        "transformations_test = transforms.Compose([\n",
        "    transforms.Resize([256,256]),\n",
        "    transforms.ToTensor(),\n",
        "    transforms.Normalize((0.5, 0.5, 0.5), (0.5, 0.5, 0.5))\n",
        "])\n",
        "\n",
        "# class ImageFolderWithPaths(torchvision.datasets.ImageFolder):    \n",
        "#     def __getitem__(self, index):\n",
        "#         original_tuple = super(ImageFolderWithPaths, self).__getitem__(index)\n",
        "#         path = self.imgs[index][0]\n",
        "#         tuple_with_path = (original_tuple + (path,))\n",
        "#         return tuple_with_path\n",
        "\n",
        "# train_dataset = ImageFolderWithPaths(root=\"./dataset/waifus/waifus_images/waifus_images_train/\", transform = transformations)\n",
        "print(\"Creating train dataloader\")\n",
        "train_dataset = datasets.ImageFolder(FOLDERS[\"TRAIN\"], transform = transformations)\n",
        "train_loader = DataLoader(train_dataset, batch_size = 16, shuffle=True)\n",
        "\n",
        "# test_dataset = torchvision.datasets.ImageFolder(FOLDERS[\"TEST\"], transform=transformations_test)\n",
        "print(\"Creating test dataloader\")\n",
        "test_dataset = datasets.ImageFolder(FOLDERS[\"TEST\"], transform = transformations)\n",
        "test_loader = torch.utils.data.DataLoader(test_dataset, batch_size=16,\n",
        "                                         shuffle=True)\n",
        "\n",
        "print(\"Data preprocessing completed.\")"
      ],
      "id": "G0yrzXz1Zs8h",
      "execution_count": 3,
      "outputs": [
        {
          "output_type": "stream",
          "text": [
            "Initializing kaggle\n",
            "mkdir: cannot create directory ‘/content/waifus’: File exists\n",
            "Downloading the dataset\n",
            "Traceback (most recent call last):\n",
            "  File \"/usr/local/bin/kaggle\", line 5, in <module>\n",
            "    from kaggle.cli import main\n",
            "  File \"/usr/local/lib/python2.7/dist-packages/kaggle/__init__.py\", line 23, in <module>\n",
            "    api.authenticate()\n",
            "  File \"/usr/local/lib/python2.7/dist-packages/kaggle/api/kaggle_api_extended.py\", line 146, in authenticate\n",
            "    self.config_file, self.config_dir))\n",
            "IOError: Could not find kaggle.json. Make sure it's located in /root/.kaggle. Or use the environment method.\n",
            "Extracting the dataset\n",
            "replace /content/waifus/Data Set Description.pdf? [y]es, [n]o, [A]ll, [N]one, [r]ename: Initializing classes\n",
            "Creating folders for workspace\n",
            "WAIFUS exists\n",
            "TRAIN exists\n",
            "TEST exists\n",
            "WORKSPACE exists\n",
            "MODELS exists\n",
            "LOSS exists\n",
            "ACCURACY exists\n",
            "LOSS_TRAIN exists\n",
            "LOSS_TEST exists\n",
            "ACCURACY_TRAIN exists\n",
            "ACCURACY_TEST exists\n",
            "Transforming the waifu data\n",
            "Creating train dataloader\n",
            "Creating test dataloader\n",
            "Data preprocessing completed.\n"
          ],
          "name": "stdout"
        }
      ]
    },
    {
      "cell_type": "markdown",
      "metadata": {
        "id": "af6e0aad"
      },
      "source": [
        "## The Model:"
      ],
      "id": "af6e0aad"
    },
    {
      "cell_type": "code",
      "metadata": {
        "id": "6cb615a6"
      },
      "source": [
        "class Net(nn.Module):\n",
        "    def __init__(self):\n",
        "        \n",
        "        super(Net, self).__init__()\n",
        "        \n",
        "        self.pool = nn.MaxPool2d(5, 5)\n",
        "        \n",
        "        self.conv1 = nn.Conv2d(3, 6, 7)\n",
        "        self.conv2 = nn.Conv2d(6, 16, 5)\n",
        "        self.conv3 = nn.Conv2d(16, 16, 3)\n",
        "        \n",
        "        self.fc1 = nn.Linear(16, 7)\n",
        "        #self.fc2 = nn.Linear(500, 50)\n",
        "        #self.fc3 = nn.Linear(50, 7)\n",
        "\n",
        "    def forward(self, x):\n",
        "        \n",
        "        # Conv layer 1\n",
        "        x = self.conv1(x)\n",
        "        x = F.relu(x)\n",
        "        x = self.pool(x)\n",
        "        \n",
        "        # Conv layer 2\n",
        "        x = self.conv2(x)\n",
        "        x = F.relu(x)\n",
        "        x = self.pool(x)\n",
        "        \n",
        "        # Conv layer 3\n",
        "        x = self.conv3(x)\n",
        "        x = F.relu(x)\n",
        "        x = self.pool(x)\n",
        "\n",
        "        #print(\"Tensor shape: \",x.shape)\n",
        "        \n",
        "        # Flatten the batch\n",
        "        x = x.view(x.size(0),-1)\n",
        "        #print(x.shape)\n",
        "        \n",
        "        # Dense layer 1\n",
        "        x = self.fc1(x)\n",
        "        #x = F.relu(self.fc2(x))\n",
        "        #x = self.fc3(x)\n",
        "        return x"
      ],
      "id": "6cb615a6",
      "execution_count": 4,
      "outputs": []
    },
    {
      "cell_type": "code",
      "metadata": {
        "id": "aff21df1",
        "cellView": "form"
      },
      "source": [
        "#@title\n",
        "net =  Net()\n",
        "criterion = nn.CrossEntropyLoss()\n",
        "optimizer = optim.SGD(net.parameters(), lr=0.0005, momentum=0.9)\n",
        "items = iter(train_loader)"
      ],
      "id": "aff21df1",
      "execution_count": null,
      "outputs": []
    },
    {
      "cell_type": "code",
      "metadata": {
        "id": "2ed06e08",
        "cellView": "form"
      },
      "source": [
        "#@title\n",
        "# Testing if all the parameters of the NN are set properly\n",
        "\n",
        "image, label, p = items.next()\n",
        "x = net(image[0].unsqueeze(0))\n",
        "# print(x.shape)\n",
        "f = plt.imshow(np.transpose(image[0], (1,2,0)));\n",
        "f.axes.get_xaxis().set_visible(False)\n",
        "f.axes.get_yaxis().set_visible(False)\n",
        "plt.title(\n",
        "    \"Name: \"+''.join([i for i in os.path.splitext(os.path.basename(p[0]))[0] if not i.isdigit()])+\"\\n\"+\n",
        "    \"Predicted: \"+class_list[x.cpu().data.numpy().argmax()]+\"\\n\"+\"Actual: \"+class_list[label[0].item()+1],\n",
        "    loc='center'\n",
        ");"
      ],
      "id": "2ed06e08",
      "execution_count": null,
      "outputs": []
    },
    {
      "cell_type": "markdown",
      "metadata": {
        "id": "fe855d53"
      },
      "source": [
        "## Steps\n",
        "- pass imgae to the NN\n",
        "- calculate loss\n",
        "- backprop\n",
        "- update weights"
      ],
      "id": "fe855d53"
    },
    {
      "cell_type": "code",
      "metadata": {
        "id": "13ee2de9",
        "cellView": "form"
      },
      "source": [
        "#@title\n",
        "def train_step(model, images, labels, loss_func, optim, device):\n",
        "    \n",
        "    # Set the gradiant values to zero because torch accumulates the values\n",
        "    optim.zero_grad()\n",
        "    \n",
        "    # Predictions from the model\n",
        "    outputs = model(images.to(device))\n",
        "    \n",
        "    # Calculate the loss\n",
        "    loss = loss_func(outputs, labels.to(device))\n",
        "    \n",
        "    # Finds the derivative by applying chain rule\n",
        "    loss.backward()\n",
        "    \n",
        "    # Move the loss function towards the local/global minima\n",
        "    optim.step()\n",
        "    \n",
        "    # return the outputs and loss by moving them to CPU\n",
        "    return outputs.cpu().detach().numpy(), loss.cpu().item()"
      ],
      "id": "13ee2de9",
      "execution_count": null,
      "outputs": []
    },
    {
      "cell_type": "code",
      "metadata": {
        "id": "189feb1e",
        "cellView": "form"
      },
      "source": [
        "#@title\n",
        "def epoch(model, train_loader, loss_func, optim, device):\n",
        "    mean_loss = 0\n",
        "    model = model.to(device)\n",
        "    for image, label in tqdm(train_loader):\n",
        "        loss = train_step(model, image, label, loss_func, optim, device)\n",
        "        mean_loss += loss/len(train_loader)\n",
        "    return mean_loss"
      ],
      "id": "189feb1e",
      "execution_count": null,
      "outputs": []
    },
    {
      "cell_type": "markdown",
      "metadata": {
        "id": "5581ab57"
      },
      "source": [
        "5. Build a training loop\n",
        "    1. Move to GPU\n",
        "    2. Define the training function\n",
        "    3. Calculate the running loss and store the same in list and later convert to np array and save the np array.\n",
        "    4. Calculate the accuracy after every batch. Calculate the average of same and store the values in a list \n",
        "       and later convert it to np array and save theh np array.\n",
        "    5. After every epoch, test the model loss and accuracy \n",
        "       (by following the same steps as done for training ie, move to list, convert to np array, save the np array) with the test data.\n"
      ],
      "id": "5581ab57"
    },
    {
      "cell_type": "code",
      "metadata": {
        "id": "q6ODPoX3jMTJ"
      },
      "source": [
        "def epoch(model, test_loader ,train_loader, loss_func, optim, device):\n",
        "\n",
        "  test_loss = 0\n",
        "  test_accuracy = 0\n",
        "\n",
        "  train_loss = 0\n",
        "  train_accuracy = 0\n",
        "\n",
        "  model = model.to(device)\n",
        "\n",
        "  print(\"\\n\\t\\tTraining the Neural Network...\")\n",
        "\n",
        "  for image, label in tqdm(train_loader):\n",
        "\n",
        "      optim.zero_grad()\n",
        "      \n",
        "      output = model(image.to(device))\n",
        "      \n",
        "      loss = loss_func(\n",
        "        output,\n",
        "        label.to(device)\n",
        "        )\n",
        "      \n",
        "      loss.backward()\n",
        "      optim.step()\n",
        "\n",
        "      accuracy = np.average(\n",
        "            np.argmax(\n",
        "              output.cpu().detach().numpy(), axis=1) == label.cpu().detach().numpy()\n",
        "        )\n",
        "\n",
        "      train_loss += loss/len(train_loader) # training average loss\n",
        "      train_accuracy += accuracy/len(train_loader) # training average accuracy\n",
        "   \n",
        "  print(\"\\n\\t\\tValidating Neural Network...\")\n",
        "\n",
        "  for image, label in tqdm(test_loader):\n",
        "\n",
        "      output = model(image.to(device))\n",
        "\n",
        "      loss = loss_func(\n",
        "        output,\n",
        "        label.to(device)\n",
        "      )\n",
        "\n",
        "      accuracy = np.average(\n",
        "        np.argmax(\n",
        "            output.cpu().detach().numpy(), axis=1) == label.cpu().detach().numpy()\n",
        "        )\n",
        "\n",
        "      test_loss += loss/len(test_loader)\n",
        "      test_accuracy += accuracy/len(test_loader)\n",
        "      # test_loss_vals.append(loss.cpu().item()) # testing loss for graph\n",
        "      # test_accuracy_vals.append(accuracy) # testing accuracy for graph\n",
        "\n",
        "  return (\n",
        "\n",
        "    # TRAIN LOSS\n",
        "    # train_loss_vals, # list 0\n",
        "    train_loss, # float 1\n",
        "\n",
        "    # TRAIN ACCURACY\n",
        "    # train_accuracy_vals, # list 2\n",
        "    train_accuracy, # float 3\n",
        "\n",
        "    # TEST LOSS, ACCURACY\n",
        "    test_loss,\n",
        "    # sum(test_loss_vals)/len(test_loss_vals), # list 4\n",
        "\n",
        "    test_accuracy\n",
        "    # sum(test_accuracy_vals)/len(test_accuracy_vals) # list 5\n",
        "  )"
      ],
      "id": "q6ODPoX3jMTJ",
      "execution_count": 12,
      "outputs": []
    },
    {
      "cell_type": "code",
      "metadata": {
        "id": "3f150980"
      },
      "source": [
        "net =  Net()\n",
        "net = net.to(device)\n",
        "loss_func = nn.CrossEntropyLoss()\n",
        "optimizer = optim.SGD(net.parameters(), lr=0.0005, momentum=0.9)"
      ],
      "id": "3f150980",
      "execution_count": 11,
      "outputs": []
    },
    {
      "cell_type": "code",
      "metadata": {
        "id": "Y6-njHjA3f_Z"
      },
      "source": [
        "EPOCH = 4"
      ],
      "id": "Y6-njHjA3f_Z",
      "execution_count": 13,
      "outputs": []
    },
    {
      "cell_type": "code",
      "metadata": {
        "id": "4KOmm0rR8FL0"
      },
      "source": [
        "a,b,c,d = [1,2,3,4],[23,44,23,54],[]"
      ],
      "id": "4KOmm0rR8FL0",
      "execution_count": null,
      "outputs": []
    },
    {
      "cell_type": "code",
      "metadata": {
        "colab": {
          "base_uri": "https://localhost:8080/",
          "height": 552,
          "referenced_widgets": [
            "2a61a4c5310b4ffcb61537a31f2e5c11",
            "9f0a740f1231460390d668e751c0f738",
            "5567f3bd5c7a4e7399a8aa1423781653",
            "578f84b7355348f2ad70c76870cc55a3",
            "fc2a1536934643089a387baba59b2f60",
            "baebae09c071414f8dc70c5bd1ab83a3",
            "6945944eb6fa4d28b26100a15c965f7e",
            "c68c1a5f0ed04146982a5bf00ee0ad8f",
            "1d73ab138682498b857fea9deede8952",
            "848156fdbc014c418e9fb7b9b2d2d477",
            "b362c4f87b804077abf9722008b41b92",
            "fcb9ee7068db4de3a87afa8fbec78343",
            "94ffde26f09848e4b2dfc1b9ad2f3c96",
            "c47bff07e06e4264b76f174958ea9b83",
            "2b95050868984bd995c40c54e3ecb52a",
            "f80bf3d0ed7a4b5e83f4167b40ae7fe4",
            "6775f9b51c884fde91305218a0566dd0",
            "4219c6b674da4043b1237f5679fc7d7d",
            "ae4def09c48741eb8c76072401cce3ea",
            "8a91cac0e5d7453daaa34b31a2d05c32",
            "9dcd7092d58b41f08dad4215c3554c62",
            "57983d8cf0034a5fac4ae67504365266"
          ]
        },
        "id": "SvmSL1dd3Vqf",
        "outputId": "5888e9ce-2afe-4e16-d57f-7362d103117a"
      },
      "source": [
        "train_loss_vals = []\n",
        "train_accuracy_vals = []\n",
        "test_loss_vals = []\n",
        "test_accuracy_vals = []\n",
        "\n",
        "for ep in range(EPOCH):\n",
        "  print(f\"Epoch: {ep+1}\\n\")\n",
        "  vals = epoch(net, test_loader, train_loader, loss_func, optimizer, device)\n",
        "  print(f\"Train Loss: {vals[0]}\")\n",
        "  print(f\"Train Accuracy: {vals[1]}\")\n",
        "  print(f\"Test Loss: {vals[2]}\")\n",
        "  print(f\"Test accuracy: {vals[3]}\")\n",
        "  train_loss_vals.append(vals[0])\n",
        "  train_accuracy_vals.append(vals[1])\n",
        "  test_loss_vals.append(vals[2])\n",
        "  test_accuracy_vals.append(vals[3])\n",
        "  print(\"\\n\\n\")\n",
        "\n",
        "fig, a = plt.subplots(1,4, squeeze=False, figsize=(17,5))\n",
        "a[0][0].plot(train_loss_vals)\n",
        "a[0][0].set_title(\"Train Loss\")\n",
        "a[0][1].plot(train_accuracy_vals)\n",
        "a[0][1].set_title(\"Train accuracy\")\n",
        "a[0][2].plot(test_loss_vals)\n",
        "a[0][2].set_title(\"Test loss\")\n",
        "a[0][3].plot(test_accuracy_loss)\n",
        "a[0][3].set_title(\"Test accuracy\")\n",
        "plt.show()"
      ],
      "id": "SvmSL1dd3Vqf",
      "execution_count": 16,
      "outputs": [
        {
          "output_type": "stream",
          "text": [
            "Epoch: 1\n",
            "\n",
            "\n",
            "\t\tTraining the Neural Network...\n"
          ],
          "name": "stdout"
        },
        {
          "output_type": "display_data",
          "data": {
            "application/vnd.jupyter.widget-view+json": {
              "model_id": "2a61a4c5310b4ffcb61537a31f2e5c11",
              "version_minor": 0,
              "version_major": 2
            },
            "text/plain": [
              "  0%|          | 0/871 [00:00<?, ?it/s]"
            ]
          },
          "metadata": {
            "tags": []
          }
        },
        {
          "output_type": "stream",
          "text": [
            "\n",
            "\t\tValidating Neural Network...\n"
          ],
          "name": "stdout"
        },
        {
          "output_type": "display_data",
          "data": {
            "application/vnd.jupyter.widget-view+json": {
              "model_id": "fcb9ee7068db4de3a87afa8fbec78343",
              "version_minor": 0,
              "version_major": 2
            },
            "text/plain": [
              "  0%|          | 0/168 [00:00<?, ?it/s]"
            ]
          },
          "metadata": {
            "tags": []
          }
        },
        {
          "output_type": "error",
          "ename": "RuntimeError",
          "evalue": "ignored",
          "traceback": [
            "\u001b[0;31m---------------------------------------------------------------------------\u001b[0m",
            "\u001b[0;31mRuntimeError\u001b[0m                              Traceback (most recent call last)",
            "\u001b[0;32m<ipython-input-16-2f578aaefea1>\u001b[0m in \u001b[0;36m<module>\u001b[0;34m()\u001b[0m\n\u001b[1;32m      6\u001b[0m \u001b[0;32mfor\u001b[0m \u001b[0mep\u001b[0m \u001b[0;32min\u001b[0m \u001b[0mrange\u001b[0m\u001b[0;34m(\u001b[0m\u001b[0mEPOCH\u001b[0m\u001b[0;34m)\u001b[0m\u001b[0;34m:\u001b[0m\u001b[0;34m\u001b[0m\u001b[0;34m\u001b[0m\u001b[0m\n\u001b[1;32m      7\u001b[0m   \u001b[0mprint\u001b[0m\u001b[0;34m(\u001b[0m\u001b[0;34mf\"Epoch: {ep+1}\\n\"\u001b[0m\u001b[0;34m)\u001b[0m\u001b[0;34m\u001b[0m\u001b[0;34m\u001b[0m\u001b[0m\n\u001b[0;32m----> 8\u001b[0;31m   \u001b[0mvals\u001b[0m \u001b[0;34m=\u001b[0m \u001b[0mepoch\u001b[0m\u001b[0;34m(\u001b[0m\u001b[0mnet\u001b[0m\u001b[0;34m,\u001b[0m \u001b[0mtest_loader\u001b[0m\u001b[0;34m,\u001b[0m \u001b[0mtrain_loader\u001b[0m\u001b[0;34m,\u001b[0m \u001b[0mloss_func\u001b[0m\u001b[0;34m,\u001b[0m \u001b[0moptimizer\u001b[0m\u001b[0;34m,\u001b[0m \u001b[0mdevice\u001b[0m\u001b[0;34m)\u001b[0m\u001b[0;34m\u001b[0m\u001b[0;34m\u001b[0m\u001b[0m\n\u001b[0m\u001b[1;32m      9\u001b[0m   \u001b[0mprint\u001b[0m\u001b[0;34m(\u001b[0m\u001b[0;34mf\"Train Loss: {vals[0]}\"\u001b[0m\u001b[0;34m)\u001b[0m\u001b[0;34m\u001b[0m\u001b[0;34m\u001b[0m\u001b[0m\n\u001b[1;32m     10\u001b[0m   \u001b[0mprint\u001b[0m\u001b[0;34m(\u001b[0m\u001b[0;34mf\"Train Accuracy: {vals[1]}\"\u001b[0m\u001b[0;34m)\u001b[0m\u001b[0;34m\u001b[0m\u001b[0;34m\u001b[0m\u001b[0m\n",
            "\u001b[0;32m<ipython-input-12-5436a6ccec1b>\u001b[0m in \u001b[0;36mepoch\u001b[0;34m(model, test_loader, train_loader, loss_func, optim, device)\u001b[0m\n\u001b[1;32m     37\u001b[0m   \u001b[0;32mfor\u001b[0m \u001b[0mimage\u001b[0m\u001b[0;34m,\u001b[0m \u001b[0mlabel\u001b[0m \u001b[0;32min\u001b[0m \u001b[0mtqdm\u001b[0m\u001b[0;34m(\u001b[0m\u001b[0mtest_loader\u001b[0m\u001b[0;34m)\u001b[0m\u001b[0;34m:\u001b[0m\u001b[0;34m\u001b[0m\u001b[0;34m\u001b[0m\u001b[0m\n\u001b[1;32m     38\u001b[0m \u001b[0;34m\u001b[0m\u001b[0m\n\u001b[0;32m---> 39\u001b[0;31m       \u001b[0moutput\u001b[0m \u001b[0;34m=\u001b[0m \u001b[0mmodel\u001b[0m\u001b[0;34m(\u001b[0m\u001b[0mimage\u001b[0m\u001b[0;34m.\u001b[0m\u001b[0mto\u001b[0m\u001b[0;34m(\u001b[0m\u001b[0mdevice\u001b[0m\u001b[0;34m)\u001b[0m\u001b[0;34m)\u001b[0m\u001b[0;34m\u001b[0m\u001b[0;34m\u001b[0m\u001b[0m\n\u001b[0m\u001b[1;32m     40\u001b[0m \u001b[0;34m\u001b[0m\u001b[0m\n\u001b[1;32m     41\u001b[0m       loss = loss_func(\n",
            "\u001b[0;32m/usr/local/lib/python3.7/dist-packages/torch/nn/modules/module.py\u001b[0m in \u001b[0;36m_call_impl\u001b[0;34m(self, *input, **kwargs)\u001b[0m\n\u001b[1;32m   1049\u001b[0m         if not (self._backward_hooks or self._forward_hooks or self._forward_pre_hooks or _global_backward_hooks\n\u001b[1;32m   1050\u001b[0m                 or _global_forward_hooks or _global_forward_pre_hooks):\n\u001b[0;32m-> 1051\u001b[0;31m             \u001b[0;32mreturn\u001b[0m \u001b[0mforward_call\u001b[0m\u001b[0;34m(\u001b[0m\u001b[0;34m*\u001b[0m\u001b[0minput\u001b[0m\u001b[0;34m,\u001b[0m \u001b[0;34m**\u001b[0m\u001b[0mkwargs\u001b[0m\u001b[0;34m)\u001b[0m\u001b[0;34m\u001b[0m\u001b[0;34m\u001b[0m\u001b[0m\n\u001b[0m\u001b[1;32m   1052\u001b[0m         \u001b[0;31m# Do not call functions when jit is used\u001b[0m\u001b[0;34m\u001b[0m\u001b[0;34m\u001b[0m\u001b[0;34m\u001b[0m\u001b[0m\n\u001b[1;32m   1053\u001b[0m         \u001b[0mfull_backward_hooks\u001b[0m\u001b[0;34m,\u001b[0m \u001b[0mnon_full_backward_hooks\u001b[0m \u001b[0;34m=\u001b[0m \u001b[0;34m[\u001b[0m\u001b[0;34m]\u001b[0m\u001b[0;34m,\u001b[0m \u001b[0;34m[\u001b[0m\u001b[0;34m]\u001b[0m\u001b[0;34m\u001b[0m\u001b[0;34m\u001b[0m\u001b[0m\n",
            "\u001b[0;32m<ipython-input-4-6fddb22495ef>\u001b[0m in \u001b[0;36mforward\u001b[0;34m(self, x)\u001b[0m\n\u001b[1;32m     18\u001b[0m         \u001b[0;31m# Conv layer 1\u001b[0m\u001b[0;34m\u001b[0m\u001b[0;34m\u001b[0m\u001b[0;34m\u001b[0m\u001b[0m\n\u001b[1;32m     19\u001b[0m         \u001b[0mx\u001b[0m \u001b[0;34m=\u001b[0m \u001b[0mself\u001b[0m\u001b[0;34m.\u001b[0m\u001b[0mconv1\u001b[0m\u001b[0;34m(\u001b[0m\u001b[0mx\u001b[0m\u001b[0;34m)\u001b[0m\u001b[0;34m\u001b[0m\u001b[0;34m\u001b[0m\u001b[0m\n\u001b[0;32m---> 20\u001b[0;31m         \u001b[0mx\u001b[0m \u001b[0;34m=\u001b[0m \u001b[0mF\u001b[0m\u001b[0;34m.\u001b[0m\u001b[0mrelu\u001b[0m\u001b[0;34m(\u001b[0m\u001b[0mx\u001b[0m\u001b[0;34m)\u001b[0m\u001b[0;34m\u001b[0m\u001b[0;34m\u001b[0m\u001b[0m\n\u001b[0m\u001b[1;32m     21\u001b[0m         \u001b[0mx\u001b[0m \u001b[0;34m=\u001b[0m \u001b[0mself\u001b[0m\u001b[0;34m.\u001b[0m\u001b[0mpool\u001b[0m\u001b[0;34m(\u001b[0m\u001b[0mx\u001b[0m\u001b[0;34m)\u001b[0m\u001b[0;34m\u001b[0m\u001b[0;34m\u001b[0m\u001b[0m\n\u001b[1;32m     22\u001b[0m \u001b[0;34m\u001b[0m\u001b[0m\n",
            "\u001b[0;32m/usr/local/lib/python3.7/dist-packages/torch/nn/functional.py\u001b[0m in \u001b[0;36mrelu\u001b[0;34m(input, inplace)\u001b[0m\n\u001b[1;32m   1296\u001b[0m         \u001b[0mresult\u001b[0m \u001b[0;34m=\u001b[0m \u001b[0mtorch\u001b[0m\u001b[0;34m.\u001b[0m\u001b[0mrelu_\u001b[0m\u001b[0;34m(\u001b[0m\u001b[0minput\u001b[0m\u001b[0;34m)\u001b[0m\u001b[0;34m\u001b[0m\u001b[0;34m\u001b[0m\u001b[0m\n\u001b[1;32m   1297\u001b[0m     \u001b[0;32melse\u001b[0m\u001b[0;34m:\u001b[0m\u001b[0;34m\u001b[0m\u001b[0;34m\u001b[0m\u001b[0m\n\u001b[0;32m-> 1298\u001b[0;31m         \u001b[0mresult\u001b[0m \u001b[0;34m=\u001b[0m \u001b[0mtorch\u001b[0m\u001b[0;34m.\u001b[0m\u001b[0mrelu\u001b[0m\u001b[0;34m(\u001b[0m\u001b[0minput\u001b[0m\u001b[0;34m)\u001b[0m\u001b[0;34m\u001b[0m\u001b[0;34m\u001b[0m\u001b[0m\n\u001b[0m\u001b[1;32m   1299\u001b[0m     \u001b[0;32mreturn\u001b[0m \u001b[0mresult\u001b[0m\u001b[0;34m\u001b[0m\u001b[0;34m\u001b[0m\u001b[0m\n\u001b[1;32m   1300\u001b[0m \u001b[0;34m\u001b[0m\u001b[0m\n",
            "\u001b[0;31mRuntimeError\u001b[0m: CUDA out of memory. Tried to allocate 24.00 MiB (GPU 0; 14.76 GiB total capacity; 13.35 GiB already allocated; 17.75 MiB free; 13.66 GiB reserved in total by PyTorch)"
          ]
        }
      ]
    },
    {
      "cell_type": "code",
      "metadata": {
        "id": "ca77aa26"
      },
      "source": [
        "#@title Model details\n",
        "EPOCH = 1\n",
        "PATH = \"./dataset/waifus/models/\"\n",
        "MODEL1 = \"3conv_3RLU_3MP2d_1d_crossentropy_sgd.pt\"\n",
        "LOSS = 1.9"
      ],
      "id": "ca77aa26",
      "execution_count": null,
      "outputs": []
    },
    {
      "cell_type": "markdown",
      "metadata": {
        "id": "Gr-IURSy9OuT"
      },
      "source": [
        "## Save a model"
      ],
      "id": "Gr-IURSy9OuT"
    },
    {
      "cell_type": "code",
      "metadata": {
        "id": "b48c5658",
        "cellView": "form"
      },
      "source": [
        "#@title\n",
        "# Save the model\n",
        "torch.save({\n",
        "    'epoch': EPOCH,\n",
        "    'model_state_dict': net.state_dict(),\n",
        "    'optimizer_state_dict': optimizer.state_dict(),\n",
        "    'loss': LOSS\n",
        "}, \n",
        "    PATH+MODEL1)"
      ],
      "id": "b48c5658",
      "execution_count": null,
      "outputs": []
    },
    {
      "cell_type": "markdown",
      "metadata": {
        "id": "NdYHh12S9SLN"
      },
      "source": [
        "## Load a saved model"
      ],
      "id": "NdYHh12S9SLN"
    },
    {
      "cell_type": "code",
      "metadata": {
        "id": "b6b2af55",
        "cellView": "form"
      },
      "source": [
        "#@title\n",
        "# Load the saved model\n",
        "checkpoint = torch.load(PATH+MODEL1)\n",
        "net.load_state_dict(checkpoint['model_state_dict'])\n",
        "optimizer.load_state_dict(checkpoint['optimizer_state_dict'])"
      ],
      "id": "b6b2af55",
      "execution_count": null,
      "outputs": []
    }
  ]
}