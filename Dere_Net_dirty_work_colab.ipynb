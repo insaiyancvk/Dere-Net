{
  "nbformat": 4,
  "nbformat_minor": 5,
  "metadata": {
    "kernelspec": {
      "display_name": "Python 3 (ipykernel)",
      "language": "python",
      "name": "python3"
    },
    "language_info": {
      "codemirror_mode": {
        "name": "ipython",
        "version": 3
      },
      "file_extension": ".py",
      "mimetype": "text/x-python",
      "name": "python",
      "nbconvert_exporter": "python",
      "pygments_lexer": "ipython3",
      "version": "3.9.6"
    },
    "colab": {
      "name": "Dere-Net dirty work - colab.ipynb",
      "provenance": [],
      "collapsed_sections": [],
      "include_colab_link": true
    },
    "accelerator": "TPU"
  },
  "cells": [
    {
      "cell_type": "markdown",
      "metadata": {
        "id": "view-in-github",
        "colab_type": "text"
      },
      "source": [
        "<a href=\"https://colab.research.google.com/github/insaiyancvk/Dere-Net/blob/main/Dere_Net_dirty_work_colab.ipynb\" target=\"_parent\"><img src=\"https://colab.research.google.com/assets/colab-badge.svg\" alt=\"Open In Colab\"/></a>"
      ]
    },
    {
      "cell_type": "markdown",
      "metadata": {
        "id": "29abe927"
      },
      "source": [
        "## 1. See what data we got"
      ],
      "id": "29abe927"
    },
    {
      "cell_type": "markdown",
      "metadata": {
        "id": "b0AbPeEnw2Sy"
      },
      "source": [
        "## Plot sample data\n"
      ],
      "id": "b0AbPeEnw2Sy"
    },
    {
      "cell_type": "code",
      "metadata": {
        "id": "d36177ec",
        "cellView": "form"
      },
      "source": [
        "#@title\n",
        "path = \"./waifus/waifus_images/waifus_images_train/Dandere/Kosaki Onodera40.png\"\n",
        "w = cv2.imread(path, 3)\n",
        "RGB_img = cv2.cvtColor(w, cv2.COLOR_BGR2RGB)\n",
        "plt.imshow(RGB_img)"
      ],
      "id": "d36177ec",
      "execution_count": null,
      "outputs": []
    },
    {
      "cell_type": "code",
      "metadata": {
        "id": "6d2f68b0",
        "colab": {
          "base_uri": "https://localhost:8080/"
        },
        "cellView": "form",
        "outputId": "69e91472-4553-4cd4-f31c-672654423b84"
      },
      "source": [
        "#@title\n",
        "RGB_img.shape, type(RGB_img)"
      ],
      "id": "6d2f68b0",
      "execution_count": 52,
      "outputs": [
        {
          "output_type": "execute_result",
          "data": {
            "text/plain": [
              "((300, 168, 3), numpy.ndarray)"
            ]
          },
          "metadata": {
            "tags": []
          },
          "execution_count": 52
        }
      ]
    },
    {
      "cell_type": "code",
      "metadata": {
        "colab": {
          "base_uri": "https://localhost:8080/",
          "height": 35
        },
        "cellView": "form",
        "id": "JdDPXy7tYLEa",
        "outputId": "50866da7-9ef3-4070-b2de-280795974998"
      },
      "source": [
        "#@title\n",
        "TRAIN_PATH"
      ],
      "id": "JdDPXy7tYLEa",
      "execution_count": 56,
      "outputs": [
        {
          "output_type": "execute_result",
          "data": {
            "application/vnd.google.colaboratory.intrinsic+json": {
              "type": "string"
            },
            "text/plain": [
              "'waifus\\\\waifus_images\\\\waifus_images_train'"
            ]
          },
          "metadata": {
            "tags": []
          },
          "execution_count": 56
        }
      ]
    },
    {
      "cell_type": "code",
      "metadata": {
        "id": "982cd220",
        "cellView": "form"
      },
      "source": [
        "#@title\n",
        "## Print out images\n",
        "fig, axs = plt.subplots(7,5, figsize=(15,15), constrained_layout=True)\n",
        "fig = plt.figure(figsize=(10,3))\n",
        "\n",
        "for ax, row in zip(axs[:,0], class_list):\n",
        "    ax.set_ylabel(row, rotation=90, fontsize=26)\n",
        "\n",
        "a, b = 0, 0\n",
        "for i in os.listdir(TRAIN_PATH):\n",
        "    imgs = os.listdir(os.path.join(TRAIN_PATH, i))\n",
        "    random.shuffle(imgs)\n",
        "    for j in imgs:\n",
        "        img2 = cv2.imread(os.path.join(TRAIN_PATH, i, j))\n",
        "        try:\n",
        "            img2 = cv2.cvtColor(img2, cv2.COLOR_BGR2RGB)\n",
        "        except:\n",
        "            print(os.path.join(TRAIN_PATH, i, j))\n",
        "            continue\n",
        "        rm = axs[a][b].imshow(img2)\n",
        "        plt.axis('off')\n",
        "        rm.axes.get_xaxis().set_visible(False)\n",
        "#         rm.axes.get_yaxis().set_visible(False)\n",
        "        b+=1\n",
        "        if b>4:\n",
        "            b=0\n",
        "            break\n",
        "    a+=1\n",
        "    if a>6:\n",
        "        break"
      ],
      "id": "982cd220",
      "execution_count": null,
      "outputs": []
    },
    {
      "cell_type": "markdown",
      "metadata": {
        "id": "ad76db4b"
      },
      "source": [
        "**NOTE:** Use image size: 224,224 or 256,256 ~(since we ain't got chad GPUs)~ we do 😏\n"
      ],
      "id": "ad76db4b"
    },
    {
      "cell_type": "markdown",
      "metadata": {
        "id": "ZcbSK3Hw0HsE"
      },
      "source": [
        "## Import stuff"
      ],
      "id": "ZcbSK3Hw0HsE"
    },
    {
      "cell_type": "code",
      "metadata": {
        "colab": {
          "base_uri": "https://localhost:8080/"
        },
        "id": "vdS5lrByzcjR",
        "outputId": "896847ee-64d7-40a7-c05e-85b81f5b17e5"
      },
      "source": [
        "from google.colab import drive\n",
        "drive.mount('/content/drive')\n",
        "\n",
        "import cv2\n",
        "import numpy as np\n",
        "import matplotlib.pyplot as plt\n",
        "import os, random\n",
        "\n",
        "import torch\n",
        "import torchvision\n",
        "\n",
        "from torch.utils.data import DataLoader\n",
        "from torchvision.utils import make_grid\n",
        "\n",
        "import torch.nn as nn\n",
        "import torch.nn.functional as F\n",
        "import torch.optim as optim\n",
        "import torchvision.transforms as transforms\n",
        "import torchvision.datasets as datasets\n",
        "\n",
        "from tqdm import tnrange,tqdm_notebook, tqdm\n",
        "\n",
        "device = 'cuda' if torch.cuda.is_available() else 'cpu'"
      ],
      "id": "vdS5lrByzcjR",
      "execution_count": 18,
      "outputs": [
        {
          "output_type": "stream",
          "text": [
            "Drive already mounted at /content/drive; to attempt to forcibly remount, call drive.mount(\"/content/drive\", force_remount=True).\n"
          ],
          "name": "stdout"
        }
      ]
    },
    {
      "cell_type": "markdown",
      "metadata": {
        "id": "3AqinxyDuVFk"
      },
      "source": [
        "# Preprocess the data"
      ],
      "id": "3AqinxyDuVFk"
    },
    {
      "cell_type": "code",
      "metadata": {
        "id": "G0yrzXz1Zs8h"
      },
      "source": [
        "print(\"Initializing kaggle\")\n",
        "!rm -rf /root/.kaggle\n",
        "!mkdir /root/.kaggle \n",
        "!cp /content/drive/MyDrive/kaggle/kaggle.json /content\n",
        "!mv kaggle.json /root/.kaggle/kaggle.json\n",
        "\n",
        "print(\"Downloading the dataset\")\n",
        "!kaggle datasets download jahelsantiagoleon/female-anime-characters-anime-dataset \n",
        "print(\"Extracting the dataset\")\n",
        "!unzip female-anime-characters-anime-dataset.zip -d .\n",
        "\n",
        "print(\"Initializing classes\")\n",
        "\n",
        "class_list = [\n",
        "    'dandere',\n",
        "    'deredere',\n",
        "    'himdere',\n",
        "    'kundere',\n",
        "    'tsundere',\n",
        "    'yandere',\n",
        "    'yangire'\n",
        "]\n",
        "\n",
        "print(\"Creating folders for workspace\")\n",
        "FOLDERS = {\n",
        "    \"WAIFUS\": os.path.join(\"waifus\"),\n",
        "    # \"PROCESSED\": os.path.join(\"waifus\",\"waifus_images\"),\n",
        "    \"TRAIN\": os.path.join(\"waifus\",\"waifus_images\",\"waifus_images_train\"),\n",
        "    \"TEST\": os.path.join(\"waifus\",\"waifus_images\",\"waifus_images_val\"),\n",
        "    \"WORKSPACE\": os.path.join(\"waifus\",\"Workspace\"),\n",
        "    \"MODELS\" : os.path.join(\"waifus\",\"Workspace\",\"Models\"),\n",
        "    \"LOSS\" : os.path.join(\"waifus\",\"Workspace\",\"Loss\"),\n",
        "    \"ACCURACY\" : os.path.join(\"waifus\",\"Workspace\",\"Accuracy\"),\n",
        "    \"LOSS_TRAIN\" : os.path.join(\"waifus\",\"Workspace\",\"Loss\",\"Train\"),\n",
        "    \"LOSS_TEST\" : os.path.join(\"waifus\",\"Workspace\",\"Loss\",\"Test\"),\n",
        "    \"ACCURACY_TRAIN\" : os.path.join(\"waifus\",\"Workspace\",\"Accuracy\",\"Train\"),\n",
        "    \"ACCURACY_TEST\" :os.path.join(\"waifus\",\"Workspace\",\"Accuracy\",\"Test\")\n",
        "}\n",
        "\n",
        "for key in FOLDERS:\n",
        "    if not os.path.isdir(\"./\"+FOLDERS[key]):\n",
        "        print(key,\" directory doesn't exist. Creating one.\")\n",
        "        os.mkdir(\"./\"+FOLDERS[key])\n",
        "        print(key, \" directory created.\")\n",
        "    else:\n",
        "        print(key, \"exists\")\n",
        "\n",
        "print(\"Transforming the waifu data\")\n",
        "transformations = transforms.Compose([\n",
        "    transforms.Resize([256,256]),\n",
        "    transforms.ToTensor(),\n",
        "    transforms.Normalize((0.5, 0.5, 0.5), (0.5, 0.5, 0.5))\n",
        "])\n",
        "\n",
        "transformations_test = transforms.Compose([\n",
        "    transforms.Resize([256,256]),\n",
        "    transforms.ToTensor(),\n",
        "    transforms.Normalize((0.5, 0.5, 0.5), (0.5, 0.5, 0.5))\n",
        "])\n",
        "\n",
        "# class ImageFolderWithPaths(torchvision.datasets.ImageFolder):    \n",
        "#     def __getitem__(self, index):\n",
        "#         original_tuple = super(ImageFolderWithPaths, self).__getitem__(index)\n",
        "#         path = self.imgs[index][0]\n",
        "#         tuple_with_path = (original_tuple + (path,))\n",
        "#         return tuple_with_path\n",
        "\n",
        "# train_dataset = ImageFolderWithPaths(root=\"./dataset/waifus/waifus_images/waifus_images_train/\", transform = transformations)\n",
        "print(\"Creating train dataloader\")\n",
        "train_dataset = datasets.ImageFolder(FOLDERS[\"TRAIN\"], transform = transformations)\n",
        "train_loader = DataLoader(train_dataset, batch_size = 16, shuffle=True)\n",
        "\n",
        "# test_dataset = torchvision.datasets.ImageFolder(FOLDERS[\"TEST\"], transform=transformations_test)\n",
        "print(\"Creating test dataloader\")\n",
        "test_dataset = datasets.ImageFolder(FOLDERS[\"TEST\"], transform = transformations)\n",
        "test_loader = torch.utils.data.DataLoader(test_dataset, batch_size=16,\n",
        "                                         shuffle=True)\n",
        "\n",
        "print(\"Data preprocessing completed.\")"
      ],
      "id": "G0yrzXz1Zs8h",
      "execution_count": 13,
      "outputs": []
    },
    {
      "cell_type": "markdown",
      "metadata": {
        "id": "af6e0aad"
      },
      "source": [
        "## The Model:"
      ],
      "id": "af6e0aad"
    },
    {
      "cell_type": "code",
      "metadata": {
        "id": "6cb615a6"
      },
      "source": [
        "class Net(nn.Module):\n",
        "    def __init__(self):\n",
        "        \n",
        "        super(Net, self).__init__()\n",
        "        \n",
        "        self.pool = nn.MaxPool2d(5, 5)\n",
        "        \n",
        "        self.conv1 = nn.Conv2d(3, 6, 7)\n",
        "        self.conv2 = nn.Conv2d(6, 16, 5)\n",
        "        self.conv3 = nn.Conv2d(16, 16, 3)\n",
        "        \n",
        "        self.fc1 = nn.Linear(16, 7)\n",
        "        #self.fc2 = nn.Linear(500, 50)\n",
        "        #self.fc3 = nn.Linear(50, 7)\n",
        "\n",
        "    def forward(self, x):\n",
        "        \n",
        "        # Conv layer 1\n",
        "        x = self.conv1(x)\n",
        "        x = F.relu(x)\n",
        "        x = self.pool(x)\n",
        "        \n",
        "        # Conv layer 2\n",
        "        x = self.conv2(x)\n",
        "        x = F.relu(x)\n",
        "        x = self.pool(x)\n",
        "        \n",
        "        # Conv layer 3\n",
        "        x = self.conv3(x)\n",
        "        x = F.relu(x)\n",
        "        x = self.pool(x)\n",
        "\n",
        "        #print(\"Tensor shape: \",x.shape)\n",
        "        \n",
        "        # Flatten the batch\n",
        "        x = x.view(x.size(0),-1)\n",
        "        #print(x.shape)\n",
        "        \n",
        "        # Dense layer 1\n",
        "        x = self.fc1(x)\n",
        "        #x = F.relu(self.fc2(x))\n",
        "        #x = self.fc3(x)\n",
        "        return x"
      ],
      "id": "6cb615a6",
      "execution_count": 79,
      "outputs": []
    },
    {
      "cell_type": "code",
      "metadata": {
        "id": "aff21df1"
      },
      "source": [
        "net =  Net()\n",
        "criterion = nn.CrossEntropyLoss()\n",
        "optimizer = optim.SGD(net.parameters(), lr=0.0005, momentum=0.9)\n",
        "items = iter(train_loader)"
      ],
      "id": "aff21df1",
      "execution_count": 80,
      "outputs": []
    },
    {
      "cell_type": "code",
      "metadata": {
        "id": "2ed06e08",
        "colab": {
          "base_uri": "https://localhost:8080/",
          "height": 229
        },
        "outputId": "dbddc055-746b-4f8c-9a44-d3069cfd2f69"
      },
      "source": [
        "# Testing if all the parameters of the NN are set properly\n",
        "\n",
        "image, label, p = items.next()\n",
        "x = net(image[0].unsqueeze(0))\n",
        "# print(x.shape)\n",
        "f = plt.imshow(np.transpose(image[0], (1,2,0)));\n",
        "f.axes.get_xaxis().set_visible(False)\n",
        "f.axes.get_yaxis().set_visible(False)\n",
        "plt.title(\n",
        "    \"Name: \"+''.join([i for i in os.path.splitext(os.path.basename(p[0]))[0] if not i.isdigit()])+\"\\n\"+\n",
        "    \"Predicted: \"+class_list[x.cpu().data.numpy().argmax()]+\"\\n\"+\"Actual: \"+class_list[label[0].item()+1],\n",
        "    loc='center'\n",
        ");"
      ],
      "id": "2ed06e08",
      "execution_count": 81,
      "outputs": [
        {
          "output_type": "error",
          "ename": "ValueError",
          "evalue": "ignored",
          "traceback": [
            "\u001b[0;31m---------------------------------------------------------------------------\u001b[0m",
            "\u001b[0;31mValueError\u001b[0m                                Traceback (most recent call last)",
            "\u001b[0;32m<ipython-input-81-3d43da7af9c9>\u001b[0m in \u001b[0;36m<module>\u001b[0;34m()\u001b[0m\n\u001b[1;32m      1\u001b[0m \u001b[0;31m# Testing if all the parameters of the NN are set properly\u001b[0m\u001b[0;34m\u001b[0m\u001b[0;34m\u001b[0m\u001b[0;34m\u001b[0m\u001b[0m\n\u001b[1;32m      2\u001b[0m \u001b[0;34m\u001b[0m\u001b[0m\n\u001b[0;32m----> 3\u001b[0;31m \u001b[0mimage\u001b[0m\u001b[0;34m,\u001b[0m \u001b[0mlabel\u001b[0m\u001b[0;34m,\u001b[0m \u001b[0mp\u001b[0m \u001b[0;34m=\u001b[0m \u001b[0mitems\u001b[0m\u001b[0;34m.\u001b[0m\u001b[0mnext\u001b[0m\u001b[0;34m(\u001b[0m\u001b[0;34m)\u001b[0m\u001b[0;34m\u001b[0m\u001b[0;34m\u001b[0m\u001b[0m\n\u001b[0m\u001b[1;32m      4\u001b[0m \u001b[0mx\u001b[0m \u001b[0;34m=\u001b[0m \u001b[0mnet\u001b[0m\u001b[0;34m(\u001b[0m\u001b[0mimage\u001b[0m\u001b[0;34m[\u001b[0m\u001b[0;36m0\u001b[0m\u001b[0;34m]\u001b[0m\u001b[0;34m.\u001b[0m\u001b[0munsqueeze\u001b[0m\u001b[0;34m(\u001b[0m\u001b[0;36m0\u001b[0m\u001b[0;34m)\u001b[0m\u001b[0;34m)\u001b[0m\u001b[0;34m\u001b[0m\u001b[0;34m\u001b[0m\u001b[0m\n\u001b[1;32m      5\u001b[0m \u001b[0;31m# print(x.shape)\u001b[0m\u001b[0;34m\u001b[0m\u001b[0;34m\u001b[0m\u001b[0;34m\u001b[0m\u001b[0m\n",
            "\u001b[0;31mValueError\u001b[0m: not enough values to unpack (expected 3, got 2)"
          ]
        }
      ]
    },
    {
      "cell_type": "markdown",
      "metadata": {
        "id": "fe855d53"
      },
      "source": [
        "## Steps\n",
        "- pass imgae to the NN\n",
        "- calculate loss\n",
        "- backprop\n",
        "- update weights"
      ],
      "id": "fe855d53"
    },
    {
      "cell_type": "code",
      "metadata": {
        "id": "13ee2de9"
      },
      "source": [
        "def train_step(model, images, labels, loss_func, optim, device):\n",
        "    \n",
        "    # Set the gradiant values to zero because torch accumulates the values\n",
        "    optim.zero_grad()\n",
        "    \n",
        "    # Predictions from the model\n",
        "    outputs = model(images.to(device))\n",
        "    \n",
        "    # Calculate the loss\n",
        "    loss = loss_func(outputs, labels.to(device))\n",
        "    \n",
        "    # Finds the derivative by applying chain rule\n",
        "    loss.backward()\n",
        "    \n",
        "    # Move the loss function towards the local/global minima\n",
        "    optim.step()\n",
        "    \n",
        "    # return the outputs and loss by moving them to CPU\n",
        "    return outputs.cpu().detach().numpy(), loss.cpu().item()"
      ],
      "id": "13ee2de9",
      "execution_count": 82,
      "outputs": []
    },
    {
      "cell_type": "code",
      "metadata": {
        "id": "189feb1e"
      },
      "source": [
        "def epoch(model, train_loader, loss_func, optim, device):\n",
        "    mean_loss = 0\n",
        "    model = model.to(device)\n",
        "    for image, label in tqdm(train_loader):\n",
        "        loss = train_step(model, image, label, loss_func, optim, device)\n",
        "        mean_loss += loss/len(train_loader)\n",
        "    return mean_loss"
      ],
      "id": "189feb1e",
      "execution_count": 83,
      "outputs": []
    },
    {
      "cell_type": "markdown",
      "metadata": {
        "id": "5581ab57"
      },
      "source": [
        "5. Build a training loop\n",
        "    1. Move to GPU\n",
        "    2. Define the training function\n",
        "    3. Calculate the running loss and store the same in list and later convert to np array and save the np array.\n",
        "    4. Calculate the accuracy after every batch. Calculate the average of same and store the values in a list \n",
        "       and later convert it to np array and save theh np array.\n",
        "    5. After every epoch, test the model loss and accuracy \n",
        "       (by following the same steps as done for training ie, move to list, convert to np array, save the np array) with the test data.\n"
      ],
      "id": "5581ab57"
    },
    {
      "cell_type": "code",
      "metadata": {
        "id": "q6ODPoX3jMTJ"
      },
      "source": [
        "def epoch(model, test_loader ,train_loader, loss_func, optim, device):\n",
        "\n",
        "   train_loss_vals = []\n",
        "   train_accuracy_vals = []\n",
        "   test_loss_vals = []\n",
        "   test_accuracy_vals = []\n",
        "\n",
        "   train_batch_loss = 0\n",
        "   train_batch_accuracy = 0\n",
        "\n",
        "   model = model.to(device)\n",
        "\n",
        "   print(\"\\n\\t\\tTraining the batch... \\n\")\n",
        "\n",
        "   with tqdm(len(train_loader), position=0, leave=True) as pbar:\n",
        "    for image, label in tqdm(train_loader, ncols=100, position=0, leave=True):\n",
        "\n",
        "        optim.zero_grad()\n",
        "        \n",
        "        output = model(image.to(device))\n",
        "        \n",
        "        loss = loss_func(\n",
        "          output,\n",
        "          label.to(device)\n",
        "          )\n",
        "        \n",
        "        loss.backward()\n",
        "        optim.step()\n",
        "\n",
        "        accuracy = np.average(\n",
        "              np.argmax(\n",
        "                output.cpu().detach().numpy(), axis=1) == label.cpu().detach().numpy()\n",
        "          )\n",
        "\n",
        "        train_loss_vals.append(loss.cpu().item()) # training loss for graph\n",
        "        train_batch_loss += loss/len(train_loader) # training average loss\n",
        "        train_accuracy_vals.append(accuracy) # training accuray for graph\n",
        "        train_batch_accuracy += accuracy/len(train_loader) # training average accuracy\n",
        "        pbar.update()\n",
        "   \n",
        "   print(\"\\n\\t\\tValidating the batch... \\n\")\n",
        "\n",
        "   with tqdm(len(test_loader), position=0, leave=True) as pbar:\n",
        "    for image, label in tqdm(test_loader, ncols=100, position=0, leave=True):\n",
        "\n",
        "        output = model(image.to(device))\n",
        "\n",
        "        loss = loss_func(\n",
        "          output,\n",
        "          label.to(device)\n",
        "        )\n",
        "\n",
        "        accuracy = np.average(\n",
        "          np.argmax(\n",
        "              output.cpu().detach().numpy(), axis=1) == label.cpu().detach().numpy()\n",
        "          )\n",
        "\n",
        "        test_loss_vals.append(loss.cpu().item()) # testing loss for graph\n",
        "        test_accuracy_vals.append(accuracy) # testing accuracy for graph\n",
        "        pbar.update()\n",
        "\n",
        "   return (\n",
        "\n",
        "      # TRAIN LOSS\n",
        "      train_loss_vals, # list\n",
        "      train_batch_loss, # float\n",
        "\n",
        "      # TRAIN ACCURACY\n",
        "      train_accuracy_vals, # list\n",
        "      train_batch_accuracy, # float\n",
        "\n",
        "      # TEST LOSS, ACCURACY\n",
        "      test_loss_vals, # list\n",
        "      test_accuracy_vals # list\n",
        "   )"
      ],
      "id": "q6ODPoX3jMTJ",
      "execution_count": 98,
      "outputs": []
    },
    {
      "cell_type": "code",
      "metadata": {
        "id": "3f150980"
      },
      "source": [
        "net =  Net()\n",
        "net = net.to(device)\n",
        "loss_func = nn.CrossEntropyLoss()\n",
        "optimizer = optim.SGD(net.parameters(), lr=0.0005, momentum=0.9)"
      ],
      "id": "3f150980",
      "execution_count": 92,
      "outputs": []
    },
    {
      "cell_type": "code",
      "metadata": {
        "id": "5f6c4096",
        "colab": {
          "base_uri": "https://localhost:8080/"
        },
        "outputId": "fc8c1e96-dba3-49b2-bea9-195087cd1d6f"
      },
      "source": [
        "preds.shape, label.cpu().detach().numpy().shape"
      ],
      "id": "5f6c4096",
      "execution_count": 90,
      "outputs": [
        {
          "output_type": "execute_result",
          "data": {
            "text/plain": [
              "((16, 7), (16,))"
            ]
          },
          "metadata": {
            "tags": []
          },
          "execution_count": 90
        }
      ]
    },
    {
      "cell_type": "code",
      "metadata": {
        "id": "IHdYIug-j3AF"
      },
      "source": [
        "import os, json, warnings\n",
        "warnings.filterwarnings(\"ignore\")"
      ],
      "id": "IHdYIug-j3AF",
      "execution_count": 94,
      "outputs": []
    },
    {
      "cell_type": "code",
      "metadata": {
        "id": "8a99f6dd",
        "colab": {
          "base_uri": "https://localhost:8080/",
          "height": 464
        },
        "outputId": "c3d5ae0d-9f5a-42cd-8b17-6e48c8102e32"
      },
      "source": [
        "vals = epoch(net, test_loader ,train_loader, loss_func, optimizer, device)"
      ],
      "id": "8a99f6dd",
      "execution_count": 99,
      "outputs": [
        {
          "output_type": "stream",
          "text": [
            "  0%|                                                               | 1/871 [00:00<01:47,  8.09it/s]"
          ],
          "name": "stderr"
        },
        {
          "output_type": "stream",
          "text": [
            "\n",
            "\t\tTraining the batch... \n",
            "\n"
          ],
          "name": "stdout"
        },
        {
          "output_type": "stream",
          "text": [
            "100%|████████████████████████████████████████████████████████████▉| 870/871 [01:49<00:00,  8.88it/s]\n",
            "100%|█████████████████████████████████████████████████████████████| 871/871 [01:49<00:00,  7.92it/s]\n",
            "871it [01:49,  7.92it/s]\n",
            "  0%|                                                                       | 0/168 [00:00<?, ?it/s]\n",
            "0it [00:00, ?it/s]"
          ],
          "name": "stderr"
        },
        {
          "output_type": "stream",
          "text": [
            "\n",
            "\t\tValidating the batch... \n",
            "\n"
          ],
          "name": "stdout"
        },
        {
          "output_type": "stream",
          "text": [
            "\n"
          ],
          "name": "stderr"
        },
        {
          "output_type": "error",
          "ename": "NameError",
          "evalue": "ignored",
          "traceback": [
            "\u001b[0;31m---------------------------------------------------------------------------\u001b[0m",
            "\u001b[0;31mNameError\u001b[0m                                 Traceback (most recent call last)",
            "\u001b[0;32m<ipython-input-99-d9aa522a2166>\u001b[0m in \u001b[0;36m<module>\u001b[0;34m()\u001b[0m\n\u001b[0;32m----> 1\u001b[0;31m \u001b[0mvals\u001b[0m \u001b[0;34m=\u001b[0m \u001b[0mepoch\u001b[0m\u001b[0;34m(\u001b[0m\u001b[0mnet\u001b[0m\u001b[0;34m,\u001b[0m \u001b[0mtest_loader\u001b[0m \u001b[0;34m,\u001b[0m\u001b[0mtrain_loader\u001b[0m\u001b[0;34m,\u001b[0m \u001b[0mloss_func\u001b[0m\u001b[0;34m,\u001b[0m \u001b[0moptimizer\u001b[0m\u001b[0;34m,\u001b[0m \u001b[0mdevice\u001b[0m\u001b[0;34m)\u001b[0m\u001b[0;34m\u001b[0m\u001b[0;34m\u001b[0m\u001b[0m\n\u001b[0m",
            "\u001b[0;32m<ipython-input-98-749b434b7c4f>\u001b[0m in \u001b[0;36mepoch\u001b[0;34m(model, test_loader, train_loader, loss_func, optim, device)\u001b[0m\n\u001b[1;32m     46\u001b[0m         \u001b[0moutput\u001b[0m \u001b[0;34m=\u001b[0m \u001b[0mmodel\u001b[0m\u001b[0;34m(\u001b[0m\u001b[0mimage\u001b[0m\u001b[0;34m.\u001b[0m\u001b[0mto\u001b[0m\u001b[0;34m(\u001b[0m\u001b[0mdevice\u001b[0m\u001b[0;34m)\u001b[0m\u001b[0;34m)\u001b[0m\u001b[0;34m\u001b[0m\u001b[0;34m\u001b[0m\u001b[0m\n\u001b[1;32m     47\u001b[0m \u001b[0;34m\u001b[0m\u001b[0m\n\u001b[0;32m---> 48\u001b[0;31m         loss = LOSS_FUNC(\n\u001b[0m\u001b[1;32m     49\u001b[0m           \u001b[0moutput\u001b[0m\u001b[0;34m,\u001b[0m\u001b[0;34m\u001b[0m\u001b[0;34m\u001b[0m\u001b[0m\n\u001b[1;32m     50\u001b[0m           \u001b[0mlabel\u001b[0m\u001b[0;34m.\u001b[0m\u001b[0mto\u001b[0m\u001b[0;34m(\u001b[0m\u001b[0mdevice\u001b[0m\u001b[0;34m)\u001b[0m\u001b[0;34m\u001b[0m\u001b[0;34m\u001b[0m\u001b[0m\n",
            "\u001b[0;31mNameError\u001b[0m: name 'LOSS_FUNC' is not defined"
          ]
        }
      ]
    },
    {
      "cell_type": "code",
      "metadata": {
        "id": "afc13ed7"
      },
      "source": [
        "res = net(image[0].unsqueeze(0).cuda())"
      ],
      "id": "afc13ed7",
      "execution_count": null,
      "outputs": []
    },
    {
      "cell_type": "code",
      "metadata": {
        "id": "edea2240",
        "outputId": "8e6f00fe-43e2-4e7b-ab75-24b075094655"
      },
      "source": [
        "res"
      ],
      "id": "edea2240",
      "execution_count": null,
      "outputs": [
        {
          "output_type": "execute_result",
          "data": {
            "text/plain": [
              "tensor([[-0.1173, -0.1199,  0.1329,  0.2926,  0.3461, -0.1499,  0.1409]],\n",
              "       device='cuda:0', grad_fn=<AddmmBackward>)"
            ]
          },
          "metadata": {
            "tags": []
          },
          "execution_count": 101
        }
      ]
    },
    {
      "cell_type": "code",
      "metadata": {
        "id": "f9eb5609",
        "outputId": "889c44dd-0df9-41d1-f15d-e7f437ac15c3"
      },
      "source": [
        "label[0]"
      ],
      "id": "f9eb5609",
      "execution_count": null,
      "outputs": [
        {
          "output_type": "execute_result",
          "data": {
            "text/plain": [
              "tensor(4)"
            ]
          },
          "metadata": {
            "tags": []
          },
          "execution_count": 102
        }
      ]
    },
    {
      "cell_type": "code",
      "metadata": {
        "id": "144d33f1",
        "outputId": "8169ae94-a470-4010-ff23-07cb28a3699d"
      },
      "source": [
        "res.cpu().data.numpy().argmax()"
      ],
      "id": "144d33f1",
      "execution_count": null,
      "outputs": [
        {
          "output_type": "execute_result",
          "data": {
            "text/plain": [
              "4"
            ]
          },
          "metadata": {
            "tags": []
          },
          "execution_count": 109
        }
      ]
    },
    {
      "cell_type": "code",
      "metadata": {
        "id": "27888ed2",
        "outputId": "54d3c8b0-4a6f-4f4f-a650-b856e069c32a"
      },
      "source": [
        "# use python list to store loss and later convert it to np array and delete python list\n",
        "\n",
        "pyloss = []\n",
        "for i in range(10):\n",
        "    pyloss.append(i)\n",
        "nploss = np.array(pyloss, dtype=\"float64\")\n",
        "print(\"pyloss before del: \", pyloss)\n",
        "del pyloss\n",
        "print(nploss)"
      ],
      "id": "27888ed2",
      "execution_count": null,
      "outputs": [
        {
          "output_type": "stream",
          "text": [
            "pyloss before del:  [0, 1, 2, 3, 4, 5, 6, 7, 8, 9]\n",
            "[0. 1. 2. 3. 4. 5. 6. 7. 8. 9.]\n"
          ],
          "name": "stdout"
        }
      ]
    },
    {
      "cell_type": "code",
      "metadata": {
        "id": "50e6750f",
        "outputId": "3b4ed85c-9223-409b-9b71-3451207ed2a2"
      },
      "source": [
        "x"
      ],
      "id": "50e6750f",
      "execution_count": null,
      "outputs": [
        {
          "output_type": "execute_result",
          "data": {
            "text/plain": [
              "tensor([[ 0.2325,  0.0674, -0.0641, -0.0441,  0.1456,  0.1779,  0.2395]],\n",
              "       grad_fn=<AddmmBackward>)"
            ]
          },
          "metadata": {
            "tags": []
          },
          "execution_count": 25
        }
      ]
    },
    {
      "cell_type": "code",
      "metadata": {
        "id": "c4fd2f92"
      },
      "source": [
        "tes = [1 if net(image[i].unsqueeze(0).cuda()).cpu().data.numpy().argmax() == label[i] else 0 for i in range(10)]"
      ],
      "id": "c4fd2f92",
      "execution_count": null,
      "outputs": []
    },
    {
      "cell_type": "code",
      "metadata": {
        "id": "f79976a8"
      },
      "source": [
        "net.state_dict()"
      ],
      "id": "f79976a8",
      "execution_count": null,
      "outputs": []
    },
    {
      "cell_type": "code",
      "metadata": {
        "collapsed": true,
        "id": "fb1ae762",
        "outputId": "90c6dee8-bdc0-415d-f0d5-b7c41de00916"
      },
      "source": [
        "optimizer.state_dict()"
      ],
      "id": "fb1ae762",
      "execution_count": null,
      "outputs": [
        {
          "output_type": "execute_result",
          "data": {
            "text/plain": [
              "{'state': {0: {'momentum_buffer': tensor([[[[ 4.1772e-02,  4.6386e-02,  3.7139e-02,  2.8831e-02,  1.2046e-02,\n",
              "               1.4159e-03,  1.7098e-03],\n",
              "             [ 4.1783e-02,  4.1015e-02,  3.0438e-02,  1.6739e-02,  7.2340e-04,\n",
              "              -3.8403e-03,  2.9342e-03],\n",
              "             [ 3.3879e-02,  3.0395e-02,  2.2365e-02,  9.1122e-03,  6.5250e-04,\n",
              "               4.7763e-03,  1.4419e-02],\n",
              "             [ 3.0136e-02,  2.6518e-02,  1.7585e-02,  4.4089e-03,  8.9547e-04,\n",
              "               2.3401e-03,  1.6563e-02],\n",
              "             [ 3.0620e-02,  2.1740e-02,  7.7112e-03,  8.2436e-04, -4.4799e-03,\n",
              "              -2.3937e-03,  1.4382e-02],\n",
              "             [ 2.3280e-02,  1.6441e-02,  3.6832e-03, -2.9148e-03, -5.4497e-03,\n",
              "              -5.6341e-04,  1.4410e-02],\n",
              "             [ 1.2070e-02,  1.1348e-02,  7.1764e-03,  3.2737e-03,  6.9680e-04,\n",
              "               3.9707e-03,  1.2335e-02]],\n",
              "   \n",
              "            [[ 4.8708e-02,  4.9983e-02,  3.8166e-02,  2.8286e-02,  1.0263e-02,\n",
              "              -3.5417e-03, -4.7380e-03],\n",
              "             [ 4.6332e-02,  4.2175e-02,  2.8578e-02,  1.2950e-02, -4.2868e-03,\n",
              "              -1.1048e-02, -5.3673e-03],\n",
              "             [ 3.6490e-02,  3.0230e-02,  1.8271e-02,  2.6487e-03, -6.2207e-03,\n",
              "              -2.8132e-03,  6.7039e-03],\n",
              "             [ 3.1710e-02,  2.5797e-02,  1.2951e-02, -2.6197e-03, -5.6817e-03,\n",
              "              -4.5981e-03,  9.4935e-03],\n",
              "             [ 3.1330e-02,  1.9425e-02,  3.6208e-03, -4.2083e-03, -9.5645e-03,\n",
              "              -7.9619e-03,  7.6889e-03],\n",
              "             [ 2.3784e-02,  1.3203e-02, -8.0141e-04, -8.0705e-03, -1.0713e-02,\n",
              "              -6.4026e-03,  8.3757e-03],\n",
              "             [ 1.2370e-02,  8.0587e-03,  2.6398e-03, -1.2003e-03, -2.8758e-03,\n",
              "              -7.3494e-05,  8.5388e-03]],\n",
              "   \n",
              "            [[ 4.3635e-02,  4.5727e-02,  3.3720e-02,  2.4015e-02,  6.0912e-03,\n",
              "              -6.9503e-03, -8.1135e-03],\n",
              "             [ 4.1373e-02,  3.8211e-02,  2.4436e-02,  8.4087e-03, -8.1058e-03,\n",
              "              -1.3670e-02, -7.9725e-03],\n",
              "             [ 3.1335e-02,  2.5544e-02,  1.3147e-02, -2.7002e-03, -1.0452e-02,\n",
              "              -6.0683e-03,  3.6529e-03],\n",
              "             [ 2.5081e-02,  1.9863e-02,  7.2666e-03, -8.2437e-03, -1.0742e-02,\n",
              "              -8.7885e-03,  5.4458e-03],\n",
              "             [ 2.3225e-02,  1.2554e-02, -2.7809e-03, -1.0365e-02, -1.4471e-02,\n",
              "              -1.3102e-02,  2.5946e-03],\n",
              "             [ 1.5477e-02,  6.4871e-03, -7.7326e-03, -1.4668e-02, -1.6167e-02,\n",
              "              -1.1977e-02,  2.8058e-03],\n",
              "             [ 4.6184e-03,  1.6598e-03, -4.5240e-03, -8.1490e-03, -9.2970e-03,\n",
              "              -6.1747e-03,  2.8115e-03]]],\n",
              "   \n",
              "   \n",
              "           [[[ 1.4313e-02,  8.8750e-04, -9.6452e-03, -1.2525e-02, -1.4275e-02,\n",
              "              -1.5506e-02, -1.6539e-02],\n",
              "             [ 1.2744e-02, -1.5064e-04, -8.0430e-03, -9.4571e-03, -4.4918e-03,\n",
              "              -3.7925e-03, -7.5329e-03],\n",
              "             [ 1.3267e-02,  6.8836e-03,  1.1367e-03, -4.1908e-03,  2.5223e-05,\n",
              "               2.1988e-03, -2.2695e-04],\n",
              "             [ 8.8865e-03,  1.1618e-02,  7.6329e-03,  3.5738e-03,  5.7149e-03,\n",
              "               5.3269e-03,  4.4528e-03],\n",
              "             [ 7.2594e-03,  7.3638e-03,  5.1402e-03,  5.4869e-03,  8.4759e-03,\n",
              "               8.1729e-03,  2.5914e-03],\n",
              "             [-1.7267e-03,  2.5100e-03, -1.1418e-03, -5.4981e-04,  7.2409e-04,\n",
              "               3.5052e-03,  1.1235e-03],\n",
              "             [-6.1038e-03,  7.2076e-04,  3.9186e-04,  6.5590e-04, -2.3227e-03,\n",
              "               1.3671e-03,  2.7243e-03]],\n",
              "   \n",
              "            [[ 1.0646e-02, -4.4352e-03, -1.4535e-02, -1.7294e-02, -1.9374e-02,\n",
              "              -2.0157e-02, -2.0079e-02],\n",
              "             [ 9.9044e-03, -4.7497e-03, -1.2102e-02, -1.4073e-02, -9.6888e-03,\n",
              "              -8.2831e-03, -1.1269e-02],\n",
              "             [ 9.9319e-03,  2.3687e-03, -3.0297e-03, -8.7729e-03, -4.7759e-03,\n",
              "              -2.1473e-03, -4.0384e-03],\n",
              "             [ 4.6881e-03,  6.9747e-03,  4.3459e-03, -5.0324e-04,  1.3591e-03,\n",
              "               1.1319e-03,  9.4190e-04],\n",
              "             [ 3.7807e-03,  3.9362e-03,  2.5103e-03,  2.2896e-03,  4.5904e-03,\n",
              "               4.3927e-03,  2.7369e-04],\n",
              "             [-4.2553e-03,  7.3235e-04, -2.6929e-03, -3.1297e-03, -2.8707e-03,\n",
              "               5.7042e-04, -4.7974e-04],\n",
              "             [-8.5756e-03, -5.5883e-04, -9.4987e-04, -2.1948e-03, -5.5306e-03,\n",
              "              -3.6701e-04,  2.5435e-03]],\n",
              "   \n",
              "            [[ 7.7832e-03, -6.7680e-03, -1.6092e-02, -1.9358e-02, -2.0648e-02,\n",
              "              -2.0202e-02, -2.0073e-02],\n",
              "             [ 6.9536e-03, -7.1976e-03, -1.3880e-02, -1.6193e-02, -1.1440e-02,\n",
              "              -9.4755e-03, -1.1922e-02],\n",
              "             [ 6.9668e-03, -5.9526e-04, -5.2906e-03, -1.1299e-02, -7.0727e-03,\n",
              "              -4.1757e-03, -5.2737e-03],\n",
              "             [ 1.5977e-03,  3.6265e-03,  1.5349e-03, -3.2589e-03, -9.7060e-04,\n",
              "              -8.7352e-04, -6.0747e-04],\n",
              "             [ 4.0931e-04, -5.1781e-05, -4.7260e-04, -1.6566e-04,  2.8089e-03,\n",
              "               2.8652e-03, -1.1268e-03],\n",
              "             [-7.4040e-03, -2.7899e-03, -5.0367e-03, -4.8056e-03, -3.7365e-03,\n",
              "              -6.6242e-04, -1.5739e-03],\n",
              "             [-1.1156e-02, -3.0890e-03, -2.7780e-03, -3.4325e-03, -6.8174e-03,\n",
              "              -2.0805e-03,  9.0298e-04]]],\n",
              "   \n",
              "   \n",
              "           [[[ 1.7590e-02,  1.3683e-02,  8.3435e-03,  1.1682e-02,  2.0339e-02,\n",
              "               2.1457e-02,  1.9753e-02],\n",
              "             [ 1.1625e-02,  1.8300e-02,  1.6612e-02,  1.8189e-02,  2.1756e-02,\n",
              "               1.7616e-02,  1.0313e-02],\n",
              "             [ 1.8691e-02,  3.0421e-02,  3.0312e-02,  2.8499e-02,  2.4767e-02,\n",
              "               1.3871e-02,  7.7871e-04],\n",
              "             [ 2.7621e-02,  3.0224e-02,  2.8324e-02,  2.6584e-02,  2.2244e-02,\n",
              "               9.8923e-03,  4.2027e-03],\n",
              "             [ 2.9510e-02,  2.7476e-02,  2.1770e-02,  1.0620e-02,  7.3458e-03,\n",
              "               6.8958e-03,  1.0388e-02],\n",
              "             [ 3.1045e-02,  2.9725e-02,  2.0342e-02,  2.1959e-03, -2.6888e-03,\n",
              "               6.1498e-03,  1.1870e-02],\n",
              "             [ 2.7226e-02,  2.8997e-02,  2.0308e-02,  9.5276e-03,  6.5030e-03,\n",
              "               1.0126e-02,  9.7880e-03]],\n",
              "   \n",
              "            [[ 1.4131e-02,  1.0061e-02,  3.4442e-03,  5.3712e-03,  1.2109e-02,\n",
              "               1.0603e-02,  6.2144e-03],\n",
              "             [ 9.0510e-03,  1.5698e-02,  1.4009e-02,  1.3154e-02,  1.4098e-02,\n",
              "               6.5346e-03, -3.2412e-03],\n",
              "             [ 1.6074e-02,  2.7746e-02,  2.8203e-02,  2.4197e-02,  1.6249e-02,\n",
              "               1.4973e-03, -1.3158e-02],\n",
              "             [ 2.4853e-02,  2.6897e-02,  2.5480e-02,  2.1454e-02,  1.2419e-02,\n",
              "              -3.2865e-03, -1.0801e-02],\n",
              "             [ 2.7221e-02,  2.4861e-02,  1.9123e-02,  4.9418e-03, -3.1368e-03,\n",
              "              -6.6348e-03, -4.4947e-03],\n",
              "             [ 2.8178e-02,  2.7083e-02,  1.7206e-02, -5.2509e-03, -1.3660e-02,\n",
              "              -7.3865e-03, -2.7051e-03],\n",
              "             [ 2.2957e-02,  2.3986e-02,  1.4176e-02,  2.4572e-04, -5.6643e-03,\n",
              "              -3.1682e-03, -3.4992e-03]],\n",
              "   \n",
              "            [[ 1.0023e-02,  4.9950e-03, -2.9829e-03, -2.6074e-03,  3.0793e-03,\n",
              "               7.4347e-04, -2.9676e-03],\n",
              "             [ 4.6423e-03,  1.0287e-02,  7.0341e-03,  4.9626e-03,  5.3879e-03,\n",
              "              -2.9440e-03, -1.2631e-02],\n",
              "             [ 1.1069e-02,  2.1861e-02,  2.0861e-02,  1.6488e-02,  8.2952e-03,\n",
              "              -7.4270e-03, -2.2292e-02],\n",
              "             [ 1.9251e-02,  2.0834e-02,  1.8432e-02,  1.4321e-02,  5.0101e-03,\n",
              "              -1.1485e-02, -1.9091e-02],\n",
              "             [ 2.1486e-02,  1.8137e-02,  1.1620e-02, -2.7497e-03, -1.0686e-02,\n",
              "              -1.3669e-02, -1.1811e-02],\n",
              "             [ 2.2592e-02,  1.9539e-02,  9.4726e-03, -1.2440e-02, -2.0092e-02,\n",
              "              -1.3275e-02, -9.3749e-03],\n",
              "             [ 1.8290e-02,  1.7886e-02,  8.1712e-03, -5.4551e-03, -1.1242e-02,\n",
              "              -8.5759e-03, -9.7560e-03]]],\n",
              "   \n",
              "   \n",
              "           [[[ 8.7669e-02,  8.7504e-02,  8.1005e-02,  7.5888e-02,  7.3179e-02,\n",
              "               6.7326e-02,  6.9250e-02],\n",
              "             [ 9.5130e-02,  9.7531e-02,  9.0808e-02,  8.1597e-02,  7.6404e-02,\n",
              "               7.0802e-02,  6.5731e-02],\n",
              "             [ 9.4971e-02,  1.0035e-01,  9.7341e-02,  8.8131e-02,  7.9371e-02,\n",
              "               7.5540e-02,  7.1265e-02],\n",
              "             [ 8.9173e-02,  9.3570e-02,  9.2795e-02,  9.1993e-02,  8.6559e-02,\n",
              "               8.1057e-02,  7.1919e-02],\n",
              "             [ 8.5631e-02,  8.5729e-02,  8.8153e-02,  9.4633e-02,  9.3147e-02,\n",
              "               8.3331e-02,  6.9927e-02],\n",
              "             [ 9.1059e-02,  8.9707e-02,  9.0270e-02,  9.3957e-02,  8.8548e-02,\n",
              "               8.1710e-02,  7.0425e-02],\n",
              "             [ 9.1893e-02,  9.2574e-02,  9.2205e-02,  9.3710e-02,  9.0486e-02,\n",
              "               8.8300e-02,  7.3636e-02]],\n",
              "   \n",
              "            [[ 9.1324e-02,  8.8769e-02,  7.9659e-02,  7.3067e-02,  7.0944e-02,\n",
              "               6.7398e-02,  7.1612e-02],\n",
              "             [ 9.8766e-02,  9.7884e-02,  8.8348e-02,  7.8347e-02,  7.4305e-02,\n",
              "               7.1017e-02,  6.7965e-02],\n",
              "             [ 9.7934e-02,  9.9513e-02,  9.4201e-02,  8.4541e-02,  7.7050e-02,\n",
              "               7.5503e-02,  7.3021e-02],\n",
              "             [ 9.1482e-02,  9.1628e-02,  8.9409e-02,  8.8375e-02,  8.3895e-02,\n",
              "               7.9917e-02,  7.2111e-02],\n",
              "             [ 8.7142e-02,  8.4238e-02,  8.5358e-02,  9.1672e-02,  9.0818e-02,\n",
              "               8.2233e-02,  6.9816e-02],\n",
              "             [ 9.2175e-02,  8.8738e-02,  8.8009e-02,  9.1965e-02,  8.7018e-02,\n",
              "               8.1638e-02,  7.1217e-02],\n",
              "             [ 9.1687e-02,  9.1337e-02,  9.0055e-02,  9.1733e-02,  8.9612e-02,\n",
              "               8.8401e-02,  7.5416e-02]],\n",
              "   \n",
              "            [[ 9.1152e-02,  8.9540e-02,  8.0886e-02,  7.4026e-02,  7.2039e-02,\n",
              "               6.9811e-02,  7.4345e-02],\n",
              "             [ 9.9683e-02,  9.9986e-02,  9.1158e-02,  8.1314e-02,  7.7577e-02,\n",
              "               7.5032e-02,  7.2114e-02],\n",
              "             [ 9.9298e-02,  1.0262e-01,  9.8317e-02,  8.9163e-02,  8.1688e-02,\n",
              "               8.0570e-02,  7.8362e-02],\n",
              "             [ 9.3532e-02,  9.4827e-02,  9.3817e-02,  9.3021e-02,  8.8851e-02,\n",
              "               8.5943e-02,  7.8791e-02],\n",
              "             [ 8.8796e-02,  8.7405e-02,  8.9210e-02,  9.5709e-02,  9.5709e-02,\n",
              "               8.8472e-02,  7.7063e-02],\n",
              "             [ 9.3453e-02,  9.1331e-02,  9.1190e-02,  9.5493e-02,  9.1843e-02,\n",
              "               8.7616e-02,  7.8323e-02],\n",
              "             [ 9.2401e-02,  9.3919e-02,  9.3319e-02,  9.5423e-02,  9.4037e-02,\n",
              "               9.3763e-02,  8.1872e-02]]],\n",
              "   \n",
              "   \n",
              "           [[[ 1.5617e-01,  1.5076e-01,  1.5142e-01,  1.5932e-01,  1.6170e-01,\n",
              "               1.6070e-01,  1.6847e-01],\n",
              "             [ 1.5700e-01,  1.5126e-01,  1.4871e-01,  1.5880e-01,  1.6374e-01,\n",
              "               1.6304e-01,  1.6609e-01],\n",
              "             [ 1.5646e-01,  1.5333e-01,  1.5033e-01,  1.5648e-01,  1.6397e-01,\n",
              "               1.6748e-01,  1.6892e-01],\n",
              "             [ 1.5634e-01,  1.5394e-01,  1.5025e-01,  1.5451e-01,  1.5927e-01,\n",
              "               1.6235e-01,  1.6682e-01],\n",
              "             [ 1.5792e-01,  1.5669e-01,  1.4901e-01,  1.5043e-01,  1.5520e-01,\n",
              "               1.5985e-01,  1.6308e-01],\n",
              "             [ 1.5410e-01,  1.5507e-01,  1.4917e-01,  1.4703e-01,  1.5013e-01,\n",
              "               1.5575e-01,  1.6221e-01],\n",
              "             [ 1.5012e-01,  1.5201e-01,  1.5007e-01,  1.4875e-01,  1.4784e-01,\n",
              "               1.5284e-01,  1.6263e-01]],\n",
              "   \n",
              "            [[ 1.7253e-01,  1.6498e-01,  1.6536e-01,  1.7401e-01,  1.7901e-01,\n",
              "               1.7955e-01,  1.8669e-01],\n",
              "             [ 1.7317e-01,  1.6634e-01,  1.6299e-01,  1.7471e-01,  1.8177e-01,\n",
              "               1.8226e-01,  1.8445e-01],\n",
              "             [ 1.7197e-01,  1.6808e-01,  1.6478e-01,  1.7276e-01,  1.8189e-01,\n",
              "               1.8691e-01,  1.8752e-01],\n",
              "             [ 1.7213e-01,  1.6908e-01,  1.6537e-01,  1.7069e-01,  1.7619e-01,\n",
              "               1.8123e-01,  1.8521e-01],\n",
              "             [ 1.7479e-01,  1.7291e-01,  1.6462e-01,  1.6580e-01,  1.7163e-01,\n",
              "               1.7757e-01,  1.8123e-01],\n",
              "             [ 1.7414e-01,  1.7305e-01,  1.6534e-01,  1.6328e-01,  1.6664e-01,\n",
              "               1.7237e-01,  1.7957e-01],\n",
              "             [ 1.7140e-01,  1.7139e-01,  1.6723e-01,  1.6554e-01,  1.6308e-01,\n",
              "               1.6791e-01,  1.7850e-01]],\n",
              "   \n",
              "            [[ 1.7521e-01,  1.6897e-01,  1.7030e-01,  1.7900e-01,  1.8272e-01,\n",
              "               1.8182e-01,  1.8637e-01],\n",
              "             [ 1.7590e-01,  1.6966e-01,  1.6745e-01,  1.7929e-01,  1.8487e-01,\n",
              "               1.8369e-01,  1.8371e-01],\n",
              "             [ 1.7421e-01,  1.7098e-01,  1.6881e-01,  1.7711e-01,  1.8438e-01,\n",
              "               1.8776e-01,  1.8620e-01],\n",
              "             [ 1.7334e-01,  1.7049e-01,  1.6796e-01,  1.7424e-01,  1.7811e-01,\n",
              "               1.8130e-01,  1.8308e-01],\n",
              "             [ 1.7482e-01,  1.7336e-01,  1.6578e-01,  1.6770e-01,  1.7222e-01,\n",
              "               1.7668e-01,  1.7803e-01],\n",
              "             [ 1.7344e-01,  1.7266e-01,  1.6575e-01,  1.6361e-01,  1.6551e-01,\n",
              "               1.6989e-01,  1.7502e-01],\n",
              "             [ 1.7060e-01,  1.7046e-01,  1.6688e-01,  1.6514e-01,  1.6122e-01,\n",
              "               1.6391e-01,  1.7228e-01]]],\n",
              "   \n",
              "   \n",
              "           [[[ 3.2661e-03,  1.3996e-03,  6.1181e-04,  4.8434e-03,  2.5506e-03,\n",
              "               1.1324e-04, -1.3501e-04],\n",
              "             [-2.6857e-03, -7.5444e-04,  2.3850e-03,  3.2717e-03, -8.4045e-04,\n",
              "              -4.1405e-03,  5.6786e-04],\n",
              "             [-1.0781e-02, -6.7174e-03, -9.3878e-04,  1.2743e-03, -1.2570e-03,\n",
              "              -7.5197e-03, -5.5320e-04],\n",
              "             [-1.2386e-02, -8.1028e-03, -2.3591e-03, -1.0717e-03,  1.4595e-03,\n",
              "               1.0367e-03,  4.3956e-03],\n",
              "             [-7.7911e-03, -4.9623e-03, -1.4021e-03, -1.9581e-03,  1.9724e-03,\n",
              "               4.4325e-03,  7.1768e-03],\n",
              "             [-6.7988e-03, -6.2512e-03, -2.0528e-03,  5.7501e-05,  3.3291e-03,\n",
              "               2.3053e-03,  6.3343e-03],\n",
              "             [-3.1032e-03, -3.5613e-03,  3.4829e-03,  3.7452e-03,  3.3720e-03,\n",
              "              -4.7052e-04,  1.6738e-03]],\n",
              "   \n",
              "            [[-1.0469e-03, -2.7783e-03, -3.0266e-03,  2.5378e-03,  9.6420e-04,\n",
              "              -2.3962e-03, -3.7171e-03],\n",
              "             [-6.0961e-03, -3.9814e-03, -3.5311e-05,  1.9402e-03, -2.5197e-03,\n",
              "              -6.6986e-03, -3.1245e-03],\n",
              "             [-1.3003e-02, -8.6010e-03, -1.5971e-03,  1.3302e-03, -1.9754e-03,\n",
              "              -8.7402e-03, -3.2075e-03],\n",
              "             [-1.3942e-02, -9.0652e-03, -1.9055e-03, -1.6175e-04,  7.6074e-04,\n",
              "              -3.8923e-04,  2.0027e-03],\n",
              "             [-8.5306e-03, -4.7390e-03, -4.5039e-05, -1.7077e-03, -2.6592e-04,\n",
              "               1.6380e-03,  3.7668e-03],\n",
              "             [-6.9961e-03, -6.1856e-03, -1.4327e-03, -1.1453e-03, -8.2207e-04,\n",
              "              -1.9236e-03,  2.3498e-03],\n",
              "             [-3.6845e-03, -5.0317e-03,  2.2865e-03,  9.1382e-04, -2.3805e-03,\n",
              "              -6.1059e-03, -3.2382e-03]],\n",
              "   \n",
              "            [[-1.5759e-03, -3.8023e-03, -4.5317e-03,  1.1575e-03,  7.6226e-05,\n",
              "              -1.9471e-03, -2.6984e-03],\n",
              "             [-6.1682e-03, -4.8945e-03, -1.5111e-03,  1.0481e-03, -2.5052e-03,\n",
              "              -5.7915e-03, -2.0423e-03],\n",
              "             [-1.3287e-02, -1.0168e-02, -3.3872e-03,  4.4546e-04, -2.2037e-03,\n",
              "              -8.3578e-03, -2.4890e-03],\n",
              "             [-1.5085e-02, -1.1030e-02, -4.0297e-03, -1.5113e-03, -2.2859e-05,\n",
              "              -6.1840e-04,  2.4591e-03],\n",
              "             [-1.0297e-02, -7.0702e-03, -1.9769e-03, -2.3920e-03, -2.2792e-04,\n",
              "               2.1397e-03,  4.4104e-03],\n",
              "             [-8.7429e-03, -7.9919e-03, -2.7029e-03, -1.7675e-03, -1.7555e-05,\n",
              "              -1.0192e-03,  3.2751e-03],\n",
              "             [-4.4504e-03, -5.5847e-03,  1.9059e-03,  2.9014e-04, -1.8770e-03,\n",
              "              -5.1801e-03, -2.3509e-03]]]], device='cuda:0')},\n",
              "  1: {'momentum_buffer': tensor([ 5.6218e-02,  1.6847e-02,  3.7334e-02,  8.1746e-02,  1.4716e-01,\n",
              "           -6.7129e-05], device='cuda:0')},\n",
              "  2: {'momentum_buffer': tensor([[[[-5.8045e-03, -3.0606e-03,  9.0315e-03,  9.4881e-03,  6.6010e-03],\n",
              "             [ 1.6639e-03,  3.0601e-03,  4.9584e-03, -4.2576e-03, -7.4651e-03],\n",
              "             [ 4.6919e-03,  1.7276e-03, -8.0936e-03, -7.9000e-03, -2.9522e-03],\n",
              "             [ 7.0200e-04, -5.4715e-03,  1.5351e-04, -5.7036e-03, -1.3728e-02],\n",
              "             [-9.9203e-04, -2.2007e-03, -8.5674e-04, -5.8442e-03, -1.5470e-02]],\n",
              "   \n",
              "            [[-1.6311e-03, -8.8415e-03, -1.2109e-03, -8.0077e-03, -3.4891e-03],\n",
              "             [ 3.7349e-03, -9.0312e-03, -1.2562e-03, -5.4214e-03, -5.7549e-03],\n",
              "             [ 9.1935e-03,  2.4398e-03, -1.7370e-03, -5.9178e-03, -3.8349e-03],\n",
              "             [ 1.5639e-03,  6.7332e-05, -1.3989e-03, -1.9990e-03, -6.0532e-03],\n",
              "             [ 2.8849e-03, -2.7356e-03,  4.7093e-03,  4.5907e-03, -6.0557e-03]],\n",
              "   \n",
              "            [[-6.5859e-04,  1.6342e-03,  6.7529e-03,  1.6097e-03,  3.9700e-03],\n",
              "             [ 1.7369e-03, -6.9446e-04,  1.8965e-05, -5.6735e-03, -6.2586e-03],\n",
              "             [ 4.0049e-03,  3.8555e-04, -1.2482e-03, -5.1099e-03,  3.5822e-04],\n",
              "             [ 1.8745e-03,  9.8092e-04, -1.5859e-03, -3.0721e-03, -8.2164e-04],\n",
              "             [-4.1795e-03,  8.3140e-04, -1.1882e-03,  6.9228e-04, -1.3900e-03]],\n",
              "   \n",
              "            [[ 1.5379e-02,  7.9928e-03,  5.5383e-03, -2.3880e-03, -1.6758e-04],\n",
              "             [ 1.3966e-02,  3.7573e-03, -1.5227e-03,  2.9452e-03,  1.0964e-02],\n",
              "             [ 1.6642e-02,  1.8406e-03,  8.8786e-03,  6.0529e-03,  5.5809e-03],\n",
              "             [ 1.1542e-02,  1.4978e-02,  6.5784e-03,  3.8361e-03,  1.2161e-02],\n",
              "             [ 8.8780e-03,  1.3120e-02,  4.8730e-03,  9.3913e-03,  4.0065e-03]],\n",
              "   \n",
              "            [[ 3.7713e-02,  2.9423e-02,  2.1883e-02,  1.3170e-02,  4.4128e-04],\n",
              "             [ 3.0222e-02,  2.8301e-02,  1.5002e-02,  5.4902e-03,  2.0304e-02],\n",
              "             [ 2.8892e-02,  1.9002e-02,  2.0850e-02,  2.3319e-02,  3.5412e-02],\n",
              "             [ 2.4586e-02,  2.7030e-02,  1.9211e-02,  1.2807e-02,  2.4468e-02],\n",
              "             [ 2.4931e-02,  2.7307e-02,  1.8121e-02,  2.1001e-02,  2.5374e-02]],\n",
              "   \n",
              "            [[-2.0698e-03, -4.1944e-03,  2.7727e-03, -2.0795e-03, -4.8490e-03],\n",
              "             [ 9.7935e-04, -1.9717e-03, -3.1052e-03, -5.8480e-03, -2.6305e-03],\n",
              "             [ 3.2971e-03, -2.4671e-03,  1.0541e-03, -1.9012e-03, -8.2861e-04],\n",
              "             [ 4.6800e-03,  1.6022e-03,  4.9156e-04,  3.0732e-04, -1.0037e-03],\n",
              "             [ 1.1411e-03,  1.2334e-03,  9.4322e-04,  7.0490e-04, -6.7460e-04]]],\n",
              "   \n",
              "   \n",
              "           [[[ 1.5958e-02,  1.5027e-02, -1.1536e-03, -2.1345e-02, -2.1710e-02],\n",
              "             [ 1.4245e-02,  5.9113e-03, -7.5845e-03, -2.1151e-02, -1.3333e-02],\n",
              "             [ 6.1348e-03,  5.8877e-03,  4.4637e-03,  6.3013e-03,  1.6629e-02],\n",
              "             [ 3.6449e-03, -4.6900e-04,  5.3472e-04,  1.2945e-03,  5.2290e-03],\n",
              "             [-3.3088e-03, -1.4396e-02, -1.6335e-02, -1.4681e-02, -4.8125e-03]],\n",
              "   \n",
              "            [[ 7.8001e-03,  1.0389e-02,  6.8948e-03, -1.0103e-02, -2.7153e-02],\n",
              "             [ 9.6705e-03,  9.2964e-03,  1.1883e-03, -1.7752e-02, -2.0769e-02],\n",
              "             [ 7.3576e-03,  1.4384e-02,  1.1299e-02, -4.0615e-03, -9.5532e-03],\n",
              "             [-2.2756e-03,  5.1254e-03,  4.3111e-03,  6.6081e-03,  4.6901e-03],\n",
              "             [-7.6934e-03, -5.5574e-03, -8.5425e-03, -1.1679e-02, -6.7809e-03]],\n",
              "   \n",
              "            [[ 1.1754e-02,  1.0335e-02, -2.4040e-03, -1.1486e-02, -5.6852e-03],\n",
              "             [ 8.3793e-03,  5.9707e-03, -2.4270e-03, -2.2220e-03,  8.1197e-03],\n",
              "             [ 5.0445e-03,  6.3230e-03,  4.7005e-03,  7.0722e-03,  1.0288e-02],\n",
              "             [ 1.6981e-03, -4.0855e-03, -4.4560e-03, -4.4022e-03, -4.7418e-04],\n",
              "             [-1.3690e-03, -7.0865e-03, -4.8474e-03, -3.0891e-04, -5.3731e-04]],\n",
              "   \n",
              "            [[ 2.4753e-02,  2.7598e-02,  2.1330e-02,  1.8447e-02,  3.1827e-02],\n",
              "             [ 1.6137e-02,  1.9387e-02,  3.0593e-02,  3.0073e-02,  4.1044e-02],\n",
              "             [ 2.0463e-02,  1.2279e-02,  8.4691e-03,  9.7060e-03,  2.4105e-02],\n",
              "             [ 4.5815e-02,  3.7946e-02,  2.7305e-02,  1.8768e-02,  1.1311e-02],\n",
              "             [ 4.9730e-02,  3.5911e-02,  3.0029e-02,  3.0688e-02,  3.6012e-02]],\n",
              "   \n",
              "            [[ 7.0824e-02,  6.7382e-02,  5.2675e-02,  6.5085e-02,  9.6056e-02],\n",
              "             [ 5.1191e-02,  4.1553e-02,  6.3039e-02,  7.5332e-02,  1.0839e-01],\n",
              "             [ 4.0603e-02,  3.0289e-02,  3.5533e-02,  4.7664e-02,  6.9896e-02],\n",
              "             [ 7.6134e-02,  5.6653e-02,  4.1229e-02,  3.1951e-02,  3.0743e-02],\n",
              "             [ 9.5759e-02,  7.2412e-02,  7.1910e-02,  6.5001e-02,  6.6569e-02]],\n",
              "   \n",
              "            [[ 4.6503e-03,  1.0126e-02,  5.1547e-03, -1.7249e-03, -5.5375e-03],\n",
              "             [ 4.8395e-03,  8.3050e-03,  6.9216e-03,  1.4872e-03,  1.3368e-04],\n",
              "             [ 3.9629e-03,  6.6043e-03,  1.1474e-02,  6.2635e-03,  1.1001e-03],\n",
              "             [-3.3263e-03,  2.9652e-03,  6.0784e-04,  2.3105e-03,  1.2087e-03],\n",
              "             [-7.6645e-03, -1.8972e-03, -4.5783e-03, -3.4287e-03, -4.4082e-03]]],\n",
              "   \n",
              "   \n",
              "           [[[ 6.6533e-03,  1.6686e-02,  1.1405e-02,  1.0614e-02, -3.5037e-03],\n",
              "             [ 1.0038e-02,  1.2560e-02,  4.3483e-03,  4.5184e-03, -4.2039e-03],\n",
              "             [ 1.7151e-02,  1.4596e-03,  6.5244e-04,  5.2327e-03,  2.6721e-03],\n",
              "             [ 7.1392e-03, -5.6897e-03, -2.4296e-03,  1.0034e-03,  1.7017e-03],\n",
              "             [ 6.7977e-03,  2.3103e-03, -2.7061e-03,  7.5018e-04, -2.3596e-03]],\n",
              "   \n",
              "            [[ 1.6372e-02,  1.5966e-02,  1.4024e-02,  1.7611e-02,  8.6412e-04],\n",
              "             [ 1.4032e-02,  2.3512e-02,  1.3833e-02,  2.1616e-02,  2.6624e-03],\n",
              "             [ 1.9272e-02,  1.0850e-02,  3.3337e-03,  1.1752e-02,  5.1136e-03],\n",
              "             [ 1.4908e-02,  7.7621e-03,  3.2792e-03,  4.6813e-03,  1.3753e-03],\n",
              "             [ 4.5291e-03,  6.0590e-03,  1.7855e-03,  1.1143e-03, -9.6996e-04]],\n",
              "   \n",
              "            [[ 4.2328e-03,  6.5806e-03,  4.3507e-03,  3.7669e-03,  1.0623e-03],\n",
              "             [ 8.8991e-03,  4.2494e-03,  4.4693e-03,  5.6993e-03,  3.1025e-03],\n",
              "             [ 4.8983e-03, -1.3534e-05,  9.9926e-04,  3.0033e-03,  5.0849e-03],\n",
              "             [ 2.3874e-03, -1.3823e-04,  4.1230e-03,  1.4280e-03,  1.9828e-03],\n",
              "             [ 6.2697e-03,  5.1097e-03,  4.0337e-03,  3.3101e-03,  2.4300e-03]],\n",
              "   \n",
              "            [[ 8.4568e-03,  5.1090e-03, -3.1656e-03,  9.2040e-04,  8.1201e-03],\n",
              "             [ 8.5864e-03,  2.4055e-03,  6.7717e-03,  9.6476e-03,  1.3086e-02],\n",
              "             [ 7.2991e-03, -1.1065e-03,  8.6725e-04,  9.3441e-03,  1.4881e-02],\n",
              "             [ 2.2370e-02,  5.5882e-03,  7.7743e-03,  7.2675e-03,  1.3304e-02],\n",
              "             [ 2.4746e-02,  1.3762e-02,  1.4414e-02,  5.9345e-03,  1.1684e-02]],\n",
              "   \n",
              "            [[-6.9126e-03,  1.3873e-03, -2.8853e-03,  3.5819e-04,  1.7215e-02],\n",
              "             [ 1.4054e-02, -6.9651e-04,  4.7413e-03,  1.1892e-02,  2.1442e-02],\n",
              "             [ 1.7358e-02, -1.1847e-03,  3.1955e-03,  1.0233e-02,  2.5290e-02],\n",
              "             [ 3.2263e-02,  7.6954e-03,  1.2916e-02,  1.6644e-02,  2.9334e-02],\n",
              "             [ 4.4431e-02,  3.0296e-02,  2.2924e-02,  1.7328e-02,  3.5687e-02]],\n",
              "   \n",
              "            [[ 8.3582e-03,  6.1103e-03,  5.8704e-03,  5.8217e-03,  5.7523e-03],\n",
              "             [ 4.1398e-03,  4.6272e-03,  6.1916e-03,  4.7898e-03,  5.5168e-03],\n",
              "             [ 5.2318e-03,  4.4933e-03,  2.6312e-03,  3.3077e-03,  5.4893e-03],\n",
              "             [ 3.8008e-03,  4.7668e-03,  5.2083e-04,  1.5916e-03,  4.1681e-03],\n",
              "             [ 2.4470e-04,  4.5069e-03,  2.7090e-03,  1.7104e-03,  5.9658e-04]]],\n",
              "   \n",
              "   \n",
              "           ...,\n",
              "   \n",
              "   \n",
              "           [[[-3.0712e-03, -7.2122e-03, -5.3683e-03,  9.6801e-03,  7.4834e-03],\n",
              "             [ 3.9060e-03, -7.6566e-04, -2.2392e-03,  1.2231e-02,  1.4273e-02],\n",
              "             [ 7.5179e-03, -3.8203e-04,  1.2167e-03,  1.4734e-02,  2.6393e-02],\n",
              "             [ 7.1198e-03,  2.9288e-03,  1.7754e-02,  2.2135e-02,  2.1331e-02],\n",
              "             [ 6.2402e-03,  1.5447e-02,  2.2606e-02,  1.2599e-02,  7.4700e-03]],\n",
              "   \n",
              "            [[-1.0515e-02, -1.7565e-02, -9.3939e-03,  4.4866e-03,  1.7813e-02],\n",
              "             [-7.1692e-03, -5.3021e-03, -1.1994e-02,  4.4018e-03,  9.9117e-03],\n",
              "             [ 1.9167e-05,  5.4455e-04, -9.2575e-04,  1.2905e-02,  1.4593e-02],\n",
              "             [-2.1431e-03, -8.4842e-04, -5.3415e-04,  8.2303e-03,  1.5363e-02],\n",
              "             [-5.3090e-03,  3.6474e-03,  1.2748e-02,  1.3806e-02,  6.8601e-03]],\n",
              "   \n",
              "            [[ 1.0940e-03,  1.9454e-03,  2.6102e-03,  1.2002e-02,  8.9737e-03],\n",
              "             [ 1.8692e-03, -1.1971e-04,  3.8699e-03,  1.3253e-02,  1.2401e-02],\n",
              "             [ 4.0795e-03,  1.9098e-03,  6.1067e-03,  1.2304e-02,  1.5321e-02],\n",
              "             [ 7.3022e-03,  8.5927e-03,  1.5315e-02,  1.4569e-02,  1.2331e-02],\n",
              "             [ 6.3607e-03,  1.1816e-02,  1.2253e-02,  4.6119e-03,  7.0880e-03]],\n",
              "   \n",
              "            [[ 2.3343e-02,  2.8092e-02,  2.7813e-02,  2.4131e-02, -3.6303e-04],\n",
              "             [ 2.4863e-02,  2.3082e-02,  2.7046e-02,  3.0770e-02,  1.5327e-02],\n",
              "             [ 1.9343e-02,  1.8781e-02,  1.9482e-02,  1.7695e-02,  1.4387e-02],\n",
              "             [ 1.4311e-02,  1.2606e-02,  1.3547e-02,  3.3644e-03,  8.8918e-03],\n",
              "             [ 2.4448e-02,  6.7501e-03,  2.6103e-03,  6.9184e-03,  1.3243e-02]],\n",
              "   \n",
              "            [[ 5.7764e-02,  7.0557e-02,  6.7225e-02,  5.2392e-02,  1.2753e-02],\n",
              "             [ 6.3592e-02,  5.8260e-02,  5.9715e-02,  5.3058e-02,  2.9335e-02],\n",
              "             [ 5.3689e-02,  5.2527e-02,  5.4954e-02,  4.4014e-02,  2.8343e-02],\n",
              "             [ 4.1581e-02,  3.7017e-02,  4.1735e-02,  2.4033e-02,  2.1933e-02],\n",
              "             [ 3.7752e-02,  2.7068e-02,  1.2758e-02,  7.7579e-03,  7.0365e-03]],\n",
              "   \n",
              "            [[-3.7284e-03,  1.4110e-03, -2.5983e-03, -1.3255e-03,  9.5393e-03],\n",
              "             [-3.2051e-03, -1.6882e-03, -5.0174e-04,  3.0210e-03,  9.1437e-03],\n",
              "             [ 1.0539e-03,  2.5113e-03,  2.4420e-03,  6.7868e-03,  8.7164e-03],\n",
              "             [ 1.0083e-03,  2.8430e-03,  4.2423e-03,  7.2751e-03,  9.3549e-03],\n",
              "             [ 8.1805e-04,  1.1411e-03,  3.3558e-03,  5.6432e-03,  8.7338e-03]]],\n",
              "   \n",
              "   \n",
              "           [[[-1.7840e-03, -2.6581e-03,  1.8547e-03, -3.0526e-03,  4.8979e-03],\n",
              "             [ 9.4732e-03,  7.5622e-03,  4.0292e-03,  4.2262e-03,  7.7840e-03],\n",
              "             [ 1.0729e-02,  1.1688e-03, -4.2188e-03,  2.0256e-03,  2.6747e-03],\n",
              "             [ 9.9047e-03, -2.2179e-03, -5.3111e-03, -3.3665e-03,  2.9846e-03],\n",
              "             [ 1.1836e-02,  1.0103e-03, -2.2813e-03,  3.1174e-03,  1.3995e-03]],\n",
              "   \n",
              "            [[ 3.6952e-03,  4.8706e-03,  2.2153e-03,  3.1321e-03,  7.3758e-03],\n",
              "             [ 6.3111e-03,  3.1495e-03,  3.5776e-03,  4.7726e-03,  8.3702e-03],\n",
              "             [ 8.3211e-03,  5.7304e-03,  3.7675e-03,  5.5902e-03,  9.0985e-03],\n",
              "             [ 7.3288e-03,  3.9991e-03, -4.2140e-03, -5.0994e-03,  4.1674e-03],\n",
              "             [ 5.7028e-04,  8.1224e-03, -3.5991e-03, -5.0965e-03,  8.2836e-03]],\n",
              "   \n",
              "            [[ 9.8420e-04,  2.2127e-03,  6.0806e-04, -7.9289e-04,  2.6707e-03],\n",
              "             [ 1.3457e-03, -6.9577e-04,  5.7999e-04,  9.1328e-04,  4.2439e-04],\n",
              "             [ 1.4477e-03, -2.2089e-03, -1.1927e-03, -2.2758e-03, -6.1968e-04],\n",
              "             [ 3.3581e-03, -3.4252e-04, -1.8642e-03, -1.0736e-03, -2.6470e-03],\n",
              "             [ 1.7983e-03, -9.0277e-04, -4.2062e-03, -2.5174e-03, -2.2846e-03]],\n",
              "   \n",
              "            [[ 3.2982e-03, -2.5305e-03, -1.2473e-03, -3.3712e-03, -5.4607e-03],\n",
              "             [-4.1978e-03, -6.5423e-03, -3.7432e-03, -6.8194e-03, -9.0079e-03],\n",
              "             [-6.4880e-04, -1.5453e-03,  1.3331e-03,  9.9822e-04, -6.5003e-05],\n",
              "             [ 1.5301e-03, -6.0269e-03,  1.4104e-03,  1.4009e-03, -4.1234e-03],\n",
              "             [ 7.6513e-04, -7.1331e-04, -1.4685e-03,  1.9615e-03, -3.6637e-03]],\n",
              "   \n",
              "            [[ 8.0082e-03,  2.1399e-03, -3.0316e-03, -8.5360e-03, -1.5721e-02],\n",
              "             [-1.7944e-03, -7.6180e-03, -7.5988e-03, -6.7849e-03, -1.8787e-02],\n",
              "             [-1.4719e-03, -5.3575e-03, -2.6959e-03, -3.4008e-03, -9.9258e-03],\n",
              "             [-7.9503e-04, -5.0004e-03,  2.3334e-03,  5.2244e-03, -1.0827e-02],\n",
              "             [ 3.1475e-03,  3.5601e-04, -1.6586e-03,  5.2235e-03, -1.0857e-02]],\n",
              "   \n",
              "            [[ 2.3840e-03,  3.7667e-03,  3.8221e-03,  7.5445e-04,  3.8477e-03],\n",
              "             [ 1.2942e-03,  4.1382e-03,  5.1403e-03,  4.0199e-03,  5.3517e-03],\n",
              "             [ 2.1932e-03,  3.2487e-03,  2.8855e-03,  1.2890e-03,  3.9514e-03],\n",
              "             [-1.4436e-05,  4.4521e-03, -1.2829e-03, -1.6406e-03,  9.1412e-04],\n",
              "             [-1.8843e-03,  3.9200e-03, -3.7253e-07, -6.0746e-04,  7.7465e-04]]],\n",
              "   \n",
              "   \n",
              "           [[[ 3.9729e-03, -4.0656e-03, -8.1426e-03, -1.3858e-02, -1.3662e-02],\n",
              "             [ 1.3653e-03, -6.3975e-04, -1.1483e-02, -2.1826e-02, -1.6984e-02],\n",
              "             [ 4.4007e-03,  7.0365e-03, -1.9381e-02, -2.1608e-02, -1.1948e-02],\n",
              "             [ 1.0331e-02,  7.4820e-03, -2.8670e-03, -1.1836e-02, -6.4917e-03],\n",
              "             [ 1.0848e-02,  8.0188e-03,  7.0565e-03, -1.7684e-03,  7.2942e-03]],\n",
              "   \n",
              "            [[ 3.0895e-03,  1.0131e-03, -9.7722e-03, -1.2463e-02, -1.5152e-02],\n",
              "             [ 1.1808e-03,  2.5594e-03, -7.0177e-03, -2.1551e-02, -2.9776e-02],\n",
              "             [ 2.0609e-03,  5.1494e-03, -7.7120e-03, -1.9446e-02, -2.7859e-02],\n",
              "             [ 6.1021e-03,  9.9234e-03,  3.4796e-04, -1.2880e-02, -1.8174e-02],\n",
              "             [ 1.5049e-02,  1.2135e-02,  1.1736e-02, -8.6740e-03,  6.9104e-04]],\n",
              "   \n",
              "            [[ 3.2566e-03, -2.7377e-03, -1.5570e-03, -6.5154e-03, -3.2418e-03],\n",
              "             [ 4.2276e-03, -3.3062e-03, -2.0270e-03, -6.1137e-03,  6.9383e-04],\n",
              "             [ 1.2084e-03,  3.8496e-04, -1.5644e-03,  8.4376e-04,  1.8349e-03],\n",
              "             [ 5.8722e-03,  6.6143e-03,  5.0890e-03, -3.1686e-03, -5.7159e-03],\n",
              "             [ 6.6163e-03,  7.2216e-03,  4.2615e-03,  4.3224e-03,  5.6961e-03]],\n",
              "   \n",
              "            [[ 6.1159e-02,  5.7749e-02,  6.9712e-02,  7.6192e-02,  7.4940e-02],\n",
              "             [ 6.8840e-02,  6.0450e-02,  6.3872e-02,  7.0711e-02,  7.5807e-02],\n",
              "             [ 6.3546e-02,  5.4236e-02,  5.1620e-02,  7.7159e-02,  6.6630e-02],\n",
              "             [ 5.7801e-02,  5.1828e-02,  5.3530e-02,  5.8947e-02,  4.7958e-02],\n",
              "             [ 4.0482e-02,  4.1956e-02,  4.7356e-02,  4.4172e-02,  3.8074e-02]],\n",
              "   \n",
              "            [[ 1.5179e-01,  1.4981e-01,  1.6486e-01,  1.7713e-01,  1.7080e-01],\n",
              "             [ 1.5529e-01,  1.5305e-01,  1.5914e-01,  1.8229e-01,  1.9893e-01],\n",
              "             [ 1.6125e-01,  1.5106e-01,  1.4985e-01,  1.8388e-01,  1.8781e-01],\n",
              "             [ 1.4563e-01,  1.3834e-01,  1.4138e-01,  1.5483e-01,  1.5985e-01],\n",
              "             [ 9.2477e-02,  1.1102e-01,  1.2242e-01,  1.3024e-01,  1.2851e-01]],\n",
              "   \n",
              "            [[ 5.3004e-03,  2.1169e-03, -1.3762e-03, -7.0015e-03, -7.2672e-03],\n",
              "             [ 6.1943e-03, -4.5214e-04, -3.7548e-03, -9.7749e-03, -1.0271e-02],\n",
              "             [ 5.8252e-03, -2.4271e-04, -2.4025e-03, -7.5108e-03, -9.9127e-03],\n",
              "             [ 6.3728e-03,  5.9176e-03,  5.1028e-03, -2.6998e-03, -7.0363e-03],\n",
              "             [ 1.1360e-02,  1.0391e-02,  6.7981e-03,  5.1285e-03,  4.2146e-03]]]],\n",
              "          device='cuda:0')},\n",
              "  3: {'momentum_buffer': tensor([ 0.0087,  0.0251,  0.0305,  0.0418, -0.0226, -0.0257,  0.0272,  0.0557,\n",
              "           -0.0394, -0.0336,  0.1532,  0.0185,  0.0622,  0.0268, -0.0062,  0.0656],\n",
              "          device='cuda:0')},\n",
              "  4: {'momentum_buffer': tensor([[[[-8.6304e-03, -5.3475e-03,  6.7587e-03],\n",
              "             [-8.0817e-03,  1.2702e-02,  1.1423e-02],\n",
              "             [-6.6675e-03,  1.0323e-02,  1.6429e-02]],\n",
              "   \n",
              "            [[ 2.8814e-02,  4.6317e-02,  4.0188e-02],\n",
              "             [ 3.6656e-02,  4.7998e-02,  2.1228e-02],\n",
              "             [ 2.0161e-02,  5.7962e-02,  2.7024e-02]],\n",
              "   \n",
              "            [[-9.3348e-03, -4.2116e-03,  3.4138e-03],\n",
              "             [-1.7858e-04, -3.6967e-03, -4.2893e-03],\n",
              "             [ 5.2962e-03, -7.7333e-03, -1.1524e-02]],\n",
              "   \n",
              "            ...,\n",
              "   \n",
              "            [[ 1.3888e-02,  2.7795e-02,  3.3203e-02],\n",
              "             [ 1.7786e-02,  1.3255e-02,  1.3805e-02],\n",
              "             [ 2.2558e-02,  3.5471e-02,  1.5376e-02]],\n",
              "   \n",
              "            [[-3.9680e-03, -5.5245e-03,  4.1267e-03],\n",
              "             [-2.1426e-03, -3.4963e-04, -1.8330e-03],\n",
              "             [ 3.8409e-03,  2.4026e-03, -6.4287e-03]],\n",
              "   \n",
              "            [[ 4.0686e-02,  5.0698e-02,  4.5768e-02],\n",
              "             [ 4.5440e-02,  4.7213e-02,  2.5946e-02],\n",
              "             [ 2.8258e-02,  5.2292e-02,  3.1013e-02]]],\n",
              "   \n",
              "   \n",
              "           [[[ 1.4049e-03,  5.0160e-03,  1.0939e-02],\n",
              "             [ 1.3925e-03,  5.1007e-03,  2.9087e-03],\n",
              "             [ 6.6424e-04, -9.6124e-04,  1.1858e-03]],\n",
              "   \n",
              "            [[ 8.4756e-03,  1.0130e-02,  2.0977e-02],\n",
              "             [ 1.3573e-03,  1.2005e-02,  1.5850e-02],\n",
              "             [ 1.6619e-03,  5.1212e-03,  7.3409e-03]],\n",
              "   \n",
              "            [[ 1.4820e-03,  2.8039e-03,  2.9505e-03],\n",
              "             [ 6.3778e-03,  1.6086e-03,  2.8894e-03],\n",
              "             [ 4.2746e-03,  2.4724e-03,  1.2697e-03]],\n",
              "   \n",
              "            ...,\n",
              "   \n",
              "            [[ 8.6431e-03,  8.4615e-03,  1.1638e-02],\n",
              "             [ 9.8072e-03,  1.0578e-02,  1.1048e-02],\n",
              "             [ 3.8747e-03,  3.1100e-03,  7.1333e-03]],\n",
              "   \n",
              "            [[ 1.8592e-03,  3.5599e-03,  2.6431e-03],\n",
              "             [ 6.4499e-03,  1.4555e-03,  2.0516e-03],\n",
              "             [ 4.7483e-03,  2.3987e-03,  3.0551e-03]],\n",
              "   \n",
              "            [[ 8.6887e-03,  1.7798e-02,  2.0398e-02],\n",
              "             [ 1.0397e-02,  1.4090e-02,  1.7773e-02],\n",
              "             [ 6.7512e-03,  4.1206e-03,  7.8873e-03]]],\n",
              "   \n",
              "   \n",
              "           [[[-4.3615e-03, -6.4786e-03, -5.6919e-03],\n",
              "             [ 1.8643e-03,  1.1722e-03, -1.8521e-03],\n",
              "             [-3.3023e-03, -1.7897e-03, -1.4807e-03]],\n",
              "   \n",
              "            [[-1.0245e-02, -1.4212e-02, -1.2456e-02],\n",
              "             [ 2.9335e-04, -5.3418e-03, -4.0021e-03],\n",
              "             [ 5.7363e-04,  3.4060e-04, -1.8656e-03]],\n",
              "   \n",
              "            [[-1.8764e-03, -2.4058e-03, -3.1391e-03],\n",
              "             [-3.0999e-03, -2.0071e-03, -2.9480e-03],\n",
              "             [-3.8236e-03, -3.4349e-03, -2.9238e-03]],\n",
              "   \n",
              "            ...,\n",
              "   \n",
              "            [[-1.0775e-02, -1.3500e-02, -1.3659e-02],\n",
              "             [-1.0423e-03, -4.1094e-03, -4.3924e-03],\n",
              "             [-4.8434e-03, -4.0163e-03, -6.1961e-03]],\n",
              "   \n",
              "            [[-2.1804e-03, -2.9314e-03, -2.8059e-03],\n",
              "             [-3.1582e-03, -3.2892e-03, -3.8624e-03],\n",
              "             [-1.7219e-03, -2.3229e-03, -2.1802e-03]],\n",
              "   \n",
              "            [[-1.3065e-02, -1.9162e-02, -1.9169e-02],\n",
              "             [ 5.7564e-05, -3.4895e-03, -6.0171e-03],\n",
              "             [-9.3941e-03, -8.6633e-03, -4.4809e-03]]],\n",
              "   \n",
              "   \n",
              "           ...,\n",
              "   \n",
              "   \n",
              "           [[[-1.3048e-04, -4.3521e-05, -1.2847e-03],\n",
              "             [-3.5689e-04, -4.4474e-04, -2.2887e-03],\n",
              "             [-5.3976e-04, -3.0487e-04, -3.2515e-04]],\n",
              "   \n",
              "            [[-8.4995e-04, -3.3291e-03, -5.9404e-03],\n",
              "             [-1.3407e-03, -1.3328e-03, -5.2099e-03],\n",
              "             [-1.8489e-03, -1.0071e-03, -4.2413e-03]],\n",
              "   \n",
              "            [[-7.5920e-04, -1.4503e-03, -8.6064e-04],\n",
              "             [-7.9287e-04, -1.7125e-03, -1.7281e-03],\n",
              "             [-6.4517e-04, -1.4957e-03, -1.9096e-03]],\n",
              "   \n",
              "            ...,\n",
              "   \n",
              "            [[-2.1127e-03, -4.7156e-03, -7.2095e-03],\n",
              "             [-2.5698e-03, -2.9273e-03, -4.1196e-03],\n",
              "             [-2.8076e-03, -2.9345e-03, -5.0967e-03]],\n",
              "   \n",
              "            [[-1.3556e-03, -1.8003e-03, -2.3154e-03],\n",
              "             [-1.4910e-03, -1.6884e-03, -1.9029e-03],\n",
              "             [-1.2147e-03, -1.8715e-03, -2.1870e-03]],\n",
              "   \n",
              "            [[-2.8278e-03, -4.6070e-03, -8.3194e-03],\n",
              "             [-3.1538e-03, -3.4948e-03, -7.8273e-03],\n",
              "             [-3.8697e-03, -3.4457e-03, -6.6020e-03]]],\n",
              "   \n",
              "   \n",
              "           [[[ 1.9094e-02,  6.0628e-03,  8.8973e-03],\n",
              "             [ 6.0492e-03, -2.8218e-03,  2.3454e-03],\n",
              "             [ 1.8148e-02, -2.1113e-03, -7.9883e-03]],\n",
              "   \n",
              "            [[ 6.0486e-02,  7.4561e-02,  7.4866e-02],\n",
              "             [ 5.6102e-02,  4.2783e-02,  5.5386e-02],\n",
              "             [ 4.2057e-02,  2.2138e-02,  9.1010e-03]],\n",
              "   \n",
              "            [[ 1.2268e-03, -8.7802e-03, -5.8108e-03],\n",
              "             [ 2.2048e-03, -5.1360e-04,  7.0331e-03],\n",
              "             [ 7.5638e-03,  2.4430e-02,  9.5771e-03]],\n",
              "   \n",
              "            ...,\n",
              "   \n",
              "            [[ 2.2227e-02,  2.1031e-02,  3.9603e-02],\n",
              "             [ 4.0593e-02,  5.3910e-02,  4.8350e-02],\n",
              "             [ 3.2573e-02,  2.6462e-02,  1.4282e-02]],\n",
              "   \n",
              "            [[-2.2302e-03, -7.9298e-03, -1.8115e-03],\n",
              "             [ 4.6802e-03, -3.5333e-03,  9.9990e-03],\n",
              "             [ 5.4198e-03,  1.0824e-02,  1.5367e-02]],\n",
              "   \n",
              "            [[ 6.4477e-02,  6.4359e-02,  7.0481e-02],\n",
              "             [ 6.6477e-02,  6.2176e-02,  4.7561e-02],\n",
              "             [ 4.9788e-02,  2.6239e-02,  1.1372e-02]]],\n",
              "   \n",
              "   \n",
              "           [[[ 8.8006e-03,  3.4790e-03,  1.7725e-02],\n",
              "             [ 2.4417e-02,  1.0262e-02,  2.0111e-02],\n",
              "             [ 1.2408e-02,  1.0222e-02,  2.8198e-02]],\n",
              "   \n",
              "            [[ 6.9312e-02,  4.2205e-02,  3.5111e-02],\n",
              "             [ 5.2558e-02,  1.7287e-02,  4.7882e-02],\n",
              "             [ 2.8288e-02,  3.3069e-02,  5.4198e-02]],\n",
              "   \n",
              "            [[ 1.9941e-03, -6.7475e-03,  1.5937e-03],\n",
              "             [ 1.2403e-02,  2.4058e-03, -4.0729e-04],\n",
              "             [ 4.3607e-03,  7.9060e-03, -3.3380e-03]],\n",
              "   \n",
              "            ...,\n",
              "   \n",
              "            [[ 4.3498e-02,  2.7564e-02,  2.1999e-02],\n",
              "             [ 4.0805e-02,  2.1879e-02,  2.5671e-02],\n",
              "             [ 2.2930e-02,  2.0927e-02,  2.4272e-02]],\n",
              "   \n",
              "            [[ 1.1096e-03,  4.9553e-04,  1.6251e-03],\n",
              "             [ 6.3723e-03,  1.3732e-03,  1.9020e-03],\n",
              "             [ 8.1432e-03,  3.7679e-03, -5.6315e-04]],\n",
              "   \n",
              "            [[ 6.9443e-02,  4.6016e-02,  3.4454e-02],\n",
              "             [ 5.9766e-02,  3.5577e-02,  4.9801e-02],\n",
              "             [ 4.7132e-02,  4.3337e-02,  5.7533e-02]]]], device='cuda:0')},\n",
              "  5: {'momentum_buffer': tensor([ 2.7131e-02,  9.3153e-03, -1.5335e-02,  1.5860e-01,  1.2770e-07,\n",
              "            1.2750e-02,  9.5283e-02,  1.2548e-01,  1.1443e-02, -3.0360e-02,\n",
              "            4.9051e-02,  3.3689e-02, -1.7109e-02, -1.6112e-02,  4.7185e-02,\n",
              "            6.3858e-02], device='cuda:0')},\n",
              "  6: {'momentum_buffer': tensor([[ 2.5630e-01,  4.2008e-03, -6.4641e-04,  2.1691e-01,  9.0333e-10,\n",
              "             1.6894e-01,  2.4491e-01,  3.2333e-01,  9.9005e-03,  1.9097e-02,\n",
              "             2.1849e-01,  1.8747e-02,  2.0983e-03, -1.8319e-05,  3.8576e-02,\n",
              "             9.1177e-03],\n",
              "           [-3.6605e-01,  1.9219e-03,  1.2271e-03, -2.9850e-01,  9.3926e-10,\n",
              "            -2.6829e-01, -3.6365e-01, -5.1033e-01,  5.4261e-03, -6.1174e-02,\n",
              "            -3.1934e-01, -2.1502e-02, -2.2578e-03, -8.5674e-04, -3.6724e-02,\n",
              "            -2.3851e-02],\n",
              "           [ 7.2132e-02, -9.5708e-03, -3.3727e-03,  4.4434e-02, -7.6137e-09,\n",
              "             4.7577e-02,  9.3547e-02,  7.1831e-02, -5.1863e-03,  1.2727e-02,\n",
              "             8.6135e-02, -4.7888e-04, -9.7278e-04,  3.1176e-04,  5.5893e-03,\n",
              "            -2.0914e-03],\n",
              "           [ 2.6909e-01,  1.5726e-03,  3.2331e-03,  1.9216e-01,  1.9689e-09,\n",
              "             1.9876e-01,  2.6464e-01,  3.6517e-01, -1.6238e-02,  2.5303e-02,\n",
              "             1.9122e-01,  2.0404e-02,  1.5019e-03,  4.0879e-04,  2.3475e-02,\n",
              "            -3.1097e-03],\n",
              "           [ 6.4920e-02, -2.1886e-03,  1.0652e-04,  7.4118e-02,  1.7545e-09,\n",
              "             7.8368e-02,  6.7607e-02,  1.4767e-01, -8.1773e-03,  2.9293e-02,\n",
              "             4.3902e-02, -2.0293e-03, -2.4818e-03, -1.2349e-04,  4.2194e-03,\n",
              "             4.0121e-03],\n",
              "           [-3.9234e-01,  2.2086e-03, -3.2594e-04, -3.4581e-01,  7.0268e-10,\n",
              "            -2.7051e-01, -4.0273e-01, -5.1763e-01, -1.3443e-02, -3.0935e-02,\n",
              "            -3.2208e-01, -1.7043e-02,  6.9576e-04,  1.6868e-04, -3.9339e-02,\n",
              "            -6.6151e-03],\n",
              "           [ 9.5957e-02,  1.8554e-03, -2.2169e-04,  1.1669e-01,  1.3450e-09,\n",
              "             4.5165e-02,  9.5677e-02,  1.1997e-01,  2.7717e-02,  5.6891e-03,\n",
              "             1.0167e-01,  1.9020e-03,  1.4164e-03,  1.0932e-04,  4.2027e-03,\n",
              "             2.2538e-02]], device='cuda:0')},\n",
              "  7: {'momentum_buffer': tensor([ 0.3222, -0.4000,  0.1098,  0.2540,  0.0167, -0.4490,  0.1462],\n",
              "          device='cuda:0')}},\n",
              " 'param_groups': [{'lr': 0.0005,\n",
              "   'momentum': 0.9,\n",
              "   'dampening': 0,\n",
              "   'weight_decay': 0,\n",
              "   'nesterov': False,\n",
              "   'params': [0, 1, 2, 3, 4, 5, 6, 7]}]}"
            ]
          },
          "metadata": {
            "tags": []
          },
          "execution_count": 122
        }
      ]
    },
    {
      "cell_type": "code",
      "metadata": {
        "id": "ca77aa26"
      },
      "source": [
        "EPOCH = 1\n",
        "PATH = \"./dataset/waifus/models/\"\n",
        "MODEL1 = \"3conv_3RLU_3MP2d_1d_crossentropy_sgd.pt\"\n",
        "LOSS = 1.9"
      ],
      "id": "ca77aa26",
      "execution_count": null,
      "outputs": []
    },
    {
      "cell_type": "code",
      "metadata": {
        "id": "b48c5658"
      },
      "source": [
        "# Save the model\n",
        "torch.save({\n",
        "    'epoch': EPOCH,\n",
        "    'model_state_dict': net.state_dict(),\n",
        "    'optimizer_state_dict': optimizer.state_dict(),\n",
        "    'loss': LOSS\n",
        "}, \n",
        "    PATH+MODEL1)"
      ],
      "id": "b48c5658",
      "execution_count": null,
      "outputs": []
    },
    {
      "cell_type": "code",
      "metadata": {
        "id": "b6b2af55"
      },
      "source": [
        "# Load the saved model\n",
        "checkpoint = torch.load(PATH+MODEL1)\n",
        "net.load_state_dict(checkpoint['model_state_dict'])\n",
        "optimizer.load_state_dict(checkpoint['optimizer_state_dict'])"
      ],
      "id": "b6b2af55",
      "execution_count": null,
      "outputs": []
    }
  ]
}