{
  "nbformat": 4,
  "nbformat_minor": 5,
  "metadata": {
    "kernelspec": {
      "display_name": "Python 3 (ipykernel)",
      "language": "python",
      "name": "python3"
    },
    "language_info": {
      "codemirror_mode": {
        "name": "ipython",
        "version": 3
      },
      "file_extension": ".py",
      "mimetype": "text/x-python",
      "name": "python",
      "nbconvert_exporter": "python",
      "pygments_lexer": "ipython3",
      "version": "3.9.6"
    },
    "colab": {
      "name": "Dere-Net dirty work - colab.ipynb",
      "provenance": [],
      "collapsed_sections": [
        "b0AbPeEnw2Sy"
      ],
      "toc_visible": true,
      "include_colab_link": true
    },
    "accelerator": "GPU"
  },
  "cells": [
    {
      "cell_type": "markdown",
      "metadata": {
        "id": "view-in-github",
        "colab_type": "text"
      },
      "source": [
        "<a href=\"https://colab.research.google.com/github/insaiyancvk/Dere-Net/blob/main/Dere_Net_dirty_work_colab.ipynb\" target=\"_parent\"><img src=\"https://colab.research.google.com/assets/colab-badge.svg\" alt=\"Open In Colab\"/></a>"
      ]
    },
    {
      "cell_type": "markdown",
      "metadata": {
        "id": "29abe927"
      },
      "source": [
        "## 1. See what data we got"
      ],
      "id": "29abe927"
    },
    {
      "cell_type": "markdown",
      "metadata": {
        "id": "b0AbPeEnw2Sy"
      },
      "source": [
        "## Plot sample data\n"
      ],
      "id": "b0AbPeEnw2Sy"
    },
    {
      "cell_type": "code",
      "metadata": {
        "id": "d36177ec",
        "cellView": "form"
      },
      "source": [
        "#@title\n",
        "path = \"./waifus/waifus_images/waifus_images_train/Dandere/Kosaki Onodera40.png\"\n",
        "w = cv2.imread(path, 3)\n",
        "RGB_img = cv2.cvtColor(w, cv2.COLOR_BGR2RGB)\n",
        "plt.imshow(RGB_img)"
      ],
      "id": "d36177ec",
      "execution_count": null,
      "outputs": []
    },
    {
      "cell_type": "code",
      "metadata": {
        "id": "6d2f68b0",
        "colab": {
          "base_uri": "https://localhost:8080/"
        },
        "cellView": "form",
        "outputId": "69e91472-4553-4cd4-f31c-672654423b84"
      },
      "source": [
        "#@title\n",
        "RGB_img.shape, type(RGB_img)"
      ],
      "id": "6d2f68b0",
      "execution_count": null,
      "outputs": [
        {
          "output_type": "execute_result",
          "data": {
            "text/plain": [
              "((300, 168, 3), numpy.ndarray)"
            ]
          },
          "metadata": {
            "tags": []
          },
          "execution_count": 52
        }
      ]
    },
    {
      "cell_type": "code",
      "metadata": {
        "colab": {
          "base_uri": "https://localhost:8080/",
          "height": 35
        },
        "cellView": "form",
        "id": "JdDPXy7tYLEa",
        "outputId": "50866da7-9ef3-4070-b2de-280795974998"
      },
      "source": [
        "#@title\n",
        "TRAIN_PATH"
      ],
      "id": "JdDPXy7tYLEa",
      "execution_count": null,
      "outputs": [
        {
          "output_type": "execute_result",
          "data": {
            "application/vnd.google.colaboratory.intrinsic+json": {
              "type": "string"
            },
            "text/plain": [
              "'waifus\\\\waifus_images\\\\waifus_images_train'"
            ]
          },
          "metadata": {
            "tags": []
          },
          "execution_count": 56
        }
      ]
    },
    {
      "cell_type": "code",
      "metadata": {
        "id": "982cd220",
        "cellView": "form"
      },
      "source": [
        "#@title\n",
        "## Print out images\n",
        "fig, axs = plt.subplots(7,5, figsize=(15,15), constrained_layout=True)\n",
        "fig = plt.figure(figsize=(10,3))\n",
        "\n",
        "for ax, row in zip(axs[:,0], class_list):\n",
        "    ax.set_ylabel(row, rotation=90, fontsize=26)\n",
        "\n",
        "a, b = 0, 0\n",
        "for i in os.listdir(TRAIN_PATH):\n",
        "    imgs = os.listdir(os.path.join(TRAIN_PATH, i))\n",
        "    random.shuffle(imgs)\n",
        "    for j in imgs:\n",
        "        img2 = cv2.imread(os.path.join(TRAIN_PATH, i, j))\n",
        "        try:\n",
        "            img2 = cv2.cvtColor(img2, cv2.COLOR_BGR2RGB)\n",
        "        except:\n",
        "            print(os.path.join(TRAIN_PATH, i, j))\n",
        "            continue\n",
        "        rm = axs[a][b].imshow(img2)\n",
        "        plt.axis('off')\n",
        "        rm.axes.get_xaxis().set_visible(False)\n",
        "#         rm.axes.get_yaxis().set_visible(False)\n",
        "        b+=1\n",
        "        if b>4:\n",
        "            b=0\n",
        "            break\n",
        "    a+=1\n",
        "    if a>6:\n",
        "        break"
      ],
      "id": "982cd220",
      "execution_count": null,
      "outputs": []
    },
    {
      "cell_type": "markdown",
      "metadata": {
        "id": "ad76db4b"
      },
      "source": [
        "**NOTE:** Use image size: 224,224 or 256,256 ~(since we ain't got chad GPUs)~ we do 😏\n"
      ],
      "id": "ad76db4b"
    },
    {
      "cell_type": "markdown",
      "metadata": {
        "id": "ZcbSK3Hw0HsE"
      },
      "source": [
        "## Import stuff"
      ],
      "id": "ZcbSK3Hw0HsE"
    },
    {
      "cell_type": "code",
      "metadata": {
        "colab": {
          "base_uri": "https://localhost:8080/"
        },
        "id": "vdS5lrByzcjR",
        "outputId": "157bcad3-991c-4c5a-c87c-42b862346955"
      },
      "source": [
        "from google.colab import drive\n",
        "drive.mount('/content/drive')\n",
        "\n",
        "import cv2\n",
        "import numpy as np\n",
        "import matplotlib.pyplot as plt\n",
        "import os, random\n",
        "\n",
        "import torch\n",
        "import torchvision\n",
        "\n",
        "from torch.utils.data import DataLoader\n",
        "from torchvision.utils import make_grid\n",
        "\n",
        "import torch.nn as nn\n",
        "import torch.nn.functional as F\n",
        "import torch.optim as optim\n",
        "import torchvision.transforms as transforms\n",
        "import torchvision.datasets as datasets\n",
        "\n",
        "# from tqdm import tnrange,tqdm_notebook, tqdm\n",
        "# from functools import partial\n",
        "from tqdm.notebook import tqdm\n",
        "import warnings\n",
        "warnings.filterwarnings(\"ignore\")\n",
        "\n",
        "device = 'cuda' if torch.cuda.is_available() else 'cpu'"
      ],
      "id": "vdS5lrByzcjR",
      "execution_count": 31,
      "outputs": [
        {
          "output_type": "stream",
          "text": [
            "Drive already mounted at /content/drive; to attempt to forcibly remount, call drive.mount(\"/content/drive\", force_remount=True).\n"
          ],
          "name": "stdout"
        }
      ]
    },
    {
      "cell_type": "markdown",
      "metadata": {
        "id": "3AqinxyDuVFk"
      },
      "source": [
        "# Preprocess the data"
      ],
      "id": "3AqinxyDuVFk"
    },
    {
      "cell_type": "code",
      "metadata": {
        "id": "G0yrzXz1Zs8h"
      },
      "source": [
        "print(\"Initializing kaggle\")\n",
        "!rm -rf /root/.kaggle && mkdir /root/.kaggle && mkdir /content/waifus && cp /content/drive/MyDrive/kaggle/kaggle.json . && mv kaggle.json /root/.kaggle/kaggle.json\n",
        "\n",
        "print(\"Downloading the dataset\")\n",
        "!kaggle datasets download jahelsantiagoleon/female-anime-characters-anime-dataset \n",
        "print(\"Extracting the dataset\")\n",
        "!unzip -q female-anime-characters-anime-dataset.zip -d /content/waifus/\n",
        "\n",
        "print(\"Initializing classes\")\n",
        "\n",
        "class_list = [\n",
        "    'dandere',\n",
        "    'deredere',\n",
        "    'himdere',\n",
        "    'kundere',\n",
        "    'tsundere',\n",
        "    'yandere',\n",
        "    'yangire'\n",
        "]\n",
        "\n",
        "print(\"Creating folders for workspace\")\n",
        "FOLDERS = {\n",
        "    \"WAIFUS\": os.path.join(\"waifus\"),\n",
        "    # \"PROCESSED\": os.path.join(\"waifus\",\"waifus_images\"),\n",
        "    \"TRAIN\": os.path.join(\"waifus\",\"waifus_images\",\"waifus_images_train\"),\n",
        "    \"TEST\": os.path.join(\"waifus\",\"waifus_images\",\"waifus_images_val\"),\n",
        "    \"WORKSPACE\": os.path.join(\"waifus\",\"Workspace\"),\n",
        "    \"MODELS\" : os.path.join(\"waifus\",\"Workspace\",\"Models\"),\n",
        "    \"LOSS\" : os.path.join(\"waifus\",\"Workspace\",\"Loss\"),\n",
        "    \"ACCURACY\" : os.path.join(\"waifus\",\"Workspace\",\"Accuracy\"),\n",
        "    \"LOSS_TRAIN\" : os.path.join(\"waifus\",\"Workspace\",\"Loss\",\"Train\"),\n",
        "    \"LOSS_TEST\" : os.path.join(\"waifus\",\"Workspace\",\"Loss\",\"Test\"),\n",
        "    \"ACCURACY_TRAIN\" : os.path.join(\"waifus\",\"Workspace\",\"Accuracy\",\"Train\"),\n",
        "    \"ACCURACY_TEST\" :os.path.join(\"waifus\",\"Workspace\",\"Accuracy\",\"Test\")\n",
        "}\n",
        "\n",
        "for key in FOLDERS:\n",
        "    if not os.path.isdir(\"./\"+FOLDERS[key]):\n",
        "        print(key,\" directory doesn't exist. Creating one.\")\n",
        "        os.mkdir(\"./\"+FOLDERS[key])\n",
        "        print(key, \" directory created.\")\n",
        "    else:\n",
        "        print(key, \"exists\")\n",
        "\n",
        "print(\"Transforming the waifu data\")\n",
        "transformations = transforms.Compose([\n",
        "    transforms.Resize([256,256]),\n",
        "    transforms.ToTensor(),\n",
        "    transforms.Normalize((0.5, 0.5, 0.5), (0.5, 0.5, 0.5))\n",
        "])\n",
        "\n",
        "transformations_test = transforms.Compose([\n",
        "    transforms.Resize([256,256]),\n",
        "    transforms.ToTensor(),\n",
        "    transforms.Normalize((0.5, 0.5, 0.5), (0.5, 0.5, 0.5))\n",
        "])\n",
        "\n",
        "# class ImageFolderWithPaths(torchvision.datasets.ImageFolder):    \n",
        "#     def __getitem__(self, index):\n",
        "#         original_tuple = super(ImageFolderWithPaths, self).__getitem__(index)\n",
        "#         path = self.imgs[index][0]\n",
        "#         tuple_with_path = (original_tuple + (path,))\n",
        "#         return tuple_with_path\n",
        "\n",
        "# train_dataset = ImageFolderWithPaths(root=\"./dataset/waifus/waifus_images/waifus_images_train/\", transform = transformations)\n",
        "print(\"Creating train dataloader\")\n",
        "train_dataset = datasets.ImageFolder(FOLDERS[\"TRAIN\"], transform = transformations)\n",
        "train_loader = DataLoader(train_dataset, batch_size = 16, shuffle=True)\n",
        "\n",
        "# test_dataset = torchvision.datasets.ImageFolder(FOLDERS[\"TEST\"], transform=transformations_test)\n",
        "print(\"Creating test dataloader\")\n",
        "test_dataset = datasets.ImageFolder(FOLDERS[\"TEST\"], transform = transformations)\n",
        "test_loader = torch.utils.data.DataLoader(test_dataset, batch_size=16,\n",
        "                                         shuffle=True)\n",
        "\n",
        "print(\"Data preprocessing completed.\")"
      ],
      "id": "G0yrzXz1Zs8h",
      "execution_count": null,
      "outputs": []
    },
    {
      "cell_type": "markdown",
      "metadata": {
        "id": "af6e0aad"
      },
      "source": [
        "## The Model:"
      ],
      "id": "af6e0aad"
    },
    {
      "cell_type": "code",
      "metadata": {
        "id": "6cb615a6"
      },
      "source": [
        "class Net(nn.Module):\n",
        "    def __init__(self):\n",
        "        \n",
        "        super(Net, self).__init__()\n",
        "        \n",
        "        self.pool = nn.MaxPool2d(5, 5)\n",
        "        \n",
        "        self.conv1 = nn.Conv2d(3, 6, 7)\n",
        "        self.conv2 = nn.Conv2d(6, 16, 5)\n",
        "        self.conv3 = nn.Conv2d(16, 16, 3)\n",
        "        \n",
        "        self.fc1 = nn.Linear(16, 7)\n",
        "        #self.fc2 = nn.Linear(500, 50)\n",
        "        #self.fc3 = nn.Linear(50, 7)\n",
        "\n",
        "    def forward(self, x):\n",
        "        \n",
        "        # Conv layer 1\n",
        "        x = self.conv1(x)\n",
        "        x = F.relu(x)\n",
        "        x = self.pool(x)\n",
        "        \n",
        "        # Conv layer 2\n",
        "        x = self.conv2(x)\n",
        "        x = F.relu(x)\n",
        "        x = self.pool(x)\n",
        "        \n",
        "        # Conv layer 3\n",
        "        x = self.conv3(x)\n",
        "        x = F.relu(x)\n",
        "        x = self.pool(x)\n",
        "\n",
        "        #print(\"Tensor shape: \",x.shape)\n",
        "        \n",
        "        # Flatten the batch\n",
        "        x = x.view(x.size(0),-1)\n",
        "        #print(x.shape)\n",
        "        \n",
        "        # Dense layer 1\n",
        "        x = self.fc1(x)\n",
        "        #x = F.relu(self.fc2(x))\n",
        "        #x = self.fc3(x)\n",
        "        return x"
      ],
      "id": "6cb615a6",
      "execution_count": 5,
      "outputs": []
    },
    {
      "cell_type": "code",
      "metadata": {
        "id": "aff21df1",
        "cellView": "form"
      },
      "source": [
        "#@title\n",
        "net =  Net()\n",
        "criterion = nn.CrossEntropyLoss()\n",
        "optimizer = optim.SGD(net.parameters(), lr=0.0005, momentum=0.9)\n",
        "items = iter(train_loader)"
      ],
      "id": "aff21df1",
      "execution_count": 5,
      "outputs": []
    },
    {
      "cell_type": "code",
      "metadata": {
        "id": "2ed06e08",
        "cellView": "form"
      },
      "source": [
        "#@title\n",
        "# Testing if all the parameters of the NN are set properly\n",
        "\n",
        "image, label, p = items.next()\n",
        "x = net(image[0].unsqueeze(0))\n",
        "# print(x.shape)\n",
        "f = plt.imshow(np.transpose(image[0], (1,2,0)));\n",
        "f.axes.get_xaxis().set_visible(False)\n",
        "f.axes.get_yaxis().set_visible(False)\n",
        "plt.title(\n",
        "    \"Name: \"+''.join([i for i in os.path.splitext(os.path.basename(p[0]))[0] if not i.isdigit()])+\"\\n\"+\n",
        "    \"Predicted: \"+class_list[x.cpu().data.numpy().argmax()]+\"\\n\"+\"Actual: \"+class_list[label[0].item()+1],\n",
        "    loc='center'\n",
        ");"
      ],
      "id": "2ed06e08",
      "execution_count": null,
      "outputs": []
    },
    {
      "cell_type": "markdown",
      "metadata": {
        "id": "fe855d53"
      },
      "source": [
        "## Steps\n",
        "- pass imgae to the NN\n",
        "- calculate loss\n",
        "- backprop\n",
        "- update weights"
      ],
      "id": "fe855d53"
    },
    {
      "cell_type": "code",
      "metadata": {
        "id": "13ee2de9",
        "cellView": "form"
      },
      "source": [
        "#@title\n",
        "def train_step(model, images, labels, loss_func, optim, device):\n",
        "    \n",
        "    # Set the gradiant values to zero because torch accumulates the values\n",
        "    optim.zero_grad()\n",
        "    \n",
        "    # Predictions from the model\n",
        "    outputs = model(images.to(device))\n",
        "    \n",
        "    # Calculate the loss\n",
        "    loss = loss_func(outputs, labels.to(device))\n",
        "    \n",
        "    # Finds the derivative by applying chain rule\n",
        "    loss.backward()\n",
        "    \n",
        "    # Move the loss function towards the local/global minima\n",
        "    optim.step()\n",
        "    \n",
        "    # return the outputs and loss by moving them to CPU\n",
        "    return outputs.cpu().detach().numpy(), loss.cpu().item()"
      ],
      "id": "13ee2de9",
      "execution_count": 6,
      "outputs": []
    },
    {
      "cell_type": "code",
      "metadata": {
        "id": "189feb1e",
        "cellView": "form"
      },
      "source": [
        "#@title\n",
        "def epoch(model, train_loader, loss_func, optim, device):\n",
        "    mean_loss = 0\n",
        "    model = model.to(device)\n",
        "    for image, label in tqdm(train_loader):\n",
        "        loss = train_step(model, image, label, loss_func, optim, device)\n",
        "        mean_loss += loss/len(train_loader)\n",
        "    return mean_loss"
      ],
      "id": "189feb1e",
      "execution_count": 7,
      "outputs": []
    },
    {
      "cell_type": "markdown",
      "metadata": {
        "id": "5581ab57"
      },
      "source": [
        "5. Build a training loop\n",
        "    1. Move to GPU\n",
        "    2. Define the training function\n",
        "    3. Calculate the running loss and store the same in list and later convert to np array and save the np array.\n",
        "    4. Calculate the accuracy after every batch. Calculate the average of same and store the values in a list \n",
        "       and later convert it to np array and save theh np array.\n",
        "    5. After every epoch, test the model loss and accuracy \n",
        "       (by following the same steps as done for training ie, move to list, convert to np array, save the np array) with the test data.\n"
      ],
      "id": "5581ab57"
    },
    {
      "cell_type": "code",
      "metadata": {
        "id": "q6ODPoX3jMTJ"
      },
      "source": [
        "def epoch(model, test_loader ,train_loader, loss_func, optim, device):\n",
        "\n",
        "  #  train_loss_vals = []\n",
        "  #  train_accuracy_vals = []\n",
        "   test_loss_vals = []\n",
        "   test_accuracy_vals = []\n",
        "\n",
        "   train_batch_loss = 0\n",
        "   train_batch_accuracy = 0\n",
        "\n",
        "   model = model.to(device)\n",
        "\n",
        "   print(\"\\n\\t\\tTraining the Neural Network... \\n\")\n",
        "   \n",
        "   train_metrics = tqdm(total=len(train_loader), position=1, bar_format='{desc}', leave=True)\n",
        "   test_metrics = tqdm(total=len(test_loader), position=3, bar_format='{desc}')\n",
        "\n",
        "   with tqdm(len(train_loader), position=0, leave=True) as pbar:\n",
        "    for image, label in tnrange(train_loader, ncols=100, position=0, leave=True):\n",
        "\n",
        "        optim.zero_grad()\n",
        "        \n",
        "        output = model(image.to(device))\n",
        "        \n",
        "        loss = loss_func(\n",
        "          output,\n",
        "          label.to(device)\n",
        "          )\n",
        "        \n",
        "        loss.backward()\n",
        "        optim.step()\n",
        "\n",
        "        accuracy = np.average(\n",
        "              np.argmax(\n",
        "                output.cpu().detach().numpy(), axis=1) == label.cpu().detach().numpy()\n",
        "          )\n",
        "\n",
        "        # train_loss_vals.append(loss.cpu().item()) # training loss for graph\n",
        "        train_batch_loss += loss/len(train_loader) # training average loss\n",
        "        # train_accuracy_vals.append(accuracy) # training accuray for graph\n",
        "        train_batch_accuracy += accuracy/len(train_loader) # training average accuracy\n",
        "        train_metrics.write(f\"Loss: {train_batch_loss:.2f}  Accuracy: {train_batch_accuracy:.2f}\")\n",
        "        train_metrics.update()\n",
        "        pbar.update()\n",
        "   \n",
        "   print(\"\\n\\t\\tValidating Neural Network... \\n\")\n",
        "\n",
        "   with tqdm(len(test_loader), position=2, leave=True) as pbar:\n",
        "    for image, label in trange(len(test_loader), ncols=100, position=0, leave=True):\n",
        "\n",
        "        output = model(image.to(device))\n",
        "\n",
        "        loss = loss_func(\n",
        "          output,\n",
        "          label.to(device)\n",
        "        )\n",
        "\n",
        "        accuracy = np.average(\n",
        "          np.argmax(\n",
        "              output.cpu().detach().numpy(), axis=1) == label.cpu().detach().numpy()\n",
        "          )\n",
        "\n",
        "        test_loss_vals.append(loss.cpu().item()) # testing loss for graph\n",
        "        test_accuracy_vals.append(accuracy) # testing accuracy for graph\n",
        "        test_metrics.set_description_str(f\"Test loss: {(sum(test_loss_vals)/len(test_loss_vals)):.2f}\\n{(sum(test_accuracy_vals)/len(test_accuracy_vals)):.2f}\")\n",
        "\n",
        "        pbar.update()\n",
        "\n",
        "   return (\n",
        "\n",
        "      # TRAIN LOSS\n",
        "      # train_loss_vals, # list 0\n",
        "      train_batch_loss, # float 1\n",
        "\n",
        "      # TRAIN ACCURACY\n",
        "      # train_accuracy_vals, # list 2\n",
        "      train_batch_accuracy, # float 3\n",
        "\n",
        "      # TEST LOSS, ACCURACY\n",
        "      sum(test_loss_vals)/len(test_loss_vals), # list 4\n",
        "      sum(test_accuracy_vals)/len(test_accuracy_vals) # list 5\n",
        "   )"
      ],
      "id": "q6ODPoX3jMTJ",
      "execution_count": 40,
      "outputs": []
    },
    {
      "cell_type": "code",
      "metadata": {
        "id": "8a99f6dd"
      },
      "source": [
        "vals = epoch(net, test_loader ,train_loader, loss_func, optimizer, device)"
      ],
      "id": "8a99f6dd",
      "execution_count": null,
      "outputs": []
    },
    {
      "cell_type": "code",
      "metadata": {
        "id": "3f150980"
      },
      "source": [
        "net =  Net()\n",
        "net = net.to(device)\n",
        "loss_func = nn.CrossEntropyLoss()\n",
        "optimizer = optim.SGD(net.parameters(), lr=0.0005, momentum=0.9)"
      ],
      "id": "3f150980",
      "execution_count": 6,
      "outputs": []
    },
    {
      "cell_type": "code",
      "metadata": {
        "id": "edea2240",
        "colab": {
          "base_uri": "https://localhost:8080/",
          "height": 336
        },
        "outputId": "ede5c234-310e-4d5f-86f3-032ae91c15d9"
      },
      "source": [
        "fig, a = plt.subplots(1,4, squeeze=False, figsize=(17,5))\n",
        "a[0][0].plot(vals[0])\n",
        "a[0][0].set_title(\"Train Loss\")\n",
        "a[0][1].plot(vals[2])\n",
        "a[0][1].set_title(\"Train accuracy\")\n",
        "a[0][2].plot(vals[4])\n",
        "a[0][2].set_title(\"Test loss\")\n",
        "a[0][3].plot(vals[5])\n",
        "a[0][3].set_title(\"Test accuracy\")\n",
        "plt.show()"
      ],
      "id": "edea2240",
      "execution_count": 28,
      "outputs": [
        {
          "output_type": "display_data",
          "data": {
            "image/png": "[encoded data removed]",
            "text/plain": [
              "<Figure size 1224x360 with 4 Axes>"
            ]
          },
          "metadata": {
            "tags": [],
            "needs_background": "light"
          }
        }
      ]
    },
    {
      "cell_type": "code",
      "metadata": {
        "id": "ca77aa26"
      },
      "source": [
        "EPOCH = 1\n",
        "PATH = \"./dataset/waifus/models/\"\n",
        "MODEL1 = \"3conv_3RLU_3MP2d_1d_crossentropy_sgd.pt\"\n",
        "LOSS = 1.9"
      ],
      "id": "ca77aa26",
      "execution_count": null,
      "outputs": []
    },
    {
      "cell_type": "code",
      "metadata": {
        "id": "b48c5658"
      },
      "source": [
        "# Save the model\n",
        "torch.save({\n",
        "    'epoch': EPOCH,\n",
        "    'model_state_dict': net.state_dict(),\n",
        "    'optimizer_state_dict': optimizer.state_dict(),\n",
        "    'loss': LOSS\n",
        "}, \n",
        "    PATH+MODEL1)"
      ],
      "id": "b48c5658",
      "execution_count": null,
      "outputs": []
    },
    {
      "cell_type": "code",
      "metadata": {
        "id": "b6b2af55"
      },
      "source": [
        "# Load the saved model\n",
        "checkpoint = torch.load(PATH+MODEL1)\n",
        "net.load_state_dict(checkpoint['model_state_dict'])\n",
        "optimizer.load_state_dict(checkpoint['optimizer_state_dict'])"
      ],
      "id": "b6b2af55",
      "execution_count": null,
      "outputs": []
    }
  ]
}